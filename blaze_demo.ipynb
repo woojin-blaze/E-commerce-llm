{
  "cells": [
    {
      "cell_type": "markdown",
      "metadata": {
        "id": "view-in-github",
        "colab_type": "text"
      },
      "source": [
        "<a href=\"https://colab.research.google.com/github/woojin-blaze/E-commerce-llm/blob/main/blaze_demo.ipynb\" target=\"_parent\"><img src=\"https://colab.research.google.com/assets/colab-badge.svg\" alt=\"Open In Colab\"/></a>"
      ]
    },
    {
      "cell_type": "code",
      "execution_count": null,
      "metadata": {
        "colab": {
          "background_save": true,
          "base_uri": "https://localhost:8080/"
        },
        "id": "0LGuq8WohDYh",
        "outputId": "9d53bc7e-7bbf-4953-fc72-88d99c0e00cd"
      },
      "outputs": [
        {
          "name": "stdout",
          "output_type": "stream",
          "text": [
            "Collecting accelerate\n",
            "  Downloading accelerate-0.31.0-py3-none-any.whl (309 kB)\n",
            "\u001b[2K     \u001b[90m━━━━━━━━━━━━━━━━━━━━━━━━━━━━━━━━━━━━━━━━\u001b[0m \u001b[32m309.4/309.4 kB\u001b[0m \u001b[31m8.2 MB/s\u001b[0m eta \u001b[36m0:00:00\u001b[0m\n",
            "\u001b[?25hCollecting peft\n",
            "  Downloading peft-0.11.1-py3-none-any.whl (251 kB)\n",
            "\u001b[2K     \u001b[90m━━━━━━━━━━━━━━━━━━━━━━━━━━━━━━━━━━━━━━━━\u001b[0m \u001b[32m251.6/251.6 kB\u001b[0m \u001b[31m28.1 MB/s\u001b[0m eta \u001b[36m0:00:00\u001b[0m\n",
            "\u001b[?25hCollecting bitsandbytes\n",
            "  Downloading bitsandbytes-0.43.1-py3-none-manylinux_2_24_x86_64.whl (119.8 MB)\n",
            "\u001b[2K     \u001b[90m━━━━━━━━━━━━━━━━━━━━━━━━━━━━━━━━━━━━━━━━\u001b[0m \u001b[32m119.8/119.8 MB\u001b[0m \u001b[31m13.1 MB/s\u001b[0m eta \u001b[36m0:00:00\u001b[0m\n",
            "\u001b[?25hRequirement already satisfied: transformers in /usr/local/lib/python3.10/dist-packages (4.41.2)\n",
            "Collecting trl\n",
            "  Downloading trl-0.9.4-py3-none-any.whl (226 kB)\n",
            "\u001b[2K     \u001b[90m━━━━━━━━━━━━━━━━━━━━━━━━━━━━━━━━━━━━━━━━\u001b[0m \u001b[32m226.7/226.7 kB\u001b[0m \u001b[31m28.4 MB/s\u001b[0m eta \u001b[36m0:00:00\u001b[0m\n",
            "\u001b[?25hRequirement already satisfied: numpy>=1.17 in /usr/local/lib/python3.10/dist-packages (from accelerate) (1.25.2)\n",
            "Requirement already satisfied: packaging>=20.0 in /usr/local/lib/python3.10/dist-packages (from accelerate) (24.1)\n",
            "Requirement already satisfied: psutil in /usr/local/lib/python3.10/dist-packages (from accelerate) (5.9.5)\n",
            "Requirement already satisfied: pyyaml in /usr/local/lib/python3.10/dist-packages (from accelerate) (6.0.1)\n",
            "Requirement already satisfied: torch>=1.10.0 in /usr/local/lib/python3.10/dist-packages (from accelerate) (2.3.0+cu121)\n",
            "Requirement already satisfied: huggingface-hub in /usr/local/lib/python3.10/dist-packages (from accelerate) (0.23.4)\n",
            "Requirement already satisfied: safetensors>=0.3.1 in /usr/local/lib/python3.10/dist-packages (from accelerate) (0.4.3)\n",
            "Requirement already satisfied: tqdm in /usr/local/lib/python3.10/dist-packages (from peft) (4.66.4)\n",
            "Requirement already satisfied: filelock in /usr/local/lib/python3.10/dist-packages (from transformers) (3.15.1)\n",
            "Requirement already satisfied: regex!=2019.12.17 in /usr/local/lib/python3.10/dist-packages (from transformers) (2024.5.15)\n",
            "Requirement already satisfied: requests in /usr/local/lib/python3.10/dist-packages (from transformers) (2.31.0)\n",
            "Requirement already satisfied: tokenizers<0.20,>=0.19 in /usr/local/lib/python3.10/dist-packages (from transformers) (0.19.1)\n",
            "Collecting datasets (from trl)\n",
            "  Downloading datasets-2.20.0-py3-none-any.whl (547 kB)\n",
            "\u001b[2K     \u001b[90m━━━━━━━━━━━━━━━━━━━━━━━━━━━━━━━━━━━━━━━━\u001b[0m \u001b[32m547.8/547.8 kB\u001b[0m \u001b[31m54.0 MB/s\u001b[0m eta \u001b[36m0:00:00\u001b[0m\n",
            "\u001b[?25hCollecting tyro>=0.5.11 (from trl)\n",
            "  Downloading tyro-0.8.4-py3-none-any.whl (102 kB)\n",
            "\u001b[2K     \u001b[90m━━━━━━━━━━━━━━━━━━━━━━━━━━━━━━━━━━━━━━━━\u001b[0m \u001b[32m102.4/102.4 kB\u001b[0m \u001b[31m15.1 MB/s\u001b[0m eta \u001b[36m0:00:00\u001b[0m\n",
            "\u001b[?25hRequirement already satisfied: fsspec>=2023.5.0 in /usr/local/lib/python3.10/dist-packages (from huggingface-hub->accelerate) (2023.6.0)\n",
            "Requirement already satisfied: typing-extensions>=3.7.4.3 in /usr/local/lib/python3.10/dist-packages (from huggingface-hub->accelerate) (4.12.2)\n",
            "Requirement already satisfied: sympy in /usr/local/lib/python3.10/dist-packages (from torch>=1.10.0->accelerate) (1.12.1)\n",
            "Requirement already satisfied: networkx in /usr/local/lib/python3.10/dist-packages (from torch>=1.10.0->accelerate) (3.3)\n",
            "Requirement already satisfied: jinja2 in /usr/local/lib/python3.10/dist-packages (from torch>=1.10.0->accelerate) (3.1.4)\n",
            "Collecting nvidia-cuda-nvrtc-cu12==12.1.105 (from torch>=1.10.0->accelerate)\n",
            "  Using cached nvidia_cuda_nvrtc_cu12-12.1.105-py3-none-manylinux1_x86_64.whl (23.7 MB)\n",
            "Collecting nvidia-cuda-runtime-cu12==12.1.105 (from torch>=1.10.0->accelerate)\n",
            "  Using cached nvidia_cuda_runtime_cu12-12.1.105-py3-none-manylinux1_x86_64.whl (823 kB)\n",
            "Collecting nvidia-cuda-cupti-cu12==12.1.105 (from torch>=1.10.0->accelerate)\n",
            "  Using cached nvidia_cuda_cupti_cu12-12.1.105-py3-none-manylinux1_x86_64.whl (14.1 MB)\n",
            "Collecting nvidia-cudnn-cu12==8.9.2.26 (from torch>=1.10.0->accelerate)\n",
            "  Using cached nvidia_cudnn_cu12-8.9.2.26-py3-none-manylinux1_x86_64.whl (731.7 MB)\n",
            "Collecting nvidia-cublas-cu12==12.1.3.1 (from torch>=1.10.0->accelerate)\n",
            "  Using cached nvidia_cublas_cu12-12.1.3.1-py3-none-manylinux1_x86_64.whl (410.6 MB)\n",
            "Collecting nvidia-cufft-cu12==11.0.2.54 (from torch>=1.10.0->accelerate)\n",
            "  Using cached nvidia_cufft_cu12-11.0.2.54-py3-none-manylinux1_x86_64.whl (121.6 MB)\n",
            "Collecting nvidia-curand-cu12==10.3.2.106 (from torch>=1.10.0->accelerate)\n",
            "  Using cached nvidia_curand_cu12-10.3.2.106-py3-none-manylinux1_x86_64.whl (56.5 MB)\n",
            "Collecting nvidia-cusolver-cu12==11.4.5.107 (from torch>=1.10.0->accelerate)\n",
            "  Using cached nvidia_cusolver_cu12-11.4.5.107-py3-none-manylinux1_x86_64.whl (124.2 MB)\n",
            "Collecting nvidia-cusparse-cu12==12.1.0.106 (from torch>=1.10.0->accelerate)\n",
            "  Using cached nvidia_cusparse_cu12-12.1.0.106-py3-none-manylinux1_x86_64.whl (196.0 MB)\n",
            "Collecting nvidia-nccl-cu12==2.20.5 (from torch>=1.10.0->accelerate)\n",
            "  Using cached nvidia_nccl_cu12-2.20.5-py3-none-manylinux2014_x86_64.whl (176.2 MB)\n",
            "Collecting nvidia-nvtx-cu12==12.1.105 (from torch>=1.10.0->accelerate)\n",
            "  Using cached nvidia_nvtx_cu12-12.1.105-py3-none-manylinux1_x86_64.whl (99 kB)\n",
            "Requirement already satisfied: triton==2.3.0 in /usr/local/lib/python3.10/dist-packages (from torch>=1.10.0->accelerate) (2.3.0)\n",
            "Collecting nvidia-nvjitlink-cu12 (from nvidia-cusolver-cu12==11.4.5.107->torch>=1.10.0->accelerate)\n",
            "  Downloading nvidia_nvjitlink_cu12-12.5.40-py3-none-manylinux2014_x86_64.whl (21.3 MB)\n",
            "\u001b[2K     \u001b[90m━━━━━━━━━━━━━━━━━━━━━━━━━━━━━━━━━━━━━━━━\u001b[0m \u001b[32m21.3/21.3 MB\u001b[0m \u001b[31m71.9 MB/s\u001b[0m eta \u001b[36m0:00:00\u001b[0m\n",
            "\u001b[?25hRequirement already satisfied: docstring-parser>=0.14.1 in /usr/local/lib/python3.10/dist-packages (from tyro>=0.5.11->trl) (0.16)\n",
            "Requirement already satisfied: rich>=11.1.0 in /usr/local/lib/python3.10/dist-packages (from tyro>=0.5.11->trl) (13.7.1)\n",
            "Collecting shtab>=1.5.6 (from tyro>=0.5.11->trl)\n",
            "  Downloading shtab-1.7.1-py3-none-any.whl (14 kB)\n",
            "Collecting pyarrow>=15.0.0 (from datasets->trl)\n",
            "  Downloading pyarrow-16.1.0-cp310-cp310-manylinux_2_28_x86_64.whl (40.8 MB)\n",
            "\u001b[2K     \u001b[90m━━━━━━━━━━━━━━━━━━━━━━━━━━━━━━━━━━━━━━━━\u001b[0m \u001b[32m40.8/40.8 MB\u001b[0m \u001b[31m41.8 MB/s\u001b[0m eta \u001b[36m0:00:00\u001b[0m\n",
            "\u001b[?25hRequirement already satisfied: pyarrow-hotfix in /usr/local/lib/python3.10/dist-packages (from datasets->trl) (0.6)\n",
            "Collecting dill<0.3.9,>=0.3.0 (from datasets->trl)\n",
            "  Downloading dill-0.3.8-py3-none-any.whl (116 kB)\n",
            "\u001b[2K     \u001b[90m━━━━━━━━━━━━━━━━━━━━━━━━━━━━━━━━━━━━━━━━\u001b[0m \u001b[32m116.3/116.3 kB\u001b[0m \u001b[31m19.6 MB/s\u001b[0m eta \u001b[36m0:00:00\u001b[0m\n",
            "\u001b[?25hRequirement already satisfied: pandas in /usr/local/lib/python3.10/dist-packages (from datasets->trl) (2.0.3)\n",
            "Collecting requests (from transformers)\n",
            "  Downloading requests-2.32.3-py3-none-any.whl (64 kB)\n",
            "\u001b[2K     \u001b[90m━━━━━━━━━━━━━━━━━━━━━━━━━━━━━━━━━━━━━━━━\u001b[0m \u001b[32m64.9/64.9 kB\u001b[0m \u001b[31m11.3 MB/s\u001b[0m eta \u001b[36m0:00:00\u001b[0m\n",
            "\u001b[?25hCollecting xxhash (from datasets->trl)\n",
            "  Downloading xxhash-3.4.1-cp310-cp310-manylinux_2_17_x86_64.manylinux2014_x86_64.whl (194 kB)\n",
            "\u001b[2K     \u001b[90m━━━━━━━━━━━━━━━━━━━━━━━━━━━━━━━━━━━━━━━━\u001b[0m \u001b[32m194.1/194.1 kB\u001b[0m \u001b[31m27.3 MB/s\u001b[0m eta \u001b[36m0:00:00\u001b[0m\n",
            "\u001b[?25hCollecting multiprocess (from datasets->trl)\n",
            "  Downloading multiprocess-0.70.16-py310-none-any.whl (134 kB)\n",
            "\u001b[2K     \u001b[90m━━━━━━━━━━━━━━━━━━━━━━━━━━━━━━━━━━━━━━━━\u001b[0m \u001b[32m134.8/134.8 kB\u001b[0m \u001b[31m19.3 MB/s\u001b[0m eta \u001b[36m0:00:00\u001b[0m\n",
            "\u001b[?25hRequirement already satisfied: aiohttp in /usr/local/lib/python3.10/dist-packages (from datasets->trl) (3.9.5)\n",
            "Requirement already satisfied: charset-normalizer<4,>=2 in /usr/local/lib/python3.10/dist-packages (from requests->transformers) (3.3.2)\n",
            "Requirement already satisfied: idna<4,>=2.5 in /usr/local/lib/python3.10/dist-packages (from requests->transformers) (3.7)\n",
            "Requirement already satisfied: urllib3<3,>=1.21.1 in /usr/local/lib/python3.10/dist-packages (from requests->transformers) (2.0.7)\n",
            "Requirement already satisfied: certifi>=2017.4.17 in /usr/local/lib/python3.10/dist-packages (from requests->transformers) (2024.6.2)\n",
            "Requirement already satisfied: aiosignal>=1.1.2 in /usr/local/lib/python3.10/dist-packages (from aiohttp->datasets->trl) (1.3.1)\n",
            "Requirement already satisfied: attrs>=17.3.0 in /usr/local/lib/python3.10/dist-packages (from aiohttp->datasets->trl) (23.2.0)\n",
            "Requirement already satisfied: frozenlist>=1.1.1 in /usr/local/lib/python3.10/dist-packages (from aiohttp->datasets->trl) (1.4.1)\n",
            "Requirement already satisfied: multidict<7.0,>=4.5 in /usr/local/lib/python3.10/dist-packages (from aiohttp->datasets->trl) (6.0.5)\n",
            "Requirement already satisfied: yarl<2.0,>=1.0 in /usr/local/lib/python3.10/dist-packages (from aiohttp->datasets->trl) (1.9.4)\n",
            "Requirement already satisfied: async-timeout<5.0,>=4.0 in /usr/local/lib/python3.10/dist-packages (from aiohttp->datasets->trl) (4.0.3)\n",
            "Requirement already satisfied: markdown-it-py>=2.2.0 in /usr/local/lib/python3.10/dist-packages (from rich>=11.1.0->tyro>=0.5.11->trl) (3.0.0)\n",
            "Requirement already satisfied: pygments<3.0.0,>=2.13.0 in /usr/local/lib/python3.10/dist-packages (from rich>=11.1.0->tyro>=0.5.11->trl) (2.16.1)\n",
            "Requirement already satisfied: MarkupSafe>=2.0 in /usr/local/lib/python3.10/dist-packages (from jinja2->torch>=1.10.0->accelerate) (2.1.5)\n",
            "Requirement already satisfied: python-dateutil>=2.8.2 in /usr/local/lib/python3.10/dist-packages (from pandas->datasets->trl) (2.8.2)\n",
            "Requirement already satisfied: pytz>=2020.1 in /usr/local/lib/python3.10/dist-packages (from pandas->datasets->trl) (2023.4)\n",
            "Requirement already satisfied: tzdata>=2022.1 in /usr/local/lib/python3.10/dist-packages (from pandas->datasets->trl) (2024.1)\n",
            "Requirement already satisfied: mpmath<1.4.0,>=1.1.0 in /usr/local/lib/python3.10/dist-packages (from sympy->torch>=1.10.0->accelerate) (1.3.0)\n",
            "Requirement already satisfied: mdurl~=0.1 in /usr/local/lib/python3.10/dist-packages (from markdown-it-py>=2.2.0->rich>=11.1.0->tyro>=0.5.11->trl) (0.1.2)\n",
            "Requirement already satisfied: six>=1.5 in /usr/local/lib/python3.10/dist-packages (from python-dateutil>=2.8.2->pandas->datasets->trl) (1.16.0)\n",
            "Installing collected packages: xxhash, shtab, requests, pyarrow, nvidia-nvtx-cu12, nvidia-nvjitlink-cu12, nvidia-nccl-cu12, nvidia-curand-cu12, nvidia-cufft-cu12, nvidia-cuda-runtime-cu12, nvidia-cuda-nvrtc-cu12, nvidia-cuda-cupti-cu12, nvidia-cublas-cu12, dill, nvidia-cusparse-cu12, nvidia-cudnn-cu12, multiprocess, tyro, nvidia-cusolver-cu12, datasets, bitsandbytes, accelerate, trl, peft\n",
            "  Attempting uninstall: requests\n",
            "    Found existing installation: requests 2.31.0\n",
            "    Uninstalling requests-2.31.0:\n",
            "      Successfully uninstalled requests-2.31.0\n",
            "  Attempting uninstall: pyarrow\n",
            "    Found existing installation: pyarrow 14.0.2\n",
            "    Uninstalling pyarrow-14.0.2:\n",
            "      Successfully uninstalled pyarrow-14.0.2\n",
            "\u001b[31mERROR: pip's dependency resolver does not currently take into account all the packages that are installed. This behaviour is the source of the following dependency conflicts.\n",
            "cudf-cu12 24.4.1 requires pyarrow<15.0.0a0,>=14.0.1, but you have pyarrow 16.1.0 which is incompatible.\n",
            "google-colab 1.0.0 requires requests==2.31.0, but you have requests 2.32.3 which is incompatible.\n",
            "ibis-framework 8.0.0 requires pyarrow<16,>=2, but you have pyarrow 16.1.0 which is incompatible.\u001b[0m\u001b[31m\n",
            "\u001b[0mSuccessfully installed accelerate-0.31.0 bitsandbytes-0.43.1 datasets-2.20.0 dill-0.3.8 multiprocess-0.70.16 nvidia-cublas-cu12-12.1.3.1 nvidia-cuda-cupti-cu12-12.1.105 nvidia-cuda-nvrtc-cu12-12.1.105 nvidia-cuda-runtime-cu12-12.1.105 nvidia-cudnn-cu12-8.9.2.26 nvidia-cufft-cu12-11.0.2.54 nvidia-curand-cu12-10.3.2.106 nvidia-cusolver-cu12-11.4.5.107 nvidia-cusparse-cu12-12.1.0.106 nvidia-nccl-cu12-2.20.5 nvidia-nvjitlink-cu12-12.5.40 nvidia-nvtx-cu12-12.1.105 peft-0.11.1 pyarrow-16.1.0 requests-2.32.3 shtab-1.7.1 trl-0.9.4 tyro-0.8.4 xxhash-3.4.1\n"
          ]
        }
      ],
      "source": [
        "!pip install accelerate peft bitsandbytes transformers trl"
      ]
    },
    {
      "cell_type": "code",
      "execution_count": null,
      "metadata": {
        "colab": {
          "background_save": true
        },
        "id": "5hRr3DfQAixm",
        "outputId": "aba98644-e746-4c71-b827-8ec4fbfc7bfb"
      },
      "outputs": [
        {
          "name": "stdout",
          "output_type": "stream",
          "text": [
            "Requirement already satisfied: datasets in /usr/local/lib/python3.10/dist-packages (2.20.0)\n",
            "Requirement already satisfied: filelock in /usr/local/lib/python3.10/dist-packages (from datasets) (3.15.1)\n",
            "Requirement already satisfied: numpy>=1.17 in /usr/local/lib/python3.10/dist-packages (from datasets) (1.25.2)\n",
            "Requirement already satisfied: pyarrow>=15.0.0 in /usr/local/lib/python3.10/dist-packages (from datasets) (16.1.0)\n",
            "Requirement already satisfied: pyarrow-hotfix in /usr/local/lib/python3.10/dist-packages (from datasets) (0.6)\n",
            "Requirement already satisfied: dill<0.3.9,>=0.3.0 in /usr/local/lib/python3.10/dist-packages (from datasets) (0.3.8)\n",
            "Requirement already satisfied: pandas in /usr/local/lib/python3.10/dist-packages (from datasets) (2.0.3)\n",
            "Requirement already satisfied: requests>=2.32.2 in /usr/local/lib/python3.10/dist-packages (from datasets) (2.32.3)\n",
            "Requirement already satisfied: tqdm>=4.66.3 in /usr/local/lib/python3.10/dist-packages (from datasets) (4.66.4)\n",
            "Requirement already satisfied: xxhash in /usr/local/lib/python3.10/dist-packages (from datasets) (3.4.1)\n",
            "Requirement already satisfied: multiprocess in /usr/local/lib/python3.10/dist-packages (from datasets) (0.70.16)\n",
            "Requirement already satisfied: fsspec[http]<=2024.5.0,>=2023.1.0 in /usr/local/lib/python3.10/dist-packages (from datasets) (2023.6.0)\n",
            "Requirement already satisfied: aiohttp in /usr/local/lib/python3.10/dist-packages (from datasets) (3.9.5)\n",
            "Requirement already satisfied: huggingface-hub>=0.21.2 in /usr/local/lib/python3.10/dist-packages (from datasets) (0.23.4)\n",
            "Requirement already satisfied: packaging in /usr/local/lib/python3.10/dist-packages (from datasets) (24.1)\n",
            "Requirement already satisfied: pyyaml>=5.1 in /usr/local/lib/python3.10/dist-packages (from datasets) (6.0.1)\n",
            "Requirement already satisfied: aiosignal>=1.1.2 in /usr/local/lib/python3.10/dist-packages (from aiohttp->datasets) (1.3.1)\n",
            "Requirement already satisfied: attrs>=17.3.0 in /usr/local/lib/python3.10/dist-packages (from aiohttp->datasets) (23.2.0)\n",
            "Requirement already satisfied: frozenlist>=1.1.1 in /usr/local/lib/python3.10/dist-packages (from aiohttp->datasets) (1.4.1)\n",
            "Requirement already satisfied: multidict<7.0,>=4.5 in /usr/local/lib/python3.10/dist-packages (from aiohttp->datasets) (6.0.5)\n",
            "Requirement already satisfied: yarl<2.0,>=1.0 in /usr/local/lib/python3.10/dist-packages (from aiohttp->datasets) (1.9.4)\n",
            "Requirement already satisfied: async-timeout<5.0,>=4.0 in /usr/local/lib/python3.10/dist-packages (from aiohttp->datasets) (4.0.3)\n",
            "Requirement already satisfied: typing-extensions>=3.7.4.3 in /usr/local/lib/python3.10/dist-packages (from huggingface-hub>=0.21.2->datasets) (4.12.2)\n",
            "Requirement already satisfied: charset-normalizer<4,>=2 in /usr/local/lib/python3.10/dist-packages (from requests>=2.32.2->datasets) (3.3.2)\n",
            "Requirement already satisfied: idna<4,>=2.5 in /usr/local/lib/python3.10/dist-packages (from requests>=2.32.2->datasets) (3.7)\n",
            "Requirement already satisfied: urllib3<3,>=1.21.1 in /usr/local/lib/python3.10/dist-packages (from requests>=2.32.2->datasets) (2.0.7)\n",
            "Requirement already satisfied: certifi>=2017.4.17 in /usr/local/lib/python3.10/dist-packages (from requests>=2.32.2->datasets) (2024.6.2)\n",
            "Requirement already satisfied: python-dateutil>=2.8.2 in /usr/local/lib/python3.10/dist-packages (from pandas->datasets) (2.8.2)\n",
            "Requirement already satisfied: pytz>=2020.1 in /usr/local/lib/python3.10/dist-packages (from pandas->datasets) (2023.4)\n",
            "Requirement already satisfied: tzdata>=2022.1 in /usr/local/lib/python3.10/dist-packages (from pandas->datasets) (2024.1)\n",
            "Requirement already satisfied: six>=1.5 in /usr/local/lib/python3.10/dist-packages (from python-dateutil>=2.8.2->pandas->datasets) (1.16.0)\n"
          ]
        }
      ],
      "source": [
        "!pip install --upgrade datasets"
      ]
    },
    {
      "cell_type": "code",
      "execution_count": null,
      "metadata": {
        "colab": {
          "background_save": true
        },
        "id": "S10Wn54DAluo"
      },
      "outputs": [],
      "source": [
        "# Model from Hugging Face hub\n",
        "base_model = \"NousResearch/Llama-2-7b-chat-hf\"\n",
        "#base_model = \"beomi/OPEN-SOLAR-KO-10.7B\""
      ]
    },
    {
      "cell_type": "code",
      "execution_count": null,
      "metadata": {
        "colab": {
          "background_save": true
        },
        "id": "IQOf3XTAAv94"
      },
      "outputs": [],
      "source": [
        "import os\n",
        "import torch\n",
        "from datasets import load_dataset\n",
        "from transformers import (\n",
        "    AutoModelForCausalLM,\n",
        "    AutoTokenizer,\n",
        "    BitsAndBytesConfig,\n",
        "    TrainingArguments,\n",
        "    pipeline,\n",
        "    logging,\n",
        ")\n",
        "from peft import LoraConfig\n",
        "from trl import SFTTrainer"
      ]
    },
    {
      "cell_type": "code",
      "execution_count": null,
      "metadata": {
        "colab": {
          "background_save": true
        },
        "id": "YO5E4YBIlNPe",
        "outputId": "b0f4b823-3c29-49aa-fa09-f973ee256bf2"
      },
      "outputs": [
        {
          "name": "stdout",
          "output_type": "stream",
          "text": [
            "Drive already mounted at /content/drive; to attempt to forcibly remount, call drive.mount(\"/content/drive\", force_remount=True).\n",
            "data\t\t\t  data_labeling.ipynb  feature_addition.ipynb\t\tgenerated_text\n",
            "data_generation.ipynb\t  demo\t\t       finetuned_data_evaluation.ipynb\tinit.ipynb\n",
            "data_labeling_base.ipynb  eval\t\t       finetuning.ipynb\t\t\tresults\n"
          ]
        }
      ],
      "source": [
        "from google.colab import drive\n",
        "drive.mount('/content/drive')\n",
        "!ls \"/content/drive/MyDrive/창통설_Q조_프로젝트\""
      ]
    },
    {
      "cell_type": "code",
      "execution_count": null,
      "metadata": {
        "colab": {
          "background_save": true
        },
        "id": "ii-PxLiNgglA"
      },
      "outputs": [],
      "source": [
        "import gc\n",
        "gc.collect()\n",
        "torch.cuda.empty_cache()"
      ]
    },
    {
      "cell_type": "markdown",
      "metadata": {
        "id": "H-2DWWrLyjKt"
      },
      "source": [
        "저장한 모델 불러와보기"
      ]
    },
    {
      "cell_type": "code",
      "execution_count": null,
      "metadata": {
        "colab": {
          "background_save": true
        },
        "id": "NwfXW8DjyIFs"
      },
      "outputs": [],
      "source": [
        "from transformers import AutoModelForCausalLM, AutoTokenizer"
      ]
    },
    {
      "cell_type": "code",
      "execution_count": null,
      "metadata": {
        "colab": {
          "background_save": true
        },
        "id": "cuzR0gDK3Skn",
        "outputId": "0088e385-5e35-4b08-91b0-c96e8728cc26"
      },
      "outputs": [
        {
          "name": "stderr",
          "output_type": "stream",
          "text": [
            "/usr/local/lib/python3.10/dist-packages/huggingface_hub/file_download.py:1132: FutureWarning: `resume_download` is deprecated and will be removed in version 1.0.0. Downloads always resume when possible. If you want to force a new download, use `force_download=True`.\n",
            "  warnings.warn(\n"
          ]
        }
      ],
      "source": [
        "my_model_path = '/content/drive/MyDrive/창통설_Q조_프로젝트/results/llama-base-format-3epoch'\n",
        "\n",
        "my_model = AutoModelForCausalLM.from_pretrained(my_model_path)\n",
        "my_tokenizer = AutoTokenizer.from_pretrained(my_model_path)\n",
        "\n",
        "my_model_path2 = '/content/drive/MyDrive/창통설_Q조_프로젝트/results/solar-ko-3epoch'\n",
        "my_model2 = AutoModelForCausalLM.from_pretrained(my_model_path2)\n",
        "my_tokenizer2 = AutoTokenizer.from_pretrained(my_model_path2)"
      ]
    },
    {
      "cell_type": "code",
      "execution_count": null,
      "metadata": {
        "id": "C5rxbQWWWSKR"
      },
      "outputs": [],
      "source": [
        " import re\n",
        "\n",
        "def extract_response(response):\n",
        "\n",
        "    patterns = [\n",
        "        (r\"### Product Title:\\s*(.*?)(?=\\n###|$)\", \"Product Title\"),\n",
        "        (r\"### Related Keywords:\\s*(.*?)(?=\\n###|$)\", \"Related Keywords\"),\n",
        "        (r\"### Detailed Description:\\s*(.*?)(?=\\n###|$)\", \"Detailed Description\"),\n",
        "        (r\"Product title in Korean:\\s*(.*?)(?=\\n###|$)\", \"Product Title\"),\n",
        "        (r\"Product Title:\\s*(.*?)(?=\\n###|$)\", \"Product Title\"),\n",
        "        (r\"Detailed Description\\s*:\\s*(.*?)(?=\\n###|$)\", \"Detailed Description\"),\n",
        "        (r\"Related keywords:\\s*(.*?)(?=\\n###|$)\", \"Related Keywords\"),\n",
        "        (r\"\\[INST\\].*?\\[/INST\\]\\s*(.*?)(?=\\n###|$)\", \"General\"),\n",
        "        (r\"<s>\\[INST\\].*?\\[/INST\\]\\s*(.*?)(?=\\n###|$)\", \"General\")\n",
        "    ]\n",
        "\n",
        "    for pattern, type_ in patterns:\n",
        "        match = re.search(pattern, response, re.DOTALL)\n",
        "        if match:\n",
        "            title = match.group(1).strip()\n",
        "\n",
        "            if type_ == \"Related Keywords\":\n",
        "\n",
        "                title = re.sub(r\"[^\\[\\],가-힣\\s\\-\\d]\", \"\", title).strip()\n",
        "            else:\n",
        "\n",
        "                title = re.sub(r\"<\\/?s>|<\\/?INST>|raw source:.*\", \"\", title).strip()\n",
        "                title = re.sub(r\"[^가-힣\\s\\-\\d,]\", \"\", title).strip()\n",
        "\n",
        "            if re.search(r\"[가-힣]\", title):\n",
        "                return title\n",
        "\n",
        "    return \"No text found.\"\n",
        "\n"
      ]
    },
    {
      "cell_type": "code",
      "execution_count": null,
      "metadata": {
        "id": "vhWToddXleZW"
      },
      "outputs": [],
      "source": [
        "data1 = \"儿童智能手表电话定位防水触屏学生多功能运动计步器GPS追踪蓝色\"\n",
        "data2 = \"黑色牛津布商务电脑包男士2023新款多功能大容量简约手提斜挎公文包\"\n",
        "data3 = \"猫眼石项链女时尚2024新款简约个性银色链条配饰女士短款锁骨链\""
      ]
    },
    {
      "cell_type": "markdown",
      "metadata": {
        "id": "A4uDWK4tlkV1"
      },
      "source": [
        "본래는 구글 번역 API를 활용함.\n"
      ]
    },
    {
      "cell_type": "code",
      "execution_count": null,
      "metadata": {
        "id": "cqgsql1Pljr3"
      },
      "outputs": [],
      "source": [
        "data1_ko = \"어린이 스마트 시계 전화 위치 방수 터치 스크린 학생 다기능 스포츠 보수계 GPS 추적 블루\"\n",
        "data2_ko = \"남성용 블랙 옥스포드 천 비즈니스 컴퓨터 가방 2023 새로운 다기능 대용량 간단한 휴대용 크로스 바디 서류 가방\"\n",
        "data3_ko = \"고양이의 눈 목걸이 여성 패션 2024 새로운 간단한 맞춤형 실버 체인 액세서리 여성의 짧은 쇄골 체인\""
      ]
    },
    {
      "cell_type": "markdown",
      "metadata": {
        "id": "GKY7W88SrESN"
      },
      "source": [
        "Data Preprocessing (Simpler ver.)\n"
      ]
    },
    {
      "cell_type": "code",
      "execution_count": null,
      "metadata": {
        "id": "O8JHyIXTm2pU"
      },
      "outputs": [],
      "source": [
        "import pandas as pd\n",
        "product_title_inst = \"### Instruction: Given a raw source for a product, generate a coherent and relevant product title in Korean.\\n\"\n",
        "detailed_description_inst = \"### Instruction: Given a raw source for a product, generate five detailed descriptions in Korean. Each description should be relevant to the raw source.\\n\"\n",
        "related_keywords_inst = \"### Instruction: Given a raw source for a product, generate related search keywords in Korean that are relevant to the raw source and practically usable.\\n\"\n",
        "\n",
        "\n",
        "raw_source_format = \"### Raw Source:\"\n",
        "\n",
        "\n",
        "new_data = [\n",
        "    {'raw_source': data1_ko},\n",
        "    {'raw_source': data2_ko},\n",
        "    {'raw_source': data3_ko}\n",
        "]\n",
        "base_df = pd.DataFrame(new_data)\n",
        "\n",
        "\n",
        "title_data = []\n",
        "description_data = []\n",
        "keywords_data = []\n",
        "\n",
        "\n",
        "for index, row in base_df.iterrows():\n",
        "    title_data.append({\n",
        "        'text': product_title_inst + raw_source_format + row['raw_source'] + \"\\n### Product Title:\"\n",
        "    })\n",
        "    description_data.append({\n",
        "        'text': detailed_description_inst + raw_source_format + row['raw_source'] + \"\\n### Detailed Description:\"\n",
        "    })\n",
        "    keywords_data.append({\n",
        "        'text': related_keywords_inst + raw_source_format + row['raw_source'] + \"\\n### Related Keywords:\"\n",
        "    })\n",
        "\n",
        "\n",
        "title_df = pd.DataFrame(title_data)\n",
        "description_df = pd.DataFrame(description_data)\n",
        "keywords_df = pd.DataFrame(keywords_data)\n"
      ]
    },
    {
      "cell_type": "code",
      "execution_count": null,
      "metadata": {
        "id": "hkJN-iNhzOhD"
      },
      "outputs": [],
      "source": [
        "title_df['type'] = 'Product Title'\n",
        "description_df['type'] = 'Detailed Description'\n",
        "keywords_df['type'] = 'Related Keywords'"
      ]
    },
    {
      "cell_type": "code",
      "execution_count": null,
      "metadata": {
        "id": "USbO73hNq_O4"
      },
      "outputs": [],
      "source": [
        "combined_df = pd.concat([title_df, description_df], ignore_index=True)"
      ]
    },
    {
      "cell_type": "code",
      "execution_count": null,
      "metadata": {
        "id": "Z-Z6f_H0rAkV"
      },
      "outputs": [],
      "source": [
        "combined_df = pd.concat([combined_df, keywords_df], ignore_index=True)"
      ]
    },
    {
      "cell_type": "markdown",
      "metadata": {
        "id": "MfWdRv39rDRf"
      },
      "source": [
        "\n",
        "# **전처리 완료한 데이터**\n",
        "\n"
      ]
    },
    {
      "cell_type": "code",
      "execution_count": null,
      "metadata": {
        "id": "GnVdy-AprJLP"
      },
      "outputs": [],
      "source": [
        "pd.set_option('display.max_colwidth', None)\n",
        "combined_df"
      ]
    },
    {
      "cell_type": "markdown",
      "metadata": {
        "id": "i4YNrsu5SmUq"
      },
      "source": [
        "# **Llama2 Base 시연**"
      ]
    },
    {
      "cell_type": "code",
      "execution_count": null,
      "metadata": {
        "id": "kFZ2KhbdSnay"
      },
      "outputs": [],
      "source": [
        "import pandas as pd\n",
        "from transformers import pipeline, AutoModelForCausalLM, AutoTokenizer\n",
        "import time\n",
        "\n",
        "\n",
        "pipe_product_title = pipeline(task=\"text-generation\", model=my_model, tokenizer=my_tokenizer, max_length=256)\n",
        "pipe_detailed_description = pipeline(task=\"text-generation\", model=my_model, tokenizer=my_tokenizer, max_length=1024)\n",
        "pipe_search_keywords = pipeline(task=\"text-generation\", model=my_model, tokenizer=my_tokenizer, max_length=256)\n",
        "\n",
        "results = []\n",
        "\n",
        "#base_test = pd.read_csv(base_test_path)\n",
        "\n",
        "\n",
        "pipe_product_title = pipeline(task=\"text-generation\", model=my_model, tokenizer=my_tokenizer, max_length=256)\n",
        "pipe_detailed_description = pipeline(task=\"text-generation\", model=my_model, tokenizer=my_tokenizer, max_length=1024)\n",
        "pipe_search_keywords = pipeline(task=\"text-generation\", model=my_model, tokenizer=my_tokenizer, max_length=256)\n",
        "\n",
        "\n",
        "timing_info = {\n",
        "    \"Product Title\": {\"total_time\": 0, \"count\": 0},\n",
        "    \"Detailed Description\": {\"total_time\": 0, \"count\": 0},\n",
        "    \"Related Keywords\": {\"total_time\": 0, \"count\": 0}\n",
        "}\n",
        "\n",
        "results = []\n",
        "\n",
        "\n",
        "for index, row in combined_df.iterrows():\n",
        "\n",
        "\n",
        "    prompt = row['text']\n",
        "    result = None\n",
        "    start_time = time.time()\n",
        "\n",
        "    if row['type'] == \"Product Title\":\n",
        "        result = pipe_product_title(f\"{prompt}\")\n",
        "        timing_info[\"Product Title\"][\"count\"] += 1\n",
        "    elif row['type'] == \"Detailed Description\":\n",
        "        result = pipe_detailed_description(f\"{prompt}\")\n",
        "        timing_info[\"Detailed Description\"][\"count\"] += 1\n",
        "    elif row['type'] == \"Related Keywords\":\n",
        "        result = pipe_search_keywords(f\"{prompt}\")\n",
        "        timing_info[\"Related Keywords\"][\"count\"] += 1\n",
        "\n",
        "    end_time = time.time()\n",
        "    elapsed_time = end_time - start_time\n",
        "    timing_info[row['type']][\"total_time\"] += elapsed_time\n",
        "\n",
        "    if result:\n",
        "        generated_text = result[0]['generated_text']\n",
        "        ext = extract_response(generated_text)\n",
        "\n",
        "        print(f\"Prompt: {prompt}\")\n",
        "        print(f\"Generated Text: {generated_text}\")\n",
        "        print(\"\\n\" + ext)\n",
        "        print(\"-\" * 80)\n",
        "\n",
        "        results.append({\n",
        "            'prompt': prompt,\n",
        "            'type': row['type'],\n",
        "            'generated_text': ext,\n",
        "            'total': generated_text\n",
        "        })\n",
        "\n",
        "\n",
        "results_df = pd.DataFrame(results)\n",
        "\n",
        "\n",
        "for text_type, info in timing_info.items():\n",
        "    if info['count'] > 0:\n",
        "        average_time = info['total_time'] / info['count']\n",
        "        print(f\"Average time for {text_type}: {average_time:.2f} seconds\")\n",
        "\n",
        "\n",
        "\n",
        "\n",
        "\n"
      ]
    },
    {
      "cell_type": "code",
      "execution_count": null,
      "metadata": {
        "id": "IkFARSMn5qy4"
      },
      "outputs": [],
      "source": [
        "results_df = pd.DataFrame(results)"
      ]
    },
    {
      "cell_type": "code",
      "execution_count": null,
      "metadata": {
        "id": "WSIVjpdG5sYu"
      },
      "outputs": [],
      "source": [
        "for index, row in results_df.iterrows():\n",
        "  print(row[\"type\"]+\"\\n\")\n",
        "  print(row[\"generated_text\"]+\"\\n\")\n",
        "  print(\"---------------------------------------------------------------\")"
      ]
    },
    {
      "cell_type": "code",
      "execution_count": null,
      "metadata": {
        "id": "ji2JxHlomWF-"
      },
      "outputs": [],
      "source": [
        "import pandas as pd\n",
        "from transformers import pipeline, AutoModelForCausalLM, AutoTokenizer\n",
        "\n",
        "\n",
        "\n",
        "pipe_product_title = pipeline(task=\"text-generation\", model=my_model2, tokenizer=my_tokenizer2, max_length=256)\n",
        "pipe_detailed_description = pipeline(task=\"text-generation\", model=my_model2, tokenizer=my_tokenizer2, max_length=1024)\n",
        "pipe_search_keywords = pipeline(task=\"text-generation\", model=my_model2, tokenizer=my_tokenizer2, max_length=256)\n",
        "\n",
        "results = []\n",
        "\n",
        "for index, row in combined_df.iterrows():\n",
        "\n",
        "    prompt = row['text']\n",
        "    result = None\n",
        "\n",
        "    if row['type'] == \"Product Title\":\n",
        "        result = pipe_product_title(f\"{prompt}\")\n",
        "    elif row['type'] == \"Detailed Description\":\n",
        "        result = pipe_detailed_description(f\"{prompt}\")\n",
        "    elif row['type'] == \"Related Keywords\":\n",
        "        result = pipe_search_keywords(f\"{prompt}\")\n",
        "\n",
        "    if result:\n",
        "        generated_text = result[0]['generated_text']\n",
        "        ext = extract_response(generated_text)\n",
        "\n",
        "        print(f\"Prompt: {prompt}\")\n",
        "        #print(f\"Generated Text: {generated_text}\")\n",
        "        print(\"\\n\"+ext)\n",
        "        print(\"-\" * 80)\n",
        "\n",
        "        results.append({\n",
        "            'prompt': prompt,\n",
        "            'type': row['type'],\n",
        "            'generated_text': ext,\n",
        "            'total': generated_text\n",
        "        })\n",
        "\n",
        "\n",
        "\n",
        "results_df = pd.DataFrame(results)\n",
        "\n"
      ]
    },
    {
      "cell_type": "code",
      "execution_count": null,
      "metadata": {
        "id": "ZciuKCsNydzb"
      },
      "outputs": [],
      "source": []
    }
  ],
  "metadata": {
    "accelerator": "GPU",
    "colab": {
      "gpuType": "A100",
      "machine_shape": "hm",
      "provenance": [],
      "include_colab_link": true
    },
    "kernelspec": {
      "display_name": "Python 3",
      "name": "python3"
    },
    "language_info": {
      "name": "python"
    }
  },
  "nbformat": 4,
  "nbformat_minor": 0
}