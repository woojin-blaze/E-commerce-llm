{
 "cells": [
  {
   "cell_type": "code",
   "execution_count": 1,
   "metadata": {},
   "outputs": [
    {
     "name": "stdout",
     "output_type": "stream",
     "text": [
      "Requirement already satisfied: accelerate in /Users/kangwoojin/.pyenv/versions/3.11.5/lib/python3.11/site-packages (0.21.0)\n",
      "Requirement already satisfied: peft in /Users/kangwoojin/.pyenv/versions/3.11.5/lib/python3.11/site-packages (0.10.1.dev0)\n",
      "Requirement already satisfied: bitsandbytes in /Users/kangwoojin/.pyenv/versions/3.11.5/lib/python3.11/site-packages (0.37.2)\n",
      "Requirement already satisfied: transformers in /Users/kangwoojin/.pyenv/versions/3.11.5/lib/python3.11/site-packages (4.41.0.dev0)\n",
      "Requirement already satisfied: trl in /Users/kangwoojin/.pyenv/versions/3.11.5/lib/python3.11/site-packages (0.8.6)\n",
      "Requirement already satisfied: numpy>=1.17 in /Users/kangwoojin/.pyenv/versions/3.11.5/lib/python3.11/site-packages (from accelerate) (1.26.4)\n",
      "Requirement already satisfied: packaging>=20.0 in /Users/kangwoojin/.pyenv/versions/3.11.5/lib/python3.11/site-packages (from accelerate) (23.2)\n",
      "Requirement already satisfied: psutil in /Users/kangwoojin/.pyenv/versions/3.11.5/lib/python3.11/site-packages (from accelerate) (5.9.8)\n",
      "Requirement already satisfied: pyyaml in /Users/kangwoojin/.pyenv/versions/3.11.5/lib/python3.11/site-packages (from accelerate) (6.0.1)\n",
      "Requirement already satisfied: torch>=1.10.0 in /Users/kangwoojin/.pyenv/versions/3.11.5/lib/python3.11/site-packages (from accelerate) (2.0.0)\n",
      "Requirement already satisfied: tqdm in /Users/kangwoojin/.pyenv/versions/3.11.5/lib/python3.11/site-packages (from peft) (4.66.2)\n",
      "Requirement already satisfied: safetensors in /Users/kangwoojin/.pyenv/versions/3.11.5/lib/python3.11/site-packages (from peft) (0.4.3)\n",
      "Requirement already satisfied: huggingface-hub>=0.17.0 in /Users/kangwoojin/.pyenv/versions/3.11.5/lib/python3.11/site-packages (from peft) (0.23.0)\n",
      "Requirement already satisfied: filelock in /Users/kangwoojin/.pyenv/versions/3.11.5/lib/python3.11/site-packages (from transformers) (3.14.0)\n",
      "Requirement already satisfied: regex!=2019.12.17 in /Users/kangwoojin/.pyenv/versions/3.11.5/lib/python3.11/site-packages (from transformers) (2023.12.25)\n",
      "Requirement already satisfied: requests in /Users/kangwoojin/.pyenv/versions/3.11.5/lib/python3.11/site-packages (from transformers) (2.31.0)\n",
      "Requirement already satisfied: tokenizers<0.20,>=0.19 in /Users/kangwoojin/.pyenv/versions/3.11.5/lib/python3.11/site-packages (from transformers) (0.19.1)\n",
      "Requirement already satisfied: datasets in /Users/kangwoojin/.pyenv/versions/3.11.5/lib/python3.11/site-packages (from trl) (2.19.1)\n",
      "Requirement already satisfied: tyro>=0.5.11 in /Users/kangwoojin/.pyenv/versions/3.11.5/lib/python3.11/site-packages (from trl) (0.8.3)\n",
      "Requirement already satisfied: fsspec>=2023.5.0 in /Users/kangwoojin/.pyenv/versions/3.11.5/lib/python3.11/site-packages (from huggingface-hub>=0.17.0->peft) (2024.3.1)\n",
      "Requirement already satisfied: typing-extensions>=3.7.4.3 in /Users/kangwoojin/.pyenv/versions/3.11.5/lib/python3.11/site-packages (from huggingface-hub>=0.17.0->peft) (4.10.0)\n",
      "Requirement already satisfied: sympy in /Users/kangwoojin/.pyenv/versions/3.11.5/lib/python3.11/site-packages (from torch>=1.10.0->accelerate) (1.12)\n",
      "Requirement already satisfied: networkx in /Users/kangwoojin/.pyenv/versions/3.11.5/lib/python3.11/site-packages (from torch>=1.10.0->accelerate) (3.3)\n",
      "Requirement already satisfied: jinja2 in /Users/kangwoojin/.pyenv/versions/3.11.5/lib/python3.11/site-packages (from torch>=1.10.0->accelerate) (3.1.3)\n",
      "Requirement already satisfied: docstring-parser>=0.14.1 in /Users/kangwoojin/.pyenv/versions/3.11.5/lib/python3.11/site-packages (from tyro>=0.5.11->trl) (0.16)\n",
      "Requirement already satisfied: rich>=11.1.0 in /Users/kangwoojin/.pyenv/versions/3.11.5/lib/python3.11/site-packages (from tyro>=0.5.11->trl) (13.7.1)\n",
      "Requirement already satisfied: shtab>=1.5.6 in /Users/kangwoojin/.pyenv/versions/3.11.5/lib/python3.11/site-packages (from tyro>=0.5.11->trl) (1.7.1)\n",
      "Requirement already satisfied: pyarrow>=12.0.0 in /Users/kangwoojin/.pyenv/versions/3.11.5/lib/python3.11/site-packages (from datasets->trl) (15.0.2)\n",
      "Requirement already satisfied: pyarrow-hotfix in /Users/kangwoojin/.pyenv/versions/3.11.5/lib/python3.11/site-packages (from datasets->trl) (0.6)\n",
      "Requirement already satisfied: dill<0.3.9,>=0.3.0 in /Users/kangwoojin/.pyenv/versions/3.11.5/lib/python3.11/site-packages (from datasets->trl) (0.3.6)\n",
      "Requirement already satisfied: pandas in /Users/kangwoojin/.pyenv/versions/3.11.5/lib/python3.11/site-packages (from datasets->trl) (2.2.1)\n",
      "Requirement already satisfied: xxhash in /Users/kangwoojin/.pyenv/versions/3.11.5/lib/python3.11/site-packages (from datasets->trl) (3.4.1)\n",
      "Requirement already satisfied: multiprocess in /Users/kangwoojin/.pyenv/versions/3.11.5/lib/python3.11/site-packages (from datasets->trl) (0.70.14)\n",
      "Requirement already satisfied: aiohttp in /Users/kangwoojin/.pyenv/versions/3.11.5/lib/python3.11/site-packages (from datasets->trl) (3.9.3)\n",
      "Requirement already satisfied: charset-normalizer<4,>=2 in /Users/kangwoojin/.pyenv/versions/3.11.5/lib/python3.11/site-packages (from requests->transformers) (3.3.2)\n",
      "Requirement already satisfied: idna<4,>=2.5 in /Users/kangwoojin/.pyenv/versions/3.11.5/lib/python3.11/site-packages (from requests->transformers) (3.6)\n",
      "Requirement already satisfied: urllib3<3,>=1.21.1 in /Users/kangwoojin/.pyenv/versions/3.11.5/lib/python3.11/site-packages (from requests->transformers) (2.2.1)\n",
      "Requirement already satisfied: certifi>=2017.4.17 in /Users/kangwoojin/.pyenv/versions/3.11.5/lib/python3.11/site-packages (from requests->transformers) (2024.2.2)\n",
      "Requirement already satisfied: aiosignal>=1.1.2 in /Users/kangwoojin/.pyenv/versions/3.11.5/lib/python3.11/site-packages (from aiohttp->datasets->trl) (1.3.1)\n",
      "Requirement already satisfied: attrs>=17.3.0 in /Users/kangwoojin/.pyenv/versions/3.11.5/lib/python3.11/site-packages (from aiohttp->datasets->trl) (23.2.0)\n",
      "Requirement already satisfied: frozenlist>=1.1.1 in /Users/kangwoojin/.pyenv/versions/3.11.5/lib/python3.11/site-packages (from aiohttp->datasets->trl) (1.4.1)\n",
      "Requirement already satisfied: multidict<7.0,>=4.5 in /Users/kangwoojin/.pyenv/versions/3.11.5/lib/python3.11/site-packages (from aiohttp->datasets->trl) (6.0.5)\n",
      "Requirement already satisfied: yarl<2.0,>=1.0 in /Users/kangwoojin/.pyenv/versions/3.11.5/lib/python3.11/site-packages (from aiohttp->datasets->trl) (1.9.4)\n",
      "Requirement already satisfied: markdown-it-py>=2.2.0 in /Users/kangwoojin/.pyenv/versions/3.11.5/lib/python3.11/site-packages (from rich>=11.1.0->tyro>=0.5.11->trl) (2.2.0)\n",
      "Requirement already satisfied: pygments<3.0.0,>=2.13.0 in /Users/kangwoojin/.pyenv/versions/3.11.5/lib/python3.11/site-packages (from rich>=11.1.0->tyro>=0.5.11->trl) (2.17.2)\n",
      "Requirement already satisfied: MarkupSafe>=2.0 in /Users/kangwoojin/.pyenv/versions/3.11.5/lib/python3.11/site-packages (from jinja2->torch>=1.10.0->accelerate) (2.1.5)\n",
      "Requirement already satisfied: python-dateutil>=2.8.2 in /Users/kangwoojin/.pyenv/versions/3.11.5/lib/python3.11/site-packages (from pandas->datasets->trl) (2.9.0.post0)\n",
      "Requirement already satisfied: pytz>=2020.1 in /Users/kangwoojin/.pyenv/versions/3.11.5/lib/python3.11/site-packages (from pandas->datasets->trl) (2024.1)\n",
      "Requirement already satisfied: tzdata>=2022.7 in /Users/kangwoojin/.pyenv/versions/3.11.5/lib/python3.11/site-packages (from pandas->datasets->trl) (2024.1)\n",
      "Requirement already satisfied: mpmath>=0.19 in /Users/kangwoojin/.pyenv/versions/3.11.5/lib/python3.11/site-packages (from sympy->torch>=1.10.0->accelerate) (1.3.0)\n",
      "Requirement already satisfied: mdurl~=0.1 in /Users/kangwoojin/.pyenv/versions/3.11.5/lib/python3.11/site-packages (from markdown-it-py>=2.2.0->rich>=11.1.0->tyro>=0.5.11->trl) (0.1.2)\n",
      "Requirement already satisfied: six>=1.5 in /Users/kangwoojin/.pyenv/versions/3.11.5/lib/python3.11/site-packages (from python-dateutil>=2.8.2->pandas->datasets->trl) (1.16.0)\n"
     ]
    }
   ],
   "source": [
    "!pip install accelerate peft bitsandbytes transformers trl"
   ]
  },
  {
   "cell_type": "code",
   "execution_count": 2,
   "metadata": {},
   "outputs": [
    {
     "name": "stdout",
     "output_type": "stream",
     "text": [
      "Requirement already satisfied: datasets in /Users/kangwoojin/.pyenv/versions/3.11.5/lib/python3.11/site-packages (2.19.1)\n",
      "Requirement already satisfied: filelock in /Users/kangwoojin/.pyenv/versions/3.11.5/lib/python3.11/site-packages (from datasets) (3.14.0)\n",
      "Requirement already satisfied: numpy>=1.17 in /Users/kangwoojin/.pyenv/versions/3.11.5/lib/python3.11/site-packages (from datasets) (1.26.4)\n",
      "Requirement already satisfied: pyarrow>=12.0.0 in /Users/kangwoojin/.pyenv/versions/3.11.5/lib/python3.11/site-packages (from datasets) (15.0.2)\n",
      "Requirement already satisfied: pyarrow-hotfix in /Users/kangwoojin/.pyenv/versions/3.11.5/lib/python3.11/site-packages (from datasets) (0.6)\n",
      "Requirement already satisfied: dill<0.3.9,>=0.3.0 in /Users/kangwoojin/.pyenv/versions/3.11.5/lib/python3.11/site-packages (from datasets) (0.3.6)\n",
      "Requirement already satisfied: pandas in /Users/kangwoojin/.pyenv/versions/3.11.5/lib/python3.11/site-packages (from datasets) (2.2.1)\n",
      "Requirement already satisfied: requests>=2.19.0 in /Users/kangwoojin/.pyenv/versions/3.11.5/lib/python3.11/site-packages (from datasets) (2.31.0)\n",
      "Requirement already satisfied: tqdm>=4.62.1 in /Users/kangwoojin/.pyenv/versions/3.11.5/lib/python3.11/site-packages (from datasets) (4.66.2)\n",
      "Requirement already satisfied: xxhash in /Users/kangwoojin/.pyenv/versions/3.11.5/lib/python3.11/site-packages (from datasets) (3.4.1)\n",
      "Requirement already satisfied: multiprocess in /Users/kangwoojin/.pyenv/versions/3.11.5/lib/python3.11/site-packages (from datasets) (0.70.14)\n",
      "Requirement already satisfied: fsspec<=2024.3.1,>=2023.1.0 in /Users/kangwoojin/.pyenv/versions/3.11.5/lib/python3.11/site-packages (from fsspec[http]<=2024.3.1,>=2023.1.0->datasets) (2024.3.1)\n",
      "Requirement already satisfied: aiohttp in /Users/kangwoojin/.pyenv/versions/3.11.5/lib/python3.11/site-packages (from datasets) (3.9.3)\n",
      "Requirement already satisfied: huggingface-hub>=0.21.2 in /Users/kangwoojin/.pyenv/versions/3.11.5/lib/python3.11/site-packages (from datasets) (0.23.0)\n",
      "Requirement already satisfied: packaging in /Users/kangwoojin/.pyenv/versions/3.11.5/lib/python3.11/site-packages (from datasets) (23.2)\n",
      "Requirement already satisfied: pyyaml>=5.1 in /Users/kangwoojin/.pyenv/versions/3.11.5/lib/python3.11/site-packages (from datasets) (6.0.1)\n",
      "Requirement already satisfied: aiosignal>=1.1.2 in /Users/kangwoojin/.pyenv/versions/3.11.5/lib/python3.11/site-packages (from aiohttp->datasets) (1.3.1)\n",
      "Requirement already satisfied: attrs>=17.3.0 in /Users/kangwoojin/.pyenv/versions/3.11.5/lib/python3.11/site-packages (from aiohttp->datasets) (23.2.0)\n",
      "Requirement already satisfied: frozenlist>=1.1.1 in /Users/kangwoojin/.pyenv/versions/3.11.5/lib/python3.11/site-packages (from aiohttp->datasets) (1.4.1)\n",
      "Requirement already satisfied: multidict<7.0,>=4.5 in /Users/kangwoojin/.pyenv/versions/3.11.5/lib/python3.11/site-packages (from aiohttp->datasets) (6.0.5)\n",
      "Requirement already satisfied: yarl<2.0,>=1.0 in /Users/kangwoojin/.pyenv/versions/3.11.5/lib/python3.11/site-packages (from aiohttp->datasets) (1.9.4)\n",
      "Requirement already satisfied: typing-extensions>=3.7.4.3 in /Users/kangwoojin/.pyenv/versions/3.11.5/lib/python3.11/site-packages (from huggingface-hub>=0.21.2->datasets) (4.10.0)\n",
      "Requirement already satisfied: charset-normalizer<4,>=2 in /Users/kangwoojin/.pyenv/versions/3.11.5/lib/python3.11/site-packages (from requests>=2.19.0->datasets) (3.3.2)\n",
      "Requirement already satisfied: idna<4,>=2.5 in /Users/kangwoojin/.pyenv/versions/3.11.5/lib/python3.11/site-packages (from requests>=2.19.0->datasets) (3.6)\n",
      "Requirement already satisfied: urllib3<3,>=1.21.1 in /Users/kangwoojin/.pyenv/versions/3.11.5/lib/python3.11/site-packages (from requests>=2.19.0->datasets) (2.2.1)\n",
      "Requirement already satisfied: certifi>=2017.4.17 in /Users/kangwoojin/.pyenv/versions/3.11.5/lib/python3.11/site-packages (from requests>=2.19.0->datasets) (2024.2.2)\n",
      "Requirement already satisfied: python-dateutil>=2.8.2 in /Users/kangwoojin/.pyenv/versions/3.11.5/lib/python3.11/site-packages (from pandas->datasets) (2.9.0.post0)\n",
      "Requirement already satisfied: pytz>=2020.1 in /Users/kangwoojin/.pyenv/versions/3.11.5/lib/python3.11/site-packages (from pandas->datasets) (2024.1)\n",
      "Requirement already satisfied: tzdata>=2022.7 in /Users/kangwoojin/.pyenv/versions/3.11.5/lib/python3.11/site-packages (from pandas->datasets) (2024.1)\n",
      "Requirement already satisfied: six>=1.5 in /Users/kangwoojin/.pyenv/versions/3.11.5/lib/python3.11/site-packages (from python-dateutil>=2.8.2->pandas->datasets) (1.16.0)\n"
     ]
    }
   ],
   "source": [
    "!pip install --upgrade datasets"
   ]
  },
  {
   "cell_type": "code",
   "execution_count": 6,
   "metadata": {},
   "outputs": [],
   "source": [
    "from transformers import (\n",
    "    AutoModelForCausalLM,\n",
    "    AutoTokenizer,\n",
    "    BitsAndBytesConfig,\n",
    "    TrainingArguments,\n",
    "    pipeline,\n",
    "    logging,\n",
    ")"
   ]
  },
  {
   "cell_type": "code",
   "execution_count": 8,
   "metadata": {},
   "outputs": [
    {
     "data": {
      "application/vnd.jupyter.widget-view+json": {
       "model_id": "d249ba81f18745b895da76f425637436",
       "version_major": 2,
       "version_minor": 0
      },
      "text/plain": [
       "Downloading shards:   0%|          | 0/2 [00:00<?, ?it/s]"
      ]
     },
     "metadata": {},
     "output_type": "display_data"
    },
    {
     "data": {
      "application/vnd.jupyter.widget-view+json": {
       "model_id": "8c4c46dc23b44d45b394283e2059f9ca",
       "version_major": 2,
       "version_minor": 0
      },
      "text/plain": [
       "model-00001-of-00002.safetensors:  25%|##4       | 2.46G/9.98G [00:00<?, ?B/s]"
      ]
     },
     "metadata": {},
     "output_type": "display_data"
    },
    {
     "data": {
      "application/vnd.jupyter.widget-view+json": {
       "model_id": "e0e6dab88e204b94bf3085796ad914de",
       "version_major": 2,
       "version_minor": 0
      },
      "text/plain": [
       "model-00002-of-00002.safetensors:   0%|          | 0.00/3.50G [00:00<?, ?B/s]"
      ]
     },
     "metadata": {},
     "output_type": "display_data"
    },
    {
     "data": {
      "application/vnd.jupyter.widget-view+json": {
       "model_id": "f36a28618d14461fa8a8f3725dd2e2be",
       "version_major": 2,
       "version_minor": 0
      },
      "text/plain": [
       "Loading checkpoint shards:   0%|          | 0/2 [00:00<?, ?it/s]"
      ]
     },
     "metadata": {},
     "output_type": "display_data"
    },
    {
     "data": {
      "application/vnd.jupyter.widget-view+json": {
       "model_id": "34f81faf61e54fc781e21237c974a798",
       "version_major": 2,
       "version_minor": 0
      },
      "text/plain": [
       "generation_config.json:   0%|          | 0.00/179 [00:00<?, ?B/s]"
      ]
     },
     "metadata": {},
     "output_type": "display_data"
    },
    {
     "name": "stderr",
     "output_type": "stream",
     "text": [
      "/Users/kangwoojin/.pyenv/versions/3.11.5/lib/python3.11/site-packages/transformers/generation/configuration_utils.py:485: UserWarning: `do_sample` is set to `False`. However, `temperature` is set to `0.9` -- this flag is only used in sample-based generation modes. You should set `do_sample=True` or unset `temperature`. This was detected when initializing the generation config instance, which means the corresponding file may hold incorrect parameterization and should be fixed.\n",
      "  warnings.warn(\n",
      "/Users/kangwoojin/.pyenv/versions/3.11.5/lib/python3.11/site-packages/transformers/generation/configuration_utils.py:490: UserWarning: `do_sample` is set to `False`. However, `top_p` is set to `0.6` -- this flag is only used in sample-based generation modes. You should set `do_sample=True` or unset `top_p`. This was detected when initializing the generation config instance, which means the corresponding file may hold incorrect parameterization and should be fixed.\n",
      "  warnings.warn(\n",
      "/Users/kangwoojin/.pyenv/versions/3.11.5/lib/python3.11/site-packages/transformers/generation/configuration_utils.py:485: UserWarning: `do_sample` is set to `False`. However, `temperature` is set to `0.9` -- this flag is only used in sample-based generation modes. You should set `do_sample=True` or unset `temperature`.\n",
      "  warnings.warn(\n",
      "/Users/kangwoojin/.pyenv/versions/3.11.5/lib/python3.11/site-packages/transformers/generation/configuration_utils.py:490: UserWarning: `do_sample` is set to `False`. However, `top_p` is set to `0.6` -- this flag is only used in sample-based generation modes. You should set `do_sample=True` or unset `top_p`.\n",
      "  warnings.warn(\n"
     ]
    }
   ],
   "source": [
    "my_model_path = '/Users/kangwoojin/coding/GitHub/cid-growdle-2024/finetune/results/llama-7b-chat-productname-test'\n",
    "my_model = AutoModelForCausalLM.from_pretrained(my_model_path)\n",
    "my_tokenizer = AutoTokenizer.from_pretrained(my_model_path)\n",
    "\n"
   ]
  },
  {
   "cell_type": "code",
   "execution_count": 9,
   "metadata": {},
   "outputs": [
    {
     "name": "stderr",
     "output_type": "stream",
     "text": [
      "/Users/kangwoojin/.pyenv/versions/3.11.5/lib/python3.11/site-packages/transformers/generation/configuration_utils.py:485: UserWarning: `do_sample` is set to `False`. However, `temperature` is set to `0.9` -- this flag is only used in sample-based generation modes. You should set `do_sample=True` or unset `temperature`.\n",
      "  warnings.warn(\n",
      "/Users/kangwoojin/.pyenv/versions/3.11.5/lib/python3.11/site-packages/transformers/generation/configuration_utils.py:490: UserWarning: `do_sample` is set to `False`. However, `top_p` is set to `0.6` -- this flag is only used in sample-based generation modes. You should set `do_sample=True` or unset `top_p`.\n",
      "  warnings.warn(\n"
     ]
    },
    {
     "name": "stdout",
     "output_type": "stream",
     "text": [
      "<s>[INST] Generate product name in Korean from this raw source: 보스 헤드폰 회색 사운드 음질 폭신 [/INST]  Sure, here are some potential Korean product names based on the raw source you provided:\n",
      "\n",
      "1. 볼스 헤드폰 (Bols Headphone) - This name is a direct translation of the raw source, and it means \"Boss Headphone\" in Korean.\n",
      "2. 헤드폰 폭신 (Headphone Boost) - This name combines the word \"headphone\" with the Korean word \"폭신\" (boost), which means \"to increase or enhance something.\"\n",
      "3. 사운드 폭신 (Sound Boost) - Similar to the previous suggestion, this name\n"
     ]
    }
   ],
   "source": [
    "logging.set_verbosity(logging.CRITICAL)\n",
    "\n",
    "prompt = \"Generate product name in Korean from this raw source: 보스 헤드폰 회색 사운드 음질 폭신\"\n",
    "pipe = pipeline(task=\"text-generation\", model=my_model, tokenizer=my_tokenizer, max_length=200)\n",
    "result = pipe(f\"<s>[INST] {prompt} [/INST]\")\n",
    "print(result[0]['generated_text'])"
   ]
  },
  {
   "cell_type": "code",
   "execution_count": null,
   "metadata": {},
   "outputs": [],
   "source": []
  }
 ],
 "metadata": {
  "kernelspec": {
   "display_name": "Python 3.11.5 64-bit ('3.11.5')",
   "language": "python",
   "name": "python3"
  },
  "language_info": {
   "codemirror_mode": {
    "name": "ipython",
    "version": 3
   },
   "file_extension": ".py",
   "mimetype": "text/x-python",
   "name": "python",
   "nbconvert_exporter": "python",
   "pygments_lexer": "ipython3",
   "version": "3.11.5"
  },
  "orig_nbformat": 4,
  "vscode": {
   "interpreter": {
    "hash": "591923e582065aff74a93a90fba3a50741a602c305cc24a3d29844b7d540dc83"
   }
  }
 },
 "nbformat": 4,
 "nbformat_minor": 2
}
