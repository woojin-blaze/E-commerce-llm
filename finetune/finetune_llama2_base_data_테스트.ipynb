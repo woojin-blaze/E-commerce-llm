{
  "cells": [
    {
      "cell_type": "code",
      "execution_count": 2,
      "metadata": {
        "colab": {
          "base_uri": "https://localhost:8080/"
        },
        "id": "0LGuq8WohDYh",
        "outputId": "7db1716e-72d4-4423-8384-5e561df1e0f9"
      },
      "outputs": [
        {
          "name": "stdout",
          "output_type": "stream",
          "text": [
            "Requirement already satisfied: accelerate in /Users/kangwoojin/.pyenv/versions/3.11.5/lib/python3.11/site-packages (0.30.1)\n",
            "Requirement already satisfied: peft in /Users/kangwoojin/.pyenv/versions/3.11.5/lib/python3.11/site-packages (0.10.1.dev0)\n",
            "Requirement already satisfied: bitsandbytes in /Users/kangwoojin/.pyenv/versions/3.11.5/lib/python3.11/site-packages (0.42.0)\n",
            "Requirement already satisfied: transformers in /Users/kangwoojin/.pyenv/versions/3.11.5/lib/python3.11/site-packages (4.41.0.dev0)\n",
            "Requirement already satisfied: trl in /Users/kangwoojin/.pyenv/versions/3.11.5/lib/python3.11/site-packages (0.8.6)\n",
            "Requirement already satisfied: numpy>=1.17 in /Users/kangwoojin/.pyenv/versions/3.11.5/lib/python3.11/site-packages (from accelerate) (1.26.4)\n",
            "Requirement already satisfied: packaging>=20.0 in /Users/kangwoojin/.pyenv/versions/3.11.5/lib/python3.11/site-packages (from accelerate) (23.2)\n",
            "Requirement already satisfied: psutil in /Users/kangwoojin/.pyenv/versions/3.11.5/lib/python3.11/site-packages (from accelerate) (5.9.8)\n",
            "Requirement already satisfied: pyyaml in /Users/kangwoojin/.pyenv/versions/3.11.5/lib/python3.11/site-packages (from accelerate) (6.0.1)\n",
            "Requirement already satisfied: torch>=1.10.0 in /Users/kangwoojin/.pyenv/versions/3.11.5/lib/python3.11/site-packages (from accelerate) (2.0.0)\n",
            "Requirement already satisfied: huggingface-hub in /Users/kangwoojin/.pyenv/versions/3.11.5/lib/python3.11/site-packages (from accelerate) (0.23.0)\n",
            "Requirement already satisfied: safetensors>=0.3.1 in /Users/kangwoojin/.pyenv/versions/3.11.5/lib/python3.11/site-packages (from accelerate) (0.4.3)\n",
            "Requirement already satisfied: tqdm in /Users/kangwoojin/.pyenv/versions/3.11.5/lib/python3.11/site-packages (from peft) (4.66.2)\n",
            "Requirement already satisfied: scipy in /Users/kangwoojin/.pyenv/versions/3.11.5/lib/python3.11/site-packages (from bitsandbytes) (1.13.0)\n",
            "Requirement already satisfied: filelock in /Users/kangwoojin/.pyenv/versions/3.11.5/lib/python3.11/site-packages (from transformers) (3.14.0)\n",
            "Requirement already satisfied: regex!=2019.12.17 in /Users/kangwoojin/.pyenv/versions/3.11.5/lib/python3.11/site-packages (from transformers) (2023.12.25)\n",
            "Requirement already satisfied: requests in /Users/kangwoojin/.pyenv/versions/3.11.5/lib/python3.11/site-packages (from transformers) (2.31.0)\n",
            "Requirement already satisfied: tokenizers<0.20,>=0.19 in /Users/kangwoojin/.pyenv/versions/3.11.5/lib/python3.11/site-packages (from transformers) (0.19.1)\n",
            "Requirement already satisfied: datasets in /Users/kangwoojin/.pyenv/versions/3.11.5/lib/python3.11/site-packages (from trl) (2.19.1)\n",
            "Requirement already satisfied: tyro>=0.5.11 in /Users/kangwoojin/.pyenv/versions/3.11.5/lib/python3.11/site-packages (from trl) (0.8.3)\n",
            "Requirement already satisfied: fsspec>=2023.5.0 in /Users/kangwoojin/.pyenv/versions/3.11.5/lib/python3.11/site-packages (from huggingface-hub->accelerate) (2024.3.1)\n",
            "Requirement already satisfied: typing-extensions>=3.7.4.3 in /Users/kangwoojin/.pyenv/versions/3.11.5/lib/python3.11/site-packages (from huggingface-hub->accelerate) (4.10.0)\n",
            "Requirement already satisfied: sympy in /Users/kangwoojin/.pyenv/versions/3.11.5/lib/python3.11/site-packages (from torch>=1.10.0->accelerate) (1.12)\n",
            "Requirement already satisfied: networkx in /Users/kangwoojin/.pyenv/versions/3.11.5/lib/python3.11/site-packages (from torch>=1.10.0->accelerate) (3.3)\n",
            "Requirement already satisfied: jinja2 in /Users/kangwoojin/.pyenv/versions/3.11.5/lib/python3.11/site-packages (from torch>=1.10.0->accelerate) (3.1.3)\n",
            "Requirement already satisfied: docstring-parser>=0.14.1 in /Users/kangwoojin/.pyenv/versions/3.11.5/lib/python3.11/site-packages (from tyro>=0.5.11->trl) (0.16)\n",
            "Requirement already satisfied: rich>=11.1.0 in /Users/kangwoojin/.pyenv/versions/3.11.5/lib/python3.11/site-packages (from tyro>=0.5.11->trl) (13.7.1)\n",
            "Requirement already satisfied: shtab>=1.5.6 in /Users/kangwoojin/.pyenv/versions/3.11.5/lib/python3.11/site-packages (from tyro>=0.5.11->trl) (1.7.1)\n",
            "Requirement already satisfied: pyarrow>=12.0.0 in /Users/kangwoojin/.pyenv/versions/3.11.5/lib/python3.11/site-packages (from datasets->trl) (15.0.2)\n",
            "Requirement already satisfied: pyarrow-hotfix in /Users/kangwoojin/.pyenv/versions/3.11.5/lib/python3.11/site-packages (from datasets->trl) (0.6)\n",
            "Requirement already satisfied: dill<0.3.9,>=0.3.0 in /Users/kangwoojin/.pyenv/versions/3.11.5/lib/python3.11/site-packages (from datasets->trl) (0.3.6)\n",
            "Requirement already satisfied: pandas in /Users/kangwoojin/.pyenv/versions/3.11.5/lib/python3.11/site-packages (from datasets->trl) (2.2.1)\n",
            "Requirement already satisfied: xxhash in /Users/kangwoojin/.pyenv/versions/3.11.5/lib/python3.11/site-packages (from datasets->trl) (3.4.1)\n",
            "Requirement already satisfied: multiprocess in /Users/kangwoojin/.pyenv/versions/3.11.5/lib/python3.11/site-packages (from datasets->trl) (0.70.14)\n",
            "Requirement already satisfied: aiohttp in /Users/kangwoojin/.pyenv/versions/3.11.5/lib/python3.11/site-packages (from datasets->trl) (3.9.3)\n",
            "Requirement already satisfied: charset-normalizer<4,>=2 in /Users/kangwoojin/.pyenv/versions/3.11.5/lib/python3.11/site-packages (from requests->transformers) (3.3.2)\n",
            "Requirement already satisfied: idna<4,>=2.5 in /Users/kangwoojin/.pyenv/versions/3.11.5/lib/python3.11/site-packages (from requests->transformers) (3.6)\n",
            "Requirement already satisfied: urllib3<3,>=1.21.1 in /Users/kangwoojin/.pyenv/versions/3.11.5/lib/python3.11/site-packages (from requests->transformers) (2.2.1)\n",
            "Requirement already satisfied: certifi>=2017.4.17 in /Users/kangwoojin/.pyenv/versions/3.11.5/lib/python3.11/site-packages (from requests->transformers) (2024.2.2)\n",
            "Requirement already satisfied: aiosignal>=1.1.2 in /Users/kangwoojin/.pyenv/versions/3.11.5/lib/python3.11/site-packages (from aiohttp->datasets->trl) (1.3.1)\n",
            "Requirement already satisfied: attrs>=17.3.0 in /Users/kangwoojin/.pyenv/versions/3.11.5/lib/python3.11/site-packages (from aiohttp->datasets->trl) (23.2.0)\n",
            "Requirement already satisfied: frozenlist>=1.1.1 in /Users/kangwoojin/.pyenv/versions/3.11.5/lib/python3.11/site-packages (from aiohttp->datasets->trl) (1.4.1)\n",
            "Requirement already satisfied: multidict<7.0,>=4.5 in /Users/kangwoojin/.pyenv/versions/3.11.5/lib/python3.11/site-packages (from aiohttp->datasets->trl) (6.0.5)\n",
            "Requirement already satisfied: yarl<2.0,>=1.0 in /Users/kangwoojin/.pyenv/versions/3.11.5/lib/python3.11/site-packages (from aiohttp->datasets->trl) (1.9.4)\n",
            "Requirement already satisfied: markdown-it-py>=2.2.0 in /Users/kangwoojin/.pyenv/versions/3.11.5/lib/python3.11/site-packages (from rich>=11.1.0->tyro>=0.5.11->trl) (2.2.0)\n",
            "Requirement already satisfied: pygments<3.0.0,>=2.13.0 in /Users/kangwoojin/.pyenv/versions/3.11.5/lib/python3.11/site-packages (from rich>=11.1.0->tyro>=0.5.11->trl) (2.17.2)\n",
            "Requirement already satisfied: MarkupSafe>=2.0 in /Users/kangwoojin/.pyenv/versions/3.11.5/lib/python3.11/site-packages (from jinja2->torch>=1.10.0->accelerate) (2.1.5)\n",
            "Requirement already satisfied: python-dateutil>=2.8.2 in /Users/kangwoojin/.pyenv/versions/3.11.5/lib/python3.11/site-packages (from pandas->datasets->trl) (2.9.0.post0)\n",
            "Requirement already satisfied: pytz>=2020.1 in /Users/kangwoojin/.pyenv/versions/3.11.5/lib/python3.11/site-packages (from pandas->datasets->trl) (2024.1)\n",
            "Requirement already satisfied: tzdata>=2022.7 in /Users/kangwoojin/.pyenv/versions/3.11.5/lib/python3.11/site-packages (from pandas->datasets->trl) (2024.1)\n",
            "Requirement already satisfied: mpmath>=0.19 in /Users/kangwoojin/.pyenv/versions/3.11.5/lib/python3.11/site-packages (from sympy->torch>=1.10.0->accelerate) (1.3.0)\n",
            "Requirement already satisfied: mdurl~=0.1 in /Users/kangwoojin/.pyenv/versions/3.11.5/lib/python3.11/site-packages (from markdown-it-py>=2.2.0->rich>=11.1.0->tyro>=0.5.11->trl) (0.1.2)\n",
            "Requirement already satisfied: six>=1.5 in /Users/kangwoojin/.pyenv/versions/3.11.5/lib/python3.11/site-packages (from python-dateutil>=2.8.2->pandas->datasets->trl) (1.16.0)\n"
          ]
        }
      ],
      "source": [
        "!pip install accelerate peft bitsandbytes transformers trl"
      ]
    },
    {
      "cell_type": "code",
      "execution_count": 3,
      "metadata": {
        "colab": {
          "base_uri": "https://localhost:8080/"
        },
        "id": "5hRr3DfQAixm",
        "outputId": "d95ca265-2533-470a-d71c-dc3acebce4bb"
      },
      "outputs": [
        {
          "name": "stdout",
          "output_type": "stream",
          "text": [
            "Requirement already satisfied: datasets in /Users/kangwoojin/.pyenv/versions/3.11.5/lib/python3.11/site-packages (2.19.1)\n",
            "Requirement already satisfied: accelerate in /Users/kangwoojin/.pyenv/versions/3.11.5/lib/python3.11/site-packages (0.30.1)\n",
            "Requirement already satisfied: bitsandbytes in /Users/kangwoojin/.pyenv/versions/3.11.5/lib/python3.11/site-packages (0.42.0)\n",
            "Requirement already satisfied: filelock in /Users/kangwoojin/.pyenv/versions/3.11.5/lib/python3.11/site-packages (from datasets) (3.14.0)\n",
            "Requirement already satisfied: numpy>=1.17 in /Users/kangwoojin/.pyenv/versions/3.11.5/lib/python3.11/site-packages (from datasets) (1.26.4)\n",
            "Requirement already satisfied: pyarrow>=12.0.0 in /Users/kangwoojin/.pyenv/versions/3.11.5/lib/python3.11/site-packages (from datasets) (15.0.2)\n",
            "Requirement already satisfied: pyarrow-hotfix in /Users/kangwoojin/.pyenv/versions/3.11.5/lib/python3.11/site-packages (from datasets) (0.6)\n",
            "Requirement already satisfied: dill<0.3.9,>=0.3.0 in /Users/kangwoojin/.pyenv/versions/3.11.5/lib/python3.11/site-packages (from datasets) (0.3.6)\n",
            "Requirement already satisfied: pandas in /Users/kangwoojin/.pyenv/versions/3.11.5/lib/python3.11/site-packages (from datasets) (2.2.1)\n",
            "Requirement already satisfied: requests>=2.19.0 in /Users/kangwoojin/.pyenv/versions/3.11.5/lib/python3.11/site-packages (from datasets) (2.31.0)\n",
            "Requirement already satisfied: tqdm>=4.62.1 in /Users/kangwoojin/.pyenv/versions/3.11.5/lib/python3.11/site-packages (from datasets) (4.66.2)\n",
            "Requirement already satisfied: xxhash in /Users/kangwoojin/.pyenv/versions/3.11.5/lib/python3.11/site-packages (from datasets) (3.4.1)\n",
            "Requirement already satisfied: multiprocess in /Users/kangwoojin/.pyenv/versions/3.11.5/lib/python3.11/site-packages (from datasets) (0.70.14)\n",
            "Requirement already satisfied: fsspec<=2024.3.1,>=2023.1.0 in /Users/kangwoojin/.pyenv/versions/3.11.5/lib/python3.11/site-packages (from fsspec[http]<=2024.3.1,>=2023.1.0->datasets) (2024.3.1)\n",
            "Requirement already satisfied: aiohttp in /Users/kangwoojin/.pyenv/versions/3.11.5/lib/python3.11/site-packages (from datasets) (3.9.3)\n",
            "Requirement already satisfied: huggingface-hub>=0.21.2 in /Users/kangwoojin/.pyenv/versions/3.11.5/lib/python3.11/site-packages (from datasets) (0.23.0)\n",
            "Requirement already satisfied: packaging in /Users/kangwoojin/.pyenv/versions/3.11.5/lib/python3.11/site-packages (from datasets) (23.2)\n",
            "Requirement already satisfied: pyyaml>=5.1 in /Users/kangwoojin/.pyenv/versions/3.11.5/lib/python3.11/site-packages (from datasets) (6.0.1)\n",
            "Requirement already satisfied: psutil in /Users/kangwoojin/.pyenv/versions/3.11.5/lib/python3.11/site-packages (from accelerate) (5.9.8)\n",
            "Requirement already satisfied: torch>=1.10.0 in /Users/kangwoojin/.pyenv/versions/3.11.5/lib/python3.11/site-packages (from accelerate) (2.0.0)\n",
            "Requirement already satisfied: safetensors>=0.3.1 in /Users/kangwoojin/.pyenv/versions/3.11.5/lib/python3.11/site-packages (from accelerate) (0.4.3)\n",
            "Requirement already satisfied: scipy in /Users/kangwoojin/.pyenv/versions/3.11.5/lib/python3.11/site-packages (from bitsandbytes) (1.13.0)\n",
            "Requirement already satisfied: aiosignal>=1.1.2 in /Users/kangwoojin/.pyenv/versions/3.11.5/lib/python3.11/site-packages (from aiohttp->datasets) (1.3.1)\n",
            "Requirement already satisfied: attrs>=17.3.0 in /Users/kangwoojin/.pyenv/versions/3.11.5/lib/python3.11/site-packages (from aiohttp->datasets) (23.2.0)\n",
            "Requirement already satisfied: frozenlist>=1.1.1 in /Users/kangwoojin/.pyenv/versions/3.11.5/lib/python3.11/site-packages (from aiohttp->datasets) (1.4.1)\n",
            "Requirement already satisfied: multidict<7.0,>=4.5 in /Users/kangwoojin/.pyenv/versions/3.11.5/lib/python3.11/site-packages (from aiohttp->datasets) (6.0.5)\n",
            "Requirement already satisfied: yarl<2.0,>=1.0 in /Users/kangwoojin/.pyenv/versions/3.11.5/lib/python3.11/site-packages (from aiohttp->datasets) (1.9.4)\n",
            "Requirement already satisfied: typing-extensions>=3.7.4.3 in /Users/kangwoojin/.pyenv/versions/3.11.5/lib/python3.11/site-packages (from huggingface-hub>=0.21.2->datasets) (4.10.0)\n",
            "Requirement already satisfied: charset-normalizer<4,>=2 in /Users/kangwoojin/.pyenv/versions/3.11.5/lib/python3.11/site-packages (from requests>=2.19.0->datasets) (3.3.2)\n",
            "Requirement already satisfied: idna<4,>=2.5 in /Users/kangwoojin/.pyenv/versions/3.11.5/lib/python3.11/site-packages (from requests>=2.19.0->datasets) (3.6)\n",
            "Requirement already satisfied: urllib3<3,>=1.21.1 in /Users/kangwoojin/.pyenv/versions/3.11.5/lib/python3.11/site-packages (from requests>=2.19.0->datasets) (2.2.1)\n",
            "Requirement already satisfied: certifi>=2017.4.17 in /Users/kangwoojin/.pyenv/versions/3.11.5/lib/python3.11/site-packages (from requests>=2.19.0->datasets) (2024.2.2)\n",
            "Requirement already satisfied: sympy in /Users/kangwoojin/.pyenv/versions/3.11.5/lib/python3.11/site-packages (from torch>=1.10.0->accelerate) (1.12)\n",
            "Requirement already satisfied: networkx in /Users/kangwoojin/.pyenv/versions/3.11.5/lib/python3.11/site-packages (from torch>=1.10.0->accelerate) (3.3)\n",
            "Requirement already satisfied: jinja2 in /Users/kangwoojin/.pyenv/versions/3.11.5/lib/python3.11/site-packages (from torch>=1.10.0->accelerate) (3.1.3)\n",
            "Requirement already satisfied: python-dateutil>=2.8.2 in /Users/kangwoojin/.pyenv/versions/3.11.5/lib/python3.11/site-packages (from pandas->datasets) (2.9.0.post0)\n",
            "Requirement already satisfied: pytz>=2020.1 in /Users/kangwoojin/.pyenv/versions/3.11.5/lib/python3.11/site-packages (from pandas->datasets) (2024.1)\n",
            "Requirement already satisfied: tzdata>=2022.7 in /Users/kangwoojin/.pyenv/versions/3.11.5/lib/python3.11/site-packages (from pandas->datasets) (2024.1)\n",
            "Requirement already satisfied: six>=1.5 in /Users/kangwoojin/.pyenv/versions/3.11.5/lib/python3.11/site-packages (from python-dateutil>=2.8.2->pandas->datasets) (1.16.0)\n",
            "Requirement already satisfied: MarkupSafe>=2.0 in /Users/kangwoojin/.pyenv/versions/3.11.5/lib/python3.11/site-packages (from jinja2->torch>=1.10.0->accelerate) (2.1.5)\n",
            "Requirement already satisfied: mpmath>=0.19 in /Users/kangwoojin/.pyenv/versions/3.11.5/lib/python3.11/site-packages (from sympy->torch>=1.10.0->accelerate) (1.3.0)\n"
          ]
        }
      ],
      "source": [
        "!pip install --upgrade datasets accelerate bitsandbytes"
      ]
    },
    {
      "cell_type": "code",
      "execution_count": 4,
      "metadata": {
        "id": "S10Wn54DAluo"
      },
      "outputs": [],
      "source": [
        "# Model from Hugging Face hub\n",
        "base_model = \"NousResearch/Llama-2-7b-chat-hf\"\n",
        "\n",
        "# Fine-tuned model\n",
        "new_model = \"./results/llama-base-simple-format\"\n"
      ]
    },
    {
      "cell_type": "code",
      "execution_count": 5,
      "metadata": {
        "colab": {
          "base_uri": "https://localhost:8080/"
        },
        "id": "IQOf3XTAAv94",
        "outputId": "7494679e-4564-4837-ed66-57458ff3125b"
      },
      "outputs": [],
      "source": [
        "import os\n",
        "import torch\n",
        "from datasets import load_dataset\n",
        "from transformers import (\n",
        "    AutoModelForCausalLM,\n",
        "    AutoTokenizer,\n",
        "    BitsAndBytesConfig,\n",
        "    TrainingArguments,\n",
        "    pipeline,\n",
        "    logging,\n",
        ")\n",
        "from peft import LoraConfig\n",
        "from trl import SFTTrainer"
      ]
    },
    {
      "cell_type": "code",
      "execution_count": 6,
      "metadata": {
        "id": "aX6P8NBPjuml"
      },
      "outputs": [],
      "source": [
        "#!pip install bitsandbytes==0.39.0"
      ]
    },
    {
      "cell_type": "code",
      "execution_count": 7,
      "metadata": {
        "colab": {
          "base_uri": "https://localhost:8080/",
          "height": 54
        },
        "id": "RPej5BMFBt94",
        "outputId": "63fce725-393d-4934-ca66-77e91870712c"
      },
      "outputs": [
        {
          "data": {
            "text/plain": [
              "'\\ncompute_dtype = getattr(torch, \"float16\")\\n\\nquant_config = BitsAndBytesConfig(\\n    load_in_4bit=True,\\n    bnb_4bit_quant_type=\"nf4\",\\n    bnb_4bit_compute_dtype=compute_dtype,\\n    bnb_4bit_use_double_quant=False,\\n)'"
            ]
          },
          "execution_count": 7,
          "metadata": {},
          "output_type": "execute_result"
        }
      ],
      "source": [
        "''' for GPU\n",
        "compute_dtype = getattr(torch, \"float16\")\n",
        "\n",
        "quant_config = BitsAndBytesConfig(\n",
        "    load_in_4bit=True,\n",
        "    bnb_4bit_quant_type=\"nf4\",\n",
        "    bnb_4bit_compute_dtype=compute_dtype,\n",
        "    bnb_4bit_use_double_quant=False,\n",
        ")'''"
      ]
    },
    {
      "cell_type": "code",
      "execution_count": 8,
      "metadata": {
        "id": "92Tp8YwGj_0n"
      },
      "outputs": [],
      "source": [
        "#!pip install accelerate==0.21.0"
      ]
    },
    {
      "cell_type": "code",
      "execution_count": 9,
      "metadata": {
        "id": "BiDXgmG4CBU4"
      },
      "outputs": [],
      "source": [
        "#!pip install -U accelerate"
      ]
    },
    {
      "cell_type": "code",
      "execution_count": 10,
      "metadata": {
        "id": "HnMuqObqgdRv"
      },
      "outputs": [],
      "source": [
        "#!pip install -i https://pypi.org/simple/ bitsandbytes"
      ]
    },
    {
      "cell_type": "code",
      "execution_count": null,
      "metadata": {
        "id": "Xn6157IbgoMj"
      },
      "outputs": [],
      "source": []
    },
    {
      "cell_type": "code",
      "execution_count": null,
      "metadata": {
        "colab": {
          "base_uri": "https://localhost:8080/"
        },
        "id": "HiHEQ0CsImd9",
        "outputId": "4f67cbf3-21a8-40c4-82e0-cf499d546d9b"
      },
      "outputs": [],
      "source": []
    },
    {
      "cell_type": "code",
      "execution_count": 11,
      "metadata": {
        "id": "cEUBsziyS1wJ"
      },
      "outputs": [],
      "source": [
        "base_data = \"./data/base0518_inout_train.csv\""
      ]
    },
    {
      "cell_type": "code",
      "execution_count": 12,
      "metadata": {
        "colab": {
          "base_uri": "https://localhost:8080/"
        },
        "id": "__jdanT5TLKt",
        "outputId": "06079fef-41e5-4dce-8045-5c8f39ed4c3c"
      },
      "outputs": [
        {
          "name": "stdout",
          "output_type": "stream",
          "text": [
            "                                               input  \\\n",
            "0  [INST]Given a raw source for a product, genera...   \n",
            "1  [INST]Given a raw source for a product, genera...   \n",
            "2  [INST]Given a raw source for a product, genera...   \n",
            "3  [INST]Given a raw source for a product, genera...   \n",
            "4  [INST]Given a raw source for a product, genera...   \n",
            "\n",
            "                                              output  \n",
            "0                      여성용 플리스 미니드레스 가을겨울 슬림핏 이너 스커트  \n",
            "1                       빈티지 스타일 남성 가죽 자켓 가을 겨울 패션 외투  \n",
            "2  [스마트 청소 로봇, 로봇 물걸레 청소기, 전자동 진공 청소기, 가정용 로봇 청소기...  \n",
            "3  [여행용배낭, 대용량배낭, 체크무늬배낭, 방수배낭, 남녀공용배낭, 2023신모델배낭...  \n",
            "4                   2023 신상 남성 청바지 와이드핏 스트레이트 빈티지 워싱  \n"
          ]
        }
      ],
      "source": [
        "import pandas as pd\n",
        "\n",
        "\n",
        "df = pd.read_csv(base_data)\n",
        "\n",
        "\n",
        "print(df.head())\n",
        "\n"
      ]
    },
    {
      "cell_type": "code",
      "execution_count": 13,
      "metadata": {
        "colab": {
          "base_uri": "https://localhost:8080/",
          "height": 183,
          "referenced_widgets": [
            "adf1bf751073496bb9c9d1688af57cbd",
            "d2b0ea7df19f423587b5e12a6b1664a2",
            "0729e0422e704bb6967a79e285ede7f9",
            "36e4bd7a06bf4f069f56787d609de254",
            "14a3185fb6494a60bdf6c1857b75d399",
            "eab00ad555704d8e9efaa88534e01c51",
            "3a1ce02583fe42a8aaee693935fa49f0",
            "d610c69977e1406ab4a9ac296eb8a325",
            "d2e826ca3f6c4180879bc1b689899112",
            "fe628715a0504054bebf71ce70291116",
            "14a760901f3a418685c64fef914230b7",
            "ce4cbe94adfe4bc983f43f84c8986fd0",
            "a9f7b745a74b41519254cf781f363c4d",
            "68ba870a951044c98796f35055512740",
            "75d18c42e74942bbbbb081b6766ccab9",
            "99e8d84568ed4199821b32ceae63677d",
            "a1e756692adb419fad69dd26f72f1116",
            "a4a82e93306e4041a9150ebb39ef72c2",
            "5c0935b9c7084513b580041d3bf129ec",
            "ba3b2f41e64e4d04ba28eaa952ad143e",
            "8981084c68a24acf8e36616f14998071",
            "bc4a38a93ca44f069f467fdd61bc945d"
          ]
        },
        "id": "CMRlaXmdTV1M",
        "outputId": "084f7651-2540-463d-8e93-8fa7c50edc69"
      },
      "outputs": [
        {
          "data": {
            "text/plain": [
              "DatasetDict({\n",
              "    train: Dataset({\n",
              "        features: ['input', 'output'],\n",
              "        num_rows: 3977\n",
              "    })\n",
              "})"
            ]
          },
          "execution_count": 13,
          "metadata": {},
          "output_type": "execute_result"
        }
      ],
      "source": [
        "data = load_dataset(\"csv\", data_files=\"./data/base0518_inout_train.csv\")\n",
        "val_data =load_dataset(\"csv\", data_files=\"./data/base0518_inout_val.csv\")\n",
        "data"
      ]
    },
    {
      "cell_type": "code",
      "execution_count": 14,
      "metadata": {
        "colab": {
          "base_uri": "https://localhost:8080/"
        },
        "id": "9ijvKDYrcUqb",
        "outputId": "58d9743d-0230-4d59-83b7-0f05c4505ea3"
      },
      "outputs": [
        {
          "data": {
            "text/plain": [
              "{'input': '[INST]Given a raw source for a product, generate a coherent and relevant product title in Korean.[/INST]플리스 미니드레스 여성용 이너 슬림핏 블랙 미니스커트 가을 겨울 신상 슬림핏 이너 세트',\n",
              " 'output': '여성용 플리스 미니드레스 가을겨울 슬림핏 이너 스커트'}"
            ]
          },
          "execution_count": 14,
          "metadata": {},
          "output_type": "execute_result"
        }
      ],
      "source": [
        "data['train'][0]"
      ]
    },
    {
      "cell_type": "code",
      "execution_count": 15,
      "metadata": {
        "colab": {
          "base_uri": "https://localhost:8080/"
        },
        "id": "ZjAcTRGfc8FT",
        "outputId": "89b8ff3d-7ef1-4800-936c-273d16f61af5"
      },
      "outputs": [
        {
          "data": {
            "text/plain": [
              "{'input': '[INST]Given a raw source for a product, generate a coherent and relevant product title in Korean.[/INST]유럽과 미국 스타일 빈티지 가죽 자켓 남성 가을 겨울 신상품 스탠드 칼라 오토바이 외투 젊은이 트렌디 패션 가죽',\n",
              " 'output': '빈티지 스타일 남성 가죽 자켓 가을 겨울 패션 외투'}"
            ]
          },
          "execution_count": 15,
          "metadata": {},
          "output_type": "execute_result"
        }
      ],
      "source": [
        "data['train'][1]"
      ]
    },
    {
      "cell_type": "code",
      "execution_count": 16,
      "metadata": {
        "colab": {
          "base_uri": "https://localhost:8080/",
          "height": 37
        },
        "id": "Ada-Px4H5ETn",
        "outputId": "8115ac17-75ba-4d2f-9e1d-1b82b8a10c11"
      },
      "outputs": [
        {
          "data": {
            "text/plain": [
              "'cpu'"
            ]
          },
          "execution_count": 16,
          "metadata": {},
          "output_type": "execute_result"
        }
      ],
      "source": [
        "device = \"cuda\" if torch.cuda.is_available() else \"cpu\" #will not use gpu right now\n",
        "device =\"cpu\"\n",
        "device"
      ]
    },
    {
      "cell_type": "code",
      "execution_count": 17,
      "metadata": {
        "colab": {
          "base_uri": "https://localhost:8080/",
          "height": 341,
          "referenced_widgets": [
            "64af70f54f324123931d9876715fbde1",
            "42f489e1e40e4065a10e66761507f3b6",
            "1fb7d836162d48618e44097f77472851",
            "b366f76b716641d0a080d5d6d326f459",
            "7e0f248dd5e4432f8c1743cc960e95cd",
            "ae429aad4d504f278b49f870ad542086",
            "cba3444a50924ba3ae6160a67841cd6c",
            "0c3abaf5ef624a218543db970aadd778",
            "1699ad15d8184000a95dec44b68703ea",
            "2476423fc83442379922ea9ef63faad7",
            "88fe4543ef6243259882664d7317ffdd"
          ]
        },
        "id": "oOq1v4OaTaXO",
        "outputId": "b30b0101-8431-4b2a-8aa0-6479397b97a8"
      },
      "outputs": [
        {
          "data": {
            "application/vnd.jupyter.widget-view+json": {
              "model_id": "64303b4d3fab4c0abe5914844e83a0e4",
              "version_major": 2,
              "version_minor": 0
            },
            "text/plain": [
              "Loading checkpoint shards:   0%|          | 0/2 [00:00<?, ?it/s]"
            ]
          },
          "metadata": {},
          "output_type": "display_data"
        },
        {
          "name": "stderr",
          "output_type": "stream",
          "text": [
            "/Users/kangwoojin/.pyenv/versions/3.11.5/lib/python3.11/site-packages/transformers/generation/configuration_utils.py:485: UserWarning: `do_sample` is set to `False`. However, `temperature` is set to `0.9` -- this flag is only used in sample-based generation modes. You should set `do_sample=True` or unset `temperature`. This was detected when initializing the generation config instance, which means the corresponding file may hold incorrect parameterization and should be fixed.\n",
            "  warnings.warn(\n",
            "/Users/kangwoojin/.pyenv/versions/3.11.5/lib/python3.11/site-packages/transformers/generation/configuration_utils.py:490: UserWarning: `do_sample` is set to `False`. However, `top_p` is set to `0.6` -- this flag is only used in sample-based generation modes. You should set `do_sample=True` or unset `top_p`. This was detected when initializing the generation config instance, which means the corresponding file may hold incorrect parameterization and should be fixed.\n",
            "  warnings.warn(\n",
            "/Users/kangwoojin/.pyenv/versions/3.11.5/lib/python3.11/site-packages/transformers/generation/configuration_utils.py:485: UserWarning: `do_sample` is set to `False`. However, `temperature` is set to `0.9` -- this flag is only used in sample-based generation modes. You should set `do_sample=True` or unset `temperature`.\n",
            "  warnings.warn(\n",
            "/Users/kangwoojin/.pyenv/versions/3.11.5/lib/python3.11/site-packages/transformers/generation/configuration_utils.py:490: UserWarning: `do_sample` is set to `False`. However, `top_p` is set to `0.6` -- this flag is only used in sample-based generation modes. You should set `do_sample=True` or unset `top_p`.\n",
            "  warnings.warn(\n"
          ]
        }
      ],
      "source": [
        "model = AutoModelForCausalLM.from_pretrained(\n",
        "    base_model,\n",
        "    #quantization_config=quant_config,\n",
        "    #device_map = \"auto\"\n",
        "    #device_map={\"\": 0}\n",
        "    device_map=\"cpu\"\n",
        ")\n",
        "#device = torch.device('cpu')\n",
        "#model = model.to(device)\n",
        "model.config.use_cache = False\n",
        "model.config.pretraining_tp = 1"
      ]
    },
    {
      "cell_type": "code",
      "execution_count": 18,
      "metadata": {
        "id": "0e_gZOe1ntzV"
      },
      "outputs": [],
      "source": [
        "tokenizer = AutoTokenizer.from_pretrained(base_model, trust_remote_code=True)\n",
        "tokenizer.pad_token = tokenizer.eos_token\n",
        "tokenizer.padding_side = \"right\""
      ]
    },
    {
      "cell_type": "code",
      "execution_count": 19,
      "metadata": {
        "id": "VuvWumWAq65T"
      },
      "outputs": [],
      "source": [
        "def tokenize_function(examples):\n",
        "    inputs = tokenizer(examples[\"input\"], padding=\"max_length\", truncation=True, max_length=512)\n",
        "    outputs = tokenizer(examples[\"output\"], padding=\"max_length\", truncation=True, max_length=512)\n",
        "    inputs['labels'] = outputs['input_ids']\n",
        "    return inputs"
      ]
    },
    {
      "cell_type": "code",
      "execution_count": 20,
      "metadata": {
        "colab": {
          "base_uri": "https://localhost:8080/"
        },
        "id": "g75cG8rowXhh",
        "outputId": "e68b2abe-0721-4b75-c00a-967dbcfe6c42"
      },
      "outputs": [
        {
          "data": {
            "text/plain": [
              "['input', 'output']"
            ]
          },
          "execution_count": 20,
          "metadata": {},
          "output_type": "execute_result"
        }
      ],
      "source": [
        "data['train'].column_names"
      ]
    },
    {
      "cell_type": "code",
      "execution_count": 21,
      "metadata": {
        "colab": {
          "base_uri": "https://localhost:8080/"
        },
        "id": "7G64qXn1UJlt",
        "outputId": "3d261a70-427a-47fd-8eb5-510672c1d885"
      },
      "outputs": [
        {
          "data": {
            "text/plain": [
              "{'input': '[INST]Given a raw source for a product, generate a coherent and relevant product title in Korean.[/INST]플리스 미니드레스 여성용 이너 슬림핏 블랙 미니스커트 가을 겨울 신상 슬림핏 이너 세트',\n",
              " 'output': '여성용 플리스 미니드레스 가을겨울 슬림핏 이너 스커트'}"
            ]
          },
          "execution_count": 21,
          "metadata": {},
          "output_type": "execute_result"
        }
      ],
      "source": [
        "data['train'][0]"
      ]
    },
    {
      "cell_type": "code",
      "execution_count": 22,
      "metadata": {
        "colab": {
          "base_uri": "https://localhost:8080/",
          "height": 81,
          "referenced_widgets": [
            "0c4015e1402447cba49cb848163a7b67",
            "1c90f7e08d974f0baaee653771facb0f",
            "2647bfa682c64e648886f00780ba343a",
            "fda6aa6b268341528c2dddd17b33caf4",
            "81ad554cc0cb4a9cb254c97615cdc8dc",
            "3d518f369331455d82905c75b3c7b04b",
            "279b054e7618429a9d01ee1284b9a7db",
            "8ad8767407a342e9814284ed39b68ab7",
            "ac812c677ec342d9b10d8a4a37c4bb86",
            "49666adae8fe4eebac85373717ee4087",
            "81bf595ca3234145a89dfdac308a9073",
            "62e587060d844bd8a5a38fb98c1aad82",
            "601f581f21c64c8a82fb819a46375fd7",
            "5f7d505d6cd449acbd5700e25facdae8",
            "04efd7b93aca451bb3949fb10029e242",
            "6b51722e55b94965a0fb0fb0c57cd075",
            "f32c811049d84fc68663b928ff9093c8",
            "46edecbe82c3427489f2c8cbf0ef25c9",
            "ec36bf6b4ee846d79981300d7cad17d3",
            "0c010dd94be0415b8accf007e0cafedb",
            "58b8d7329d594126a9e7b6c98aa00cea",
            "bcf68dcfea8e470ebbcf4263981f3a5d"
          ]
        },
        "id": "S90DT9iSrHMs",
        "outputId": "59062e59-2838-4de8-b358-08a981c9e09e"
      },
      "outputs": [
        {
          "data": {
            "application/vnd.jupyter.widget-view+json": {
              "model_id": "da375c980a0646a4837d7ffa07128083",
              "version_major": 2,
              "version_minor": 0
            },
            "text/plain": [
              "Map:   0%|          | 0/3977 [00:00<?, ? examples/s]"
            ]
          },
          "metadata": {},
          "output_type": "display_data"
        },
        {
          "data": {
            "application/vnd.jupyter.widget-view+json": {
              "model_id": "a6675f26325941258a00ed9e2f48ee05",
              "version_major": 2,
              "version_minor": 0
            },
            "text/plain": [
              "Map:   0%|          | 0/442 [00:00<?, ? examples/s]"
            ]
          },
          "metadata": {},
          "output_type": "display_data"
        }
      ],
      "source": [
        "tokenized_train_dataset = data['train'].map(tokenize_function, batched=True)\n",
        "tokenized_val_dataset = val_data['train'].map(tokenize_function, batched=True)"
      ]
    },
    {
      "cell_type": "code",
      "execution_count": 23,
      "metadata": {
        "colab": {
          "base_uri": "https://localhost:8080/"
        },
        "id": "vLTUBKa1xen0",
        "outputId": "99ab795d-31f6-4312-942a-0292ee4465a1"
      },
      "outputs": [
        {
          "data": {
            "text/plain": [
              "Dataset({\n",
              "    features: ['input', 'output', 'input_ids', 'attention_mask', 'labels'],\n",
              "    num_rows: 3977\n",
              "})"
            ]
          },
          "execution_count": 23,
          "metadata": {},
          "output_type": "execute_result"
        }
      ],
      "source": [
        "tokenized_train_dataset"
      ]
    },
    {
      "cell_type": "code",
      "execution_count": 24,
      "metadata": {
        "id": "4f7fXcI8nz2p"
      },
      "outputs": [],
      "source": [
        "peft_params = LoraConfig(\n",
        "    lora_alpha=16,\n",
        "    lora_dropout=0.1,\n",
        "    r=64,\n",
        "    bias=\"none\",\n",
        "    task_type=\"CAUSAL_LM\",\n",
        ")"
      ]
    },
    {
      "cell_type": "code",
      "execution_count": 25,
      "metadata": {
        "colab": {
          "base_uri": "https://localhost:8080/"
        },
        "id": "6muqelmDn5y8",
        "outputId": "e90b9e10-1d76-449c-f139-7c0b1a85fee2"
      },
      "outputs": [
        {
          "name": "stderr",
          "output_type": "stream",
          "text": [
            "/Users/kangwoojin/.pyenv/versions/3.11.5/lib/python3.11/site-packages/transformers/training_args.py:1489: FutureWarning: using `no_cuda` is deprecated and will be removed in version 5.0 of 🤗 Transformers. Use `use_cpu` instead\n",
            "  warnings.warn(\n",
            "/Users/kangwoojin/.pyenv/versions/3.11.5/lib/python3.11/site-packages/transformers/training_args.py:1474: FutureWarning: `evaluation_strategy` is deprecated and will be removed in version 4.46 of 🤗 Transformers. Use `eval_strategy` instead\n",
            "  warnings.warn(\n"
          ]
        }
      ],
      "source": [
        "training_params = TrainingArguments(\n",
        "    output_dir=\"./results\",\n",
        "    num_train_epochs=7,\n",
        "    per_device_train_batch_size=4,\n",
        "    gradient_accumulation_steps=1,\n",
        "    optim=\"paged_adamw_32bit\",\n",
        "    save_steps=25,\n",
        "    logging_steps=25,\n",
        "    learning_rate=2e-4,\n",
        "    weight_decay=0.001,\n",
        "    fp16=False,\n",
        "    bf16=False,\n",
        "    max_grad_norm=0.3,\n",
        "    max_steps=-1,\n",
        "    warmup_ratio=0.03,\n",
        "    group_by_length=True,\n",
        "    lr_scheduler_type=\"constant\",\n",
        "    report_to=\"tensorboard\",\n",
        "    no_cuda=True #train in CPU\n",
        ")\n",
        "\n",
        "training_params = TrainingArguments(\n",
        "    output_dir=\"./results\",\n",
        "    evaluation_strategy=\"epoch\",\n",
        "    learning_rate=2e-5,\n",
        "    per_device_train_batch_size=8,\n",
        "    per_device_eval_batch_size=8,\n",
        "    num_train_epochs=7,\n",
        "    weight_decay=0.01,\n",
        "    #remove_unused_columns=False\n",
        ")"
      ]
    },
    {
      "cell_type": "code",
      "execution_count": 26,
      "metadata": {
        "id": "UoDyqW2Lbfs-"
      },
      "outputs": [],
      "source": [
        "from transformers import Trainer\n"
      ]
    },
    {
      "cell_type": "code",
      "execution_count": 27,
      "metadata": {
        "id": "cZRumoTTTlpb"
      },
      "outputs": [],
      "source": [
        "'''\n",
        "trainer = SFTTrainer(\n",
        "    model=model,\n",
        "    train_dataset=data['train'],\n",
        "    eval_dataset=val_data['train'],\n",
        "    #peft_config=peft_params,\n",
        "    dataset_text_field=\"preprocessed_input\",\n",
        "    #max_seq_length=512,\n",
        "    tokenizer=tokenizer,\n",
        "    args=training_params,\n",
        "    #packing=False,\n",
        ")\n",
        "'''\n",
        "trainer = Trainer(\n",
        "    model=model,\n",
        "    train_dataset=data['train'],\n",
        "    eval_dataset=val_data['train'],\n",
        "    #peft_config=peft_params,\n",
        "    #dataset_text_field=\"preprocessed_input\",\n",
        "    #max_seq_length=512,\n",
        "    tokenizer=tokenizer,\n",
        "    args=training_params,\n",
        "    #packing=False,\n",
        ")"
      ]
    },
    {
      "cell_type": "code",
      "execution_count": 28,
      "metadata": {
        "colab": {
          "base_uri": "https://localhost:8080/"
        },
        "id": "WrYi5l0VcgEs",
        "outputId": "ef4af598-f8fc-4425-ff06-741848ace107"
      },
      "outputs": [
        {
          "name": "stdout",
          "output_type": "stream",
          "text": [
            "{'input': ['[INST]Given a raw source for a product, generate a coherent and relevant product title in Korean.[/INST]플리스 미니드레스 여성용 이너 슬림핏 블랙 미니스커트 가을 겨울 신상 슬림핏 이너 세트', '[INST]Given a raw source for a product, generate a coherent and relevant product title in Korean.[/INST]유럽과 미국 스타일 빈티지 가죽 자켓 남성 가을 겨울 신상품 스탠드 칼라 오토바이 외투 젊은이 트렌디 패션 가죽', '[INST]Given a raw source for a product, generate related search keywords in Korean that are relevant to the raw source and practically usable[/INST]다기능 스마트 청소 로봇 가정용 전자동 물걸레 청소기 진공 청소기 조용하고 얇은 바닥 청소 장비', '[INST]Given a raw source for a product, generate related search keywords in Korean that are relevant to the raw source and practically usable[/INST]레트로 체크무늬 대용량 여행 배낭 남녀공용 2023 신모델 방수 내마모성 다기능 학생 책가방', '[INST]Given a raw source for a product, generate a coherent and relevant product title in Korean.[/INST]청바지 남성 2023 봄 신상 트렌디한 와이드핏 스트레이트 빈티지 워싱 주름 방지 내마모성 남성용 캐주얼 롱팬츠'], 'output': ['여성용 플리스 미니드레스 가을겨울 슬림핏 이너 스커트', '빈티지 스타일 남성 가죽 자켓 가을 겨울 패션 외투', '[스마트 청소 로봇, 로봇 물걸레 청소기, 전자동 진공 청소기, 가정용 로봇 청소기, 조용한 로봇 청소기, 얇은 로봇 청소기, 바닥 청소 로봇 추천]', '[여행용배낭, 대용량배낭, 체크무늬배낭, 방수배낭, 남녀공용배낭, 2023신모델배낭, 학생책가방, 다기능배낭]', '2023 신상 남성 청바지 와이드핏 스트레이트 빈티지 워싱']}\n",
            "{'input': ['[INST]Given a raw source for a product, generate a coherent and relevant product title in Korean.[/INST]금속 질감 기계식 키보드 104키 RGB 백라이트 게임 사무용 듀얼 모드 무선 블루투스 5.0/유선 연결 풀사이즈 키', '[INST]Given a raw source for a product, generate a coherent and relevant product title in Korean.[/INST]가정용 스마트 로봇 청소기 자동 무소음 얇은 카펫 바닥 청소기 지능형 스윕 물걸레 일체형 기계', '[INST]Given a raw source for a product, generate five detailed descriptions in Korean. Each description should be relevant to the raw source.[/INST]레트로 스타일 남성 가죽 재킷 2023 봄 신상 스탠드 칼라 바이커 재킷 검정색 정품 가죽 외투 남성복', '[INST]Given a raw source for a product, generate five detailed descriptions in Korean. Each description should be relevant to the raw source.[/INST]금속 질감 기계식 키보드 유선 USB 백라이트 게임 사무용 키보드 방수 내구성 단축키 풀사이즈 키보드', '[INST]Given a raw source for a product, generate related search keywords in Korean that are relevant to the raw source and practically usable[/INST]【2023 신모델】Apple iPhone 15 Pro Max 512GB 스페이스 그레이 슈퍼 레티나 XDR 디스플레이, A17 칩, 5G 속도, 전 네트워크 호환 스마트'], 'output': ['무선/유선 겸용 RGB 백라이트 기계식 키보드 104키', '무소음 스마트 로봇 청소기, 얇은 카펫 바닥용 일체형', '2023년 봄 시즌을 맞이하여 새롭게 선보이는 레트로 스타일의 남성 가죽 재킷입니다.\\n스탠드 칼라 디자인이 돋보이는 이 바이커 재킷은 정품 가죽으로 제작되어 내구성이 뛰어나며 고급스러움을 자랑합니다.\\n검정색의 깔끔하고 클래식한 색상으로 어떤 옷과도 잘 어울려 다양한 패션 스타일링이 가능합니다.\\n남성복으로서의 세련된 디테일과 편안한 착용감을 제공하여 일상생활은 물론 특별한 날에도 멋스럽게 연출할 수 있습니다.\\n이 가죽 재킷은 봄철 쌀쌀한 날씨에 적합하며, 오랫동안 사용해도 변함없는 품질을 유지합니다.', '금속 질감의 기계식 키보드로, 견고하고 오래 사용해도 변함없는 품질을 자랑합니다.\\n풀사이즈 배열을 갖춘 이 키보드는 게임은 물론 사무용으로도 완벽하게 활용할 수 있습니다.\\nUSB 연결을 통해 간편하게 사용할 수 있으며, 백라이트 기능으로 어두운 환경에서도 키보드 입력이 용이합니다.\\n방수 기능이 탑재되어 있어 음료수가 흘러도 쉽게 닦아낼 수 있고, 키보드 손상 걱정이 줄어듭니다.\\n편리한 단축키를 포함하여 사용자의 효율을 높여주며, 모든 작업을 더욱 빠르고 쉽게 처리할 수 있습니다.', '[아이폰 15 프로 맥스, 아이폰 15 512GB, 스페이스 그레이 아이폰, 슈퍼 레티나 XDR, A17 칩 스마트폰, 5G 아이폰, 2023 신모델 스마트폰]']}\n"
          ]
        }
      ],
      "source": [
        "print(data['train'][:5])\n",
        "print(val_data['train'][:5])\n"
      ]
    },
    {
      "cell_type": "code",
      "execution_count": 29,
      "metadata": {
        "id": "W1hZMp77ytyV"
      },
      "outputs": [
        {
          "ename": "RuntimeError",
          "evalue": "MPS backend out of memory (MPS allocated: 17.75 GB, other allocations: 324.07 MB, max allowed: 18.13 GB). Tried to allocate 172.00 MB on private pool. Use PYTORCH_MPS_HIGH_WATERMARK_RATIO=0.0 to disable upper limit for memory allocations (may cause system failure).",
          "output_type": "error",
          "traceback": [
            "\u001b[0;31m---------------------------------------------------------------------------\u001b[0m",
            "\u001b[0;31mRuntimeError\u001b[0m                              Traceback (most recent call last)",
            "Cell \u001b[0;32mIn[29], line 1\u001b[0m\n\u001b[0;32m----> 1\u001b[0m trainer\u001b[39m.\u001b[39;49mtrain()\n",
            "File \u001b[0;32m~/.pyenv/versions/3.11.5/lib/python3.11/site-packages/transformers/trainer.py:1885\u001b[0m, in \u001b[0;36mTrainer.train\u001b[0;34m(self, resume_from_checkpoint, trial, ignore_keys_for_eval, **kwargs)\u001b[0m\n\u001b[1;32m   1883\u001b[0m         hf_hub_utils\u001b[39m.\u001b[39menable_progress_bars()\n\u001b[1;32m   1884\u001b[0m \u001b[39melse\u001b[39;00m:\n\u001b[0;32m-> 1885\u001b[0m     \u001b[39mreturn\u001b[39;00m inner_training_loop(\n\u001b[1;32m   1886\u001b[0m         args\u001b[39m=\u001b[39;49margs,\n\u001b[1;32m   1887\u001b[0m         resume_from_checkpoint\u001b[39m=\u001b[39;49mresume_from_checkpoint,\n\u001b[1;32m   1888\u001b[0m         trial\u001b[39m=\u001b[39;49mtrial,\n\u001b[1;32m   1889\u001b[0m         ignore_keys_for_eval\u001b[39m=\u001b[39;49mignore_keys_for_eval,\n\u001b[1;32m   1890\u001b[0m     )\n",
            "File \u001b[0;32m~/.pyenv/versions/3.11.5/lib/python3.11/site-packages/transformers/trainer.py:2042\u001b[0m, in \u001b[0;36mTrainer._inner_training_loop\u001b[0;34m(self, batch_size, args, resume_from_checkpoint, trial, ignore_keys_for_eval)\u001b[0m\n\u001b[1;32m   2040\u001b[0m         model \u001b[39m=\u001b[39m \u001b[39mself\u001b[39m\u001b[39m.\u001b[39maccelerator\u001b[39m.\u001b[39mprepare(\u001b[39mself\u001b[39m\u001b[39m.\u001b[39mmodel)\n\u001b[1;32m   2041\u001b[0m     \u001b[39melse\u001b[39;00m:\n\u001b[0;32m-> 2042\u001b[0m         model, \u001b[39mself\u001b[39m\u001b[39m.\u001b[39moptimizer \u001b[39m=\u001b[39m \u001b[39mself\u001b[39;49m\u001b[39m.\u001b[39;49maccelerator\u001b[39m.\u001b[39;49mprepare(\u001b[39mself\u001b[39;49m\u001b[39m.\u001b[39;49mmodel, \u001b[39mself\u001b[39;49m\u001b[39m.\u001b[39;49moptimizer)\n\u001b[1;32m   2043\u001b[0m \u001b[39melse\u001b[39;00m:\n\u001b[1;32m   2044\u001b[0m     \u001b[39m# to handle cases wherein we pass \"DummyScheduler\" such as when it is specified in DeepSpeed config.\u001b[39;00m\n\u001b[1;32m   2045\u001b[0m     model, \u001b[39mself\u001b[39m\u001b[39m.\u001b[39moptimizer, \u001b[39mself\u001b[39m\u001b[39m.\u001b[39mlr_scheduler \u001b[39m=\u001b[39m \u001b[39mself\u001b[39m\u001b[39m.\u001b[39maccelerator\u001b[39m.\u001b[39mprepare(\n\u001b[1;32m   2046\u001b[0m         \u001b[39mself\u001b[39m\u001b[39m.\u001b[39mmodel, \u001b[39mself\u001b[39m\u001b[39m.\u001b[39moptimizer, \u001b[39mself\u001b[39m\u001b[39m.\u001b[39mlr_scheduler\n\u001b[1;32m   2047\u001b[0m     )\n",
            "File \u001b[0;32m~/.pyenv/versions/3.11.5/lib/python3.11/site-packages/accelerate/accelerator.py:1292\u001b[0m, in \u001b[0;36mAccelerator.prepare\u001b[0;34m(self, device_placement, *args)\u001b[0m\n\u001b[1;32m   1290\u001b[0m         \u001b[39m# MS-AMP will handle the device placement\u001b[39;00m\n\u001b[1;32m   1291\u001b[0m         device_placement \u001b[39m=\u001b[39m [\u001b[39mFalse\u001b[39;00m \u001b[39mfor\u001b[39;00m _ \u001b[39min\u001b[39;00m args]\n\u001b[0;32m-> 1292\u001b[0m     result \u001b[39m=\u001b[39m \u001b[39mtuple\u001b[39;49m(\n\u001b[1;32m   1293\u001b[0m         \u001b[39mself\u001b[39;49m\u001b[39m.\u001b[39;49m_prepare_one(obj, first_pass\u001b[39m=\u001b[39;49m\u001b[39mTrue\u001b[39;49;00m, device_placement\u001b[39m=\u001b[39;49md) \u001b[39mfor\u001b[39;49;00m obj, d \u001b[39min\u001b[39;49;00m \u001b[39mzip\u001b[39;49m(args, device_placement)\n\u001b[1;32m   1294\u001b[0m     )\n\u001b[1;32m   1295\u001b[0m     result \u001b[39m=\u001b[39m \u001b[39mtuple\u001b[39m(\u001b[39mself\u001b[39m\u001b[39m.\u001b[39m_prepare_one(obj, device_placement\u001b[39m=\u001b[39md) \u001b[39mfor\u001b[39;00m obj, d \u001b[39min\u001b[39;00m \u001b[39mzip\u001b[39m(result, device_placement))\n\u001b[1;32m   1297\u001b[0m \u001b[39mif\u001b[39;00m tpu_should_fix_optimizer \u001b[39mor\u001b[39;00m (\u001b[39mself\u001b[39m\u001b[39m.\u001b[39mmixed_precision \u001b[39m==\u001b[39m \u001b[39m\"\u001b[39m\u001b[39mfp8\u001b[39m\u001b[39m\"\u001b[39m \u001b[39mand\u001b[39;00m \u001b[39mself\u001b[39m\u001b[39m.\u001b[39mfp8_recipe_handler\u001b[39m.\u001b[39mbackend \u001b[39m==\u001b[39m \u001b[39m\"\u001b[39m\u001b[39mTE\u001b[39m\u001b[39m\"\u001b[39m):\n\u001b[1;32m   1298\u001b[0m     \u001b[39m# 2. grabbing new model parameters\u001b[39;00m\n",
            "File \u001b[0;32m~/.pyenv/versions/3.11.5/lib/python3.11/site-packages/accelerate/accelerator.py:1293\u001b[0m, in \u001b[0;36m<genexpr>\u001b[0;34m(.0)\u001b[0m\n\u001b[1;32m   1290\u001b[0m         \u001b[39m# MS-AMP will handle the device placement\u001b[39;00m\n\u001b[1;32m   1291\u001b[0m         device_placement \u001b[39m=\u001b[39m [\u001b[39mFalse\u001b[39;00m \u001b[39mfor\u001b[39;00m _ \u001b[39min\u001b[39;00m args]\n\u001b[1;32m   1292\u001b[0m     result \u001b[39m=\u001b[39m \u001b[39mtuple\u001b[39m(\n\u001b[0;32m-> 1293\u001b[0m         \u001b[39mself\u001b[39;49m\u001b[39m.\u001b[39;49m_prepare_one(obj, first_pass\u001b[39m=\u001b[39;49m\u001b[39mTrue\u001b[39;49;00m, device_placement\u001b[39m=\u001b[39;49md) \u001b[39mfor\u001b[39;00m obj, d \u001b[39min\u001b[39;00m \u001b[39mzip\u001b[39m(args, device_placement)\n\u001b[1;32m   1294\u001b[0m     )\n\u001b[1;32m   1295\u001b[0m     result \u001b[39m=\u001b[39m \u001b[39mtuple\u001b[39m(\u001b[39mself\u001b[39m\u001b[39m.\u001b[39m_prepare_one(obj, device_placement\u001b[39m=\u001b[39md) \u001b[39mfor\u001b[39;00m obj, d \u001b[39min\u001b[39;00m \u001b[39mzip\u001b[39m(result, device_placement))\n\u001b[1;32m   1297\u001b[0m \u001b[39mif\u001b[39;00m tpu_should_fix_optimizer \u001b[39mor\u001b[39;00m (\u001b[39mself\u001b[39m\u001b[39m.\u001b[39mmixed_precision \u001b[39m==\u001b[39m \u001b[39m\"\u001b[39m\u001b[39mfp8\u001b[39m\u001b[39m\"\u001b[39m \u001b[39mand\u001b[39;00m \u001b[39mself\u001b[39m\u001b[39m.\u001b[39mfp8_recipe_handler\u001b[39m.\u001b[39mbackend \u001b[39m==\u001b[39m \u001b[39m\"\u001b[39m\u001b[39mTE\u001b[39m\u001b[39m\"\u001b[39m):\n\u001b[1;32m   1298\u001b[0m     \u001b[39m# 2. grabbing new model parameters\u001b[39;00m\n",
            "File \u001b[0;32m~/.pyenv/versions/3.11.5/lib/python3.11/site-packages/accelerate/accelerator.py:1169\u001b[0m, in \u001b[0;36mAccelerator._prepare_one\u001b[0;34m(self, obj, first_pass, device_placement)\u001b[0m\n\u001b[1;32m   1167\u001b[0m     \u001b[39mreturn\u001b[39;00m \u001b[39mself\u001b[39m\u001b[39m.\u001b[39mprepare_data_loader(obj, device_placement\u001b[39m=\u001b[39mdevice_placement)\n\u001b[1;32m   1168\u001b[0m \u001b[39melif\u001b[39;00m \u001b[39misinstance\u001b[39m(obj, torch\u001b[39m.\u001b[39mnn\u001b[39m.\u001b[39mModule):\n\u001b[0;32m-> 1169\u001b[0m     \u001b[39mreturn\u001b[39;00m \u001b[39mself\u001b[39;49m\u001b[39m.\u001b[39;49mprepare_model(obj, device_placement\u001b[39m=\u001b[39;49mdevice_placement)\n\u001b[1;32m   1170\u001b[0m \u001b[39melif\u001b[39;00m \u001b[39misinstance\u001b[39m(obj, torch\u001b[39m.\u001b[39moptim\u001b[39m.\u001b[39mOptimizer):\n\u001b[1;32m   1171\u001b[0m     optimizer \u001b[39m=\u001b[39m \u001b[39mself\u001b[39m\u001b[39m.\u001b[39mprepare_optimizer(obj, device_placement\u001b[39m=\u001b[39mdevice_placement)\n",
            "File \u001b[0;32m~/.pyenv/versions/3.11.5/lib/python3.11/site-packages/accelerate/accelerator.py:1412\u001b[0m, in \u001b[0;36mAccelerator.prepare_model\u001b[0;34m(self, model, device_placement, evaluation_mode)\u001b[0m\n\u001b[1;32m   1408\u001b[0m         \u001b[39mraise\u001b[39;00m \u001b[39mValueError\u001b[39;00m(\n\u001b[1;32m   1409\u001b[0m             \u001b[39m\"\u001b[39m\u001b[39mYou can\u001b[39m\u001b[39m'\u001b[39m\u001b[39mt train a model that has been loaded in 8-bit precision with CPU or disk offload.\u001b[39m\u001b[39m\"\u001b[39m\n\u001b[1;32m   1410\u001b[0m         )\n\u001b[1;32m   1411\u001b[0m \u001b[39melif\u001b[39;00m device_placement \u001b[39mand\u001b[39;00m \u001b[39mnot\u001b[39;00m \u001b[39mself\u001b[39m\u001b[39m.\u001b[39mverify_device_map(model):\n\u001b[0;32m-> 1412\u001b[0m     model \u001b[39m=\u001b[39m model\u001b[39m.\u001b[39;49mto(\u001b[39mself\u001b[39;49m\u001b[39m.\u001b[39;49mdevice)\n\u001b[1;32m   1413\u001b[0m \u001b[39mif\u001b[39;00m \u001b[39mnot\u001b[39;00m evaluation_mode:\n\u001b[1;32m   1414\u001b[0m     \u001b[39mif\u001b[39;00m \u001b[39mself\u001b[39m\u001b[39m.\u001b[39mdistributed_type \u001b[39min\u001b[39;00m (\n\u001b[1;32m   1415\u001b[0m         DistributedType\u001b[39m.\u001b[39mMULTI_GPU,\n\u001b[1;32m   1416\u001b[0m         DistributedType\u001b[39m.\u001b[39mMULTI_MLU,\n\u001b[1;32m   1417\u001b[0m         DistributedType\u001b[39m.\u001b[39mMULTI_NPU,\n\u001b[1;32m   1418\u001b[0m         DistributedType\u001b[39m.\u001b[39mMULTI_XPU,\n\u001b[1;32m   1419\u001b[0m     ):\n",
            "File \u001b[0;32m~/.pyenv/versions/3.11.5/lib/python3.11/site-packages/transformers/modeling_utils.py:2701\u001b[0m, in \u001b[0;36mPreTrainedModel.to\u001b[0;34m(self, *args, **kwargs)\u001b[0m\n\u001b[1;32m   2696\u001b[0m     \u001b[39mif\u001b[39;00m dtype_present_in_args:\n\u001b[1;32m   2697\u001b[0m         \u001b[39mraise\u001b[39;00m \u001b[39mValueError\u001b[39;00m(\n\u001b[1;32m   2698\u001b[0m             \u001b[39m\"\u001b[39m\u001b[39mYou cannot cast a GPTQ model in a new `dtype`. Make sure to load the model using `from_pretrained` using the desired\u001b[39m\u001b[39m\"\u001b[39m\n\u001b[1;32m   2699\u001b[0m             \u001b[39m\"\u001b[39m\u001b[39m `dtype` by passing the correct `torch_dtype` argument.\u001b[39m\u001b[39m\"\u001b[39m\n\u001b[1;32m   2700\u001b[0m         )\n\u001b[0;32m-> 2701\u001b[0m \u001b[39mreturn\u001b[39;00m \u001b[39msuper\u001b[39;49m()\u001b[39m.\u001b[39;49mto(\u001b[39m*\u001b[39;49margs, \u001b[39m*\u001b[39;49m\u001b[39m*\u001b[39;49mkwargs)\n",
            "File \u001b[0;32m~/.pyenv/versions/3.11.5/lib/python3.11/site-packages/torch/nn/modules/module.py:1145\u001b[0m, in \u001b[0;36mModule.to\u001b[0;34m(self, *args, **kwargs)\u001b[0m\n\u001b[1;32m   1141\u001b[0m         \u001b[39mreturn\u001b[39;00m t\u001b[39m.\u001b[39mto(device, dtype \u001b[39mif\u001b[39;00m t\u001b[39m.\u001b[39mis_floating_point() \u001b[39mor\u001b[39;00m t\u001b[39m.\u001b[39mis_complex() \u001b[39melse\u001b[39;00m \u001b[39mNone\u001b[39;00m,\n\u001b[1;32m   1142\u001b[0m                     non_blocking, memory_format\u001b[39m=\u001b[39mconvert_to_format)\n\u001b[1;32m   1143\u001b[0m     \u001b[39mreturn\u001b[39;00m t\u001b[39m.\u001b[39mto(device, dtype \u001b[39mif\u001b[39;00m t\u001b[39m.\u001b[39mis_floating_point() \u001b[39mor\u001b[39;00m t\u001b[39m.\u001b[39mis_complex() \u001b[39melse\u001b[39;00m \u001b[39mNone\u001b[39;00m, non_blocking)\n\u001b[0;32m-> 1145\u001b[0m \u001b[39mreturn\u001b[39;00m \u001b[39mself\u001b[39;49m\u001b[39m.\u001b[39;49m_apply(convert)\n",
            "File \u001b[0;32m~/.pyenv/versions/3.11.5/lib/python3.11/site-packages/torch/nn/modules/module.py:797\u001b[0m, in \u001b[0;36mModule._apply\u001b[0;34m(self, fn)\u001b[0m\n\u001b[1;32m    795\u001b[0m \u001b[39mdef\u001b[39;00m \u001b[39m_apply\u001b[39m(\u001b[39mself\u001b[39m, fn):\n\u001b[1;32m    796\u001b[0m     \u001b[39mfor\u001b[39;00m module \u001b[39min\u001b[39;00m \u001b[39mself\u001b[39m\u001b[39m.\u001b[39mchildren():\n\u001b[0;32m--> 797\u001b[0m         module\u001b[39m.\u001b[39;49m_apply(fn)\n\u001b[1;32m    799\u001b[0m     \u001b[39mdef\u001b[39;00m \u001b[39mcompute_should_use_set_data\u001b[39m(tensor, tensor_applied):\n\u001b[1;32m    800\u001b[0m         \u001b[39mif\u001b[39;00m torch\u001b[39m.\u001b[39m_has_compatible_shallow_copy_type(tensor, tensor_applied):\n\u001b[1;32m    801\u001b[0m             \u001b[39m# If the new tensor has compatible tensor type as the existing tensor,\u001b[39;00m\n\u001b[1;32m    802\u001b[0m             \u001b[39m# the current behavior is to change the tensor in-place using `.data =`,\u001b[39;00m\n\u001b[0;32m   (...)\u001b[0m\n\u001b[1;32m    807\u001b[0m             \u001b[39m# global flag to let the user control whether they want the future\u001b[39;00m\n\u001b[1;32m    808\u001b[0m             \u001b[39m# behavior of overwriting the existing tensor or not.\u001b[39;00m\n",
            "File \u001b[0;32m~/.pyenv/versions/3.11.5/lib/python3.11/site-packages/torch/nn/modules/module.py:797\u001b[0m, in \u001b[0;36mModule._apply\u001b[0;34m(self, fn)\u001b[0m\n\u001b[1;32m    795\u001b[0m \u001b[39mdef\u001b[39;00m \u001b[39m_apply\u001b[39m(\u001b[39mself\u001b[39m, fn):\n\u001b[1;32m    796\u001b[0m     \u001b[39mfor\u001b[39;00m module \u001b[39min\u001b[39;00m \u001b[39mself\u001b[39m\u001b[39m.\u001b[39mchildren():\n\u001b[0;32m--> 797\u001b[0m         module\u001b[39m.\u001b[39;49m_apply(fn)\n\u001b[1;32m    799\u001b[0m     \u001b[39mdef\u001b[39;00m \u001b[39mcompute_should_use_set_data\u001b[39m(tensor, tensor_applied):\n\u001b[1;32m    800\u001b[0m         \u001b[39mif\u001b[39;00m torch\u001b[39m.\u001b[39m_has_compatible_shallow_copy_type(tensor, tensor_applied):\n\u001b[1;32m    801\u001b[0m             \u001b[39m# If the new tensor has compatible tensor type as the existing tensor,\u001b[39;00m\n\u001b[1;32m    802\u001b[0m             \u001b[39m# the current behavior is to change the tensor in-place using `.data =`,\u001b[39;00m\n\u001b[0;32m   (...)\u001b[0m\n\u001b[1;32m    807\u001b[0m             \u001b[39m# global flag to let the user control whether they want the future\u001b[39;00m\n\u001b[1;32m    808\u001b[0m             \u001b[39m# behavior of overwriting the existing tensor or not.\u001b[39;00m\n",
            "    \u001b[0;31m[... skipping similar frames: Module._apply at line 797 (2 times)]\u001b[0m\n",
            "File \u001b[0;32m~/.pyenv/versions/3.11.5/lib/python3.11/site-packages/torch/nn/modules/module.py:797\u001b[0m, in \u001b[0;36mModule._apply\u001b[0;34m(self, fn)\u001b[0m\n\u001b[1;32m    795\u001b[0m \u001b[39mdef\u001b[39;00m \u001b[39m_apply\u001b[39m(\u001b[39mself\u001b[39m, fn):\n\u001b[1;32m    796\u001b[0m     \u001b[39mfor\u001b[39;00m module \u001b[39min\u001b[39;00m \u001b[39mself\u001b[39m\u001b[39m.\u001b[39mchildren():\n\u001b[0;32m--> 797\u001b[0m         module\u001b[39m.\u001b[39;49m_apply(fn)\n\u001b[1;32m    799\u001b[0m     \u001b[39mdef\u001b[39;00m \u001b[39mcompute_should_use_set_data\u001b[39m(tensor, tensor_applied):\n\u001b[1;32m    800\u001b[0m         \u001b[39mif\u001b[39;00m torch\u001b[39m.\u001b[39m_has_compatible_shallow_copy_type(tensor, tensor_applied):\n\u001b[1;32m    801\u001b[0m             \u001b[39m# If the new tensor has compatible tensor type as the existing tensor,\u001b[39;00m\n\u001b[1;32m    802\u001b[0m             \u001b[39m# the current behavior is to change the tensor in-place using `.data =`,\u001b[39;00m\n\u001b[0;32m   (...)\u001b[0m\n\u001b[1;32m    807\u001b[0m             \u001b[39m# global flag to let the user control whether they want the future\u001b[39;00m\n\u001b[1;32m    808\u001b[0m             \u001b[39m# behavior of overwriting the existing tensor or not.\u001b[39;00m\n",
            "File \u001b[0;32m~/.pyenv/versions/3.11.5/lib/python3.11/site-packages/torch/nn/modules/module.py:820\u001b[0m, in \u001b[0;36mModule._apply\u001b[0;34m(self, fn)\u001b[0m\n\u001b[1;32m    816\u001b[0m \u001b[39m# Tensors stored in modules are graph leaves, and we don't want to\u001b[39;00m\n\u001b[1;32m    817\u001b[0m \u001b[39m# track autograd history of `param_applied`, so we have to use\u001b[39;00m\n\u001b[1;32m    818\u001b[0m \u001b[39m# `with torch.no_grad():`\u001b[39;00m\n\u001b[1;32m    819\u001b[0m \u001b[39mwith\u001b[39;00m torch\u001b[39m.\u001b[39mno_grad():\n\u001b[0;32m--> 820\u001b[0m     param_applied \u001b[39m=\u001b[39m fn(param)\n\u001b[1;32m    821\u001b[0m should_use_set_data \u001b[39m=\u001b[39m compute_should_use_set_data(param, param_applied)\n\u001b[1;32m    822\u001b[0m \u001b[39mif\u001b[39;00m should_use_set_data:\n",
            "File \u001b[0;32m~/.pyenv/versions/3.11.5/lib/python3.11/site-packages/torch/nn/modules/module.py:1143\u001b[0m, in \u001b[0;36mModule.to.<locals>.convert\u001b[0;34m(t)\u001b[0m\n\u001b[1;32m   1140\u001b[0m \u001b[39mif\u001b[39;00m convert_to_format \u001b[39mis\u001b[39;00m \u001b[39mnot\u001b[39;00m \u001b[39mNone\u001b[39;00m \u001b[39mand\u001b[39;00m t\u001b[39m.\u001b[39mdim() \u001b[39min\u001b[39;00m (\u001b[39m4\u001b[39m, \u001b[39m5\u001b[39m):\n\u001b[1;32m   1141\u001b[0m     \u001b[39mreturn\u001b[39;00m t\u001b[39m.\u001b[39mto(device, dtype \u001b[39mif\u001b[39;00m t\u001b[39m.\u001b[39mis_floating_point() \u001b[39mor\u001b[39;00m t\u001b[39m.\u001b[39mis_complex() \u001b[39melse\u001b[39;00m \u001b[39mNone\u001b[39;00m,\n\u001b[1;32m   1142\u001b[0m                 non_blocking, memory_format\u001b[39m=\u001b[39mconvert_to_format)\n\u001b[0;32m-> 1143\u001b[0m \u001b[39mreturn\u001b[39;00m t\u001b[39m.\u001b[39;49mto(device, dtype \u001b[39mif\u001b[39;49;00m t\u001b[39m.\u001b[39;49mis_floating_point() \u001b[39mor\u001b[39;49;00m t\u001b[39m.\u001b[39;49mis_complex() \u001b[39melse\u001b[39;49;00m \u001b[39mNone\u001b[39;49;00m, non_blocking)\n",
            "\u001b[0;31mRuntimeError\u001b[0m: MPS backend out of memory (MPS allocated: 17.75 GB, other allocations: 324.07 MB, max allowed: 18.13 GB). Tried to allocate 172.00 MB on private pool. Use PYTORCH_MPS_HIGH_WATERMARK_RATIO=0.0 to disable upper limit for memory allocations (may cause system failure)."
          ]
        }
      ],
      "source": [
        "trainer.train()"
      ]
    },
    {
      "cell_type": "code",
      "execution_count": null,
      "metadata": {
        "id": "Mic2Xv3MHjRV"
      },
      "outputs": [],
      "source": [
        "new_model = \"./results/llama-0519\""
      ]
    },
    {
      "cell_type": "code",
      "execution_count": null,
      "metadata": {
        "id": "uAku5tLfTzJA"
      },
      "outputs": [],
      "source": [
        "trainer.model.save_pretrained(new_model)\n",
        "trainer.tokenizer.save_pretrained(new_model)\n"
      ]
    },
    {
      "cell_type": "code",
      "execution_count": null,
      "metadata": {
        "id": "-xlcDHBzT1U_"
      },
      "outputs": [],
      "source": [
        "logging.set_verbosity(logging.CRITICAL)\n",
        "\n",
        "prompt1 = \"[INST]Given a raw source for a product, generate a coherent and relevant product title in Korean.[/INST]새로운 스마트워치 2023 터치 스크린 운동 모니터링 심박수 혈압 수면 추적 다기능 남녀 공용 블루투스 팔찌\"\n"
      ]
    },
    {
      "cell_type": "code",
      "execution_count": null,
      "metadata": {
        "id": "j_aIr0-eF2qQ"
      },
      "outputs": [],
      "source": [
        "prompt2 = \"[INST]Given a raw source for a product, generate five detailed descriptions in Korean. Each description should be korean and relevant to the raw source.[/INST]창의적인 다기능 책상 정리함 사무실 학생 문구함 가정용 미니 서랍형 화장품 정리함\"\n"
      ]
    },
    {
      "cell_type": "code",
      "execution_count": null,
      "metadata": {
        "id": "kSfsMHtJ-OQI"
      },
      "outputs": [],
      "source": [
        "#prompt = \"[INST]Given a raw source for a product, generate five detailed descriptions in Korean.[/INST]창의적인 다기능 책상 정리함 사무실 학생 문구함 가정용 미니 서랍형 화장품 정리함\"\n",
        "\n",
        "input_text = f\"{prompt1}\"\n",
        "input_ids = tokenizer(input_text, return_tensors=\"pt\").input_ids\n",
        "\n",
        "with torch.no_grad():\n",
        "    output_ids = model.generate(\n",
        "        input_ids,\n",
        "        max_length=512,\n",
        "        do_sample=True,  # Enable sampling if you want diverse results\n",
        "        temperature=0.9,  # Adjust based on desired creativity\n",
        "        top_p=0.95,\n",
        "        top_k=50\n",
        "    )\n",
        "response = tokenizer.decode(output_ids[0], skip_special_tokens=True)\n",
        "\n",
        "print(response)"
      ]
    },
    {
      "cell_type": "code",
      "execution_count": null,
      "metadata": {
        "id": "E502t9iEfDgk"
      },
      "outputs": [],
      "source": [
        "input_text = f\"{prompt2}\"\n",
        "input_ids = tokenizer(input_text, return_tensors=\"pt\").input_ids\n",
        "\n",
        "with torch.no_grad():\n",
        "    output_ids = model.generate(\n",
        "        input_ids,\n",
        "        max_length=512,\n",
        "        do_sample=True,  # Enable sampling if you want diverse results\n",
        "        temperature=0.9,  # Adjust based on desired creativity\n",
        "        top_p=0.95,\n",
        "        top_k=50\n",
        "    )\n",
        "response = tokenizer.decode(output_ids[0], skip_special_tokens=True)\n",
        "\n",
        "print(response)"
      ]
    },
    {
      "cell_type": "code",
      "execution_count": null,
      "metadata": {
        "colab": {
          "base_uri": "https://localhost:8080/"
        },
        "id": "tEqLlumeAmG5",
        "outputId": "92395a33-77fe-4008-b684-8b2890cc8877"
      },
      "outputs": [
        {
          "data": {
            "text/plain": [
              "[{'generated_text': '<s>[INST]Given a raw source for a product, generate a coherent and relevant product title in Korean. Just give me answer[/INST][INPUT]새로운 스마트워치 2023 터치 스크린 운동 모니터링 심박수 혈압 수면 추적 다기능 남녀 공용 블루투스 팔찌[/INPUT]  Sure, here\\'s a possible Korean product title for the raw source you provided:\\n\\n\"2023 터치 스크린 운동 모니터링 심박수 혈압 수면 추적 다기능 남녀 공용 블루투스 팔찌\"\\n\\nTranslation: \"2023 Touch Screen Exercise Monitoring Heart Rate Blood Pressure Sleep Tracker Multi-Functional Unisex BlueTooth Wristband\"\\n\\nThis title is coherent and relevant because it accurately reflects the product\\'s features and functionalities, while also incorporating relevant keywords that users might search for when looking for a product like this in Korean.'}]"
            ]
          },
          "execution_count": 26,
          "metadata": {},
          "output_type": "execute_result"
        }
      ],
      "source": []
    },
    {
      "cell_type": "markdown",
      "metadata": {
        "id": "H-2DWWrLyjKt"
      },
      "source": [
        "저장한 모델 불러와보기"
      ]
    },
    {
      "cell_type": "code",
      "execution_count": null,
      "metadata": {
        "id": "NwfXW8DjyIFs"
      },
      "outputs": [],
      "source": [
        "#from transformers import AutoModelForCausalLM, AutoTokenizer"
      ]
    },
    {
      "cell_type": "code",
      "execution_count": null,
      "metadata": {
        "colab": {
          "base_uri": "https://localhost:8080/",
          "height": 205,
          "referenced_widgets": [
            "8ca30f2435b64607a0b5d035b9f3aff8",
            "5d627451be7845f78d943bd32cfe0d22",
            "c7661d0259f14765a17f69bd1e91fc13",
            "f2aeedfc02ce41779b8686e960b6a1dc",
            "32d269dfe99746de87c2d1a6312f0eb7",
            "1e8ffebc6d8040b3be489556a3e795fb",
            "6e5f4cda61fc494fb80dcf4d75248e39",
            "60393875a3c14cc18c41f3543de20125",
            "53f3982fb5f64174918336ce6fde4da5",
            "c7a1e9b805bc464c978c95157031fc4a",
            "5836d727efef40c49514bd7677395cab"
          ]
        },
        "id": "cuzR0gDK3Skn",
        "outputId": "5d0db98a-7c2c-4aff-e4a9-d49b4446d01f"
      },
      "outputs": [
        {
          "name": "stderr",
          "output_type": "stream",
          "text": [
            "/usr/local/lib/python3.10/dist-packages/huggingface_hub/file_download.py:1132: FutureWarning: `resume_download` is deprecated and will be removed in version 1.0.0. Downloads always resume when possible. If you want to force a new download, use `force_download=True`.\n",
            "  warnings.warn(\n",
            "/usr/local/lib/python3.10/dist-packages/huggingface_hub/utils/_token.py:89: UserWarning: \n",
            "The secret `HF_TOKEN` does not exist in your Colab secrets.\n",
            "To authenticate with the Hugging Face Hub, create a token in your settings tab (https://huggingface.co/settings/tokens), set it as secret in your Google Colab and restart your session.\n",
            "You will be able to reuse this secret in all of your notebooks.\n",
            "Please note that authentication is recommended but still optional to access public models or datasets.\n",
            "  warnings.warn(\n"
          ]
        },
        {
          "data": {
            "application/vnd.jupyter.widget-view+json": {
              "model_id": "8ca30f2435b64607a0b5d035b9f3aff8",
              "version_major": 2,
              "version_minor": 0
            },
            "text/plain": [
              "Loading checkpoint shards:   0%|          | 0/2 [00:00<?, ?it/s]"
            ]
          },
          "metadata": {},
          "output_type": "display_data"
        }
      ],
      "source": [
        "#my_model_path = '/content/drive/MyDrive/Colab Notebooks/창통설_그로들/results/llama-7b-chat-productname-test'\n",
        "#my_model = AutoModelForCausalLM.from_pretrained(my_model_path)\n",
        "#my_tokenizer = AutoTokenizer.from_pretrained(my_model_path)\n",
        "\n"
      ]
    },
    {
      "cell_type": "code",
      "execution_count": null,
      "metadata": {
        "id": "D1Yt716Sx50k"
      },
      "outputs": [],
      "source": [
        "'''\n",
        "logging.set_verbosity(logging.CRITICAL)\n",
        "\n",
        "prompt = \"Generate product name in Korean from this raw source: 보스 헤드폰 회색 사운드 음질 폭신\"\n",
        "pipe = pipeline(task=\"text-generation\", model=my_model, tokenizer=my_tokenizer, max_length=200)\n",
        "result = pipe(f\"<s>[INST] {prompt} [/INST]\")\n",
        "print(result[0]['generated_text'])\n",
        "'''"
      ]
    },
    {
      "cell_type": "code",
      "execution_count": null,
      "metadata": {
        "id": "-IlOYRdmyJ4s"
      },
      "outputs": [],
      "source": []
    }
  ],
  "metadata": {
    "colab": {
      "machine_shape": "hm",
      "provenance": []
    },
    "kernelspec": {
      "display_name": "Python 3.11.5 64-bit ('3.11.5')",
      "language": "python",
      "name": "python3"
    },
    "language_info": {
      "codemirror_mode": {
        "name": "ipython",
        "version": 3
      },
      "file_extension": ".py",
      "mimetype": "text/x-python",
      "name": "python",
      "nbconvert_exporter": "python",
      "pygments_lexer": "ipython3",
      "version": "3.11.5"
    },
    "vscode": {
      "interpreter": {
        "hash": "591923e582065aff74a93a90fba3a50741a602c305cc24a3d29844b7d540dc83"
      }
    },
    "widgets": {
      "application/vnd.jupyter.widget-state+json": {
        "04efd7b93aca451bb3949fb10029e242": {
          "model_module": "@jupyter-widgets/controls",
          "model_module_version": "1.5.0",
          "model_name": "HTMLModel",
          "state": {
            "_dom_classes": [],
            "_model_module": "@jupyter-widgets/controls",
            "_model_module_version": "1.5.0",
            "_model_name": "HTMLModel",
            "_view_count": null,
            "_view_module": "@jupyter-widgets/controls",
            "_view_module_version": "1.5.0",
            "_view_name": "HTMLView",
            "description": "",
            "description_tooltip": null,
            "layout": "IPY_MODEL_58b8d7329d594126a9e7b6c98aa00cea",
            "placeholder": "​",
            "style": "IPY_MODEL_bcf68dcfea8e470ebbcf4263981f3a5d",
            "value": " 442/442 [00:00&lt;00:00, 2537.53 examples/s]"
          }
        },
        "0729e0422e704bb6967a79e285ede7f9": {
          "model_module": "@jupyter-widgets/controls",
          "model_module_version": "1.5.0",
          "model_name": "FloatProgressModel",
          "state": {
            "_dom_classes": [],
            "_model_module": "@jupyter-widgets/controls",
            "_model_module_version": "1.5.0",
            "_model_name": "FloatProgressModel",
            "_view_count": null,
            "_view_module": "@jupyter-widgets/controls",
            "_view_module_version": "1.5.0",
            "_view_name": "ProgressView",
            "bar_style": "success",
            "description": "",
            "description_tooltip": null,
            "layout": "IPY_MODEL_d610c69977e1406ab4a9ac296eb8a325",
            "max": 1,
            "min": 0,
            "orientation": "horizontal",
            "style": "IPY_MODEL_d2e826ca3f6c4180879bc1b689899112",
            "value": 1
          }
        },
        "0c010dd94be0415b8accf007e0cafedb": {
          "model_module": "@jupyter-widgets/controls",
          "model_module_version": "1.5.0",
          "model_name": "ProgressStyleModel",
          "state": {
            "_model_module": "@jupyter-widgets/controls",
            "_model_module_version": "1.5.0",
            "_model_name": "ProgressStyleModel",
            "_view_count": null,
            "_view_module": "@jupyter-widgets/base",
            "_view_module_version": "1.2.0",
            "_view_name": "StyleView",
            "bar_color": null,
            "description_width": ""
          }
        },
        "0c3abaf5ef624a218543db970aadd778": {
          "model_module": "@jupyter-widgets/base",
          "model_module_version": "1.2.0",
          "model_name": "LayoutModel",
          "state": {
            "_model_module": "@jupyter-widgets/base",
            "_model_module_version": "1.2.0",
            "_model_name": "LayoutModel",
            "_view_count": null,
            "_view_module": "@jupyter-widgets/base",
            "_view_module_version": "1.2.0",
            "_view_name": "LayoutView",
            "align_content": null,
            "align_items": null,
            "align_self": null,
            "border": null,
            "bottom": null,
            "display": null,
            "flex": null,
            "flex_flow": null,
            "grid_area": null,
            "grid_auto_columns": null,
            "grid_auto_flow": null,
            "grid_auto_rows": null,
            "grid_column": null,
            "grid_gap": null,
            "grid_row": null,
            "grid_template_areas": null,
            "grid_template_columns": null,
            "grid_template_rows": null,
            "height": null,
            "justify_content": null,
            "justify_items": null,
            "left": null,
            "margin": null,
            "max_height": null,
            "max_width": null,
            "min_height": null,
            "min_width": null,
            "object_fit": null,
            "object_position": null,
            "order": null,
            "overflow": null,
            "overflow_x": null,
            "overflow_y": null,
            "padding": null,
            "right": null,
            "top": null,
            "visibility": null,
            "width": null
          }
        },
        "0c4015e1402447cba49cb848163a7b67": {
          "model_module": "@jupyter-widgets/controls",
          "model_module_version": "1.5.0",
          "model_name": "HBoxModel",
          "state": {
            "_dom_classes": [],
            "_model_module": "@jupyter-widgets/controls",
            "_model_module_version": "1.5.0",
            "_model_name": "HBoxModel",
            "_view_count": null,
            "_view_module": "@jupyter-widgets/controls",
            "_view_module_version": "1.5.0",
            "_view_name": "HBoxView",
            "box_style": "",
            "children": [
              "IPY_MODEL_1c90f7e08d974f0baaee653771facb0f",
              "IPY_MODEL_2647bfa682c64e648886f00780ba343a",
              "IPY_MODEL_fda6aa6b268341528c2dddd17b33caf4"
            ],
            "layout": "IPY_MODEL_81ad554cc0cb4a9cb254c97615cdc8dc"
          }
        },
        "14a3185fb6494a60bdf6c1857b75d399": {
          "model_module": "@jupyter-widgets/base",
          "model_module_version": "1.2.0",
          "model_name": "LayoutModel",
          "state": {
            "_model_module": "@jupyter-widgets/base",
            "_model_module_version": "1.2.0",
            "_model_name": "LayoutModel",
            "_view_count": null,
            "_view_module": "@jupyter-widgets/base",
            "_view_module_version": "1.2.0",
            "_view_name": "LayoutView",
            "align_content": null,
            "align_items": null,
            "align_self": null,
            "border": null,
            "bottom": null,
            "display": null,
            "flex": null,
            "flex_flow": null,
            "grid_area": null,
            "grid_auto_columns": null,
            "grid_auto_flow": null,
            "grid_auto_rows": null,
            "grid_column": null,
            "grid_gap": null,
            "grid_row": null,
            "grid_template_areas": null,
            "grid_template_columns": null,
            "grid_template_rows": null,
            "height": null,
            "justify_content": null,
            "justify_items": null,
            "left": null,
            "margin": null,
            "max_height": null,
            "max_width": null,
            "min_height": null,
            "min_width": null,
            "object_fit": null,
            "object_position": null,
            "order": null,
            "overflow": null,
            "overflow_x": null,
            "overflow_y": null,
            "padding": null,
            "right": null,
            "top": null,
            "visibility": null,
            "width": null
          }
        },
        "14a760901f3a418685c64fef914230b7": {
          "model_module": "@jupyter-widgets/controls",
          "model_module_version": "1.5.0",
          "model_name": "DescriptionStyleModel",
          "state": {
            "_model_module": "@jupyter-widgets/controls",
            "_model_module_version": "1.5.0",
            "_model_name": "DescriptionStyleModel",
            "_view_count": null,
            "_view_module": "@jupyter-widgets/base",
            "_view_module_version": "1.2.0",
            "_view_name": "StyleView",
            "description_width": ""
          }
        },
        "1699ad15d8184000a95dec44b68703ea": {
          "model_module": "@jupyter-widgets/controls",
          "model_module_version": "1.5.0",
          "model_name": "ProgressStyleModel",
          "state": {
            "_model_module": "@jupyter-widgets/controls",
            "_model_module_version": "1.5.0",
            "_model_name": "ProgressStyleModel",
            "_view_count": null,
            "_view_module": "@jupyter-widgets/base",
            "_view_module_version": "1.2.0",
            "_view_name": "StyleView",
            "bar_color": null,
            "description_width": ""
          }
        },
        "1c90f7e08d974f0baaee653771facb0f": {
          "model_module": "@jupyter-widgets/controls",
          "model_module_version": "1.5.0",
          "model_name": "HTMLModel",
          "state": {
            "_dom_classes": [],
            "_model_module": "@jupyter-widgets/controls",
            "_model_module_version": "1.5.0",
            "_model_name": "HTMLModel",
            "_view_count": null,
            "_view_module": "@jupyter-widgets/controls",
            "_view_module_version": "1.5.0",
            "_view_name": "HTMLView",
            "description": "",
            "description_tooltip": null,
            "layout": "IPY_MODEL_3d518f369331455d82905c75b3c7b04b",
            "placeholder": "​",
            "style": "IPY_MODEL_279b054e7618429a9d01ee1284b9a7db",
            "value": "Map: 100%"
          }
        },
        "1e8ffebc6d8040b3be489556a3e795fb": {
          "model_module": "@jupyter-widgets/base",
          "model_module_version": "1.2.0",
          "model_name": "LayoutModel",
          "state": {
            "_model_module": "@jupyter-widgets/base",
            "_model_module_version": "1.2.0",
            "_model_name": "LayoutModel",
            "_view_count": null,
            "_view_module": "@jupyter-widgets/base",
            "_view_module_version": "1.2.0",
            "_view_name": "LayoutView",
            "align_content": null,
            "align_items": null,
            "align_self": null,
            "border": null,
            "bottom": null,
            "display": null,
            "flex": null,
            "flex_flow": null,
            "grid_area": null,
            "grid_auto_columns": null,
            "grid_auto_flow": null,
            "grid_auto_rows": null,
            "grid_column": null,
            "grid_gap": null,
            "grid_row": null,
            "grid_template_areas": null,
            "grid_template_columns": null,
            "grid_template_rows": null,
            "height": null,
            "justify_content": null,
            "justify_items": null,
            "left": null,
            "margin": null,
            "max_height": null,
            "max_width": null,
            "min_height": null,
            "min_width": null,
            "object_fit": null,
            "object_position": null,
            "order": null,
            "overflow": null,
            "overflow_x": null,
            "overflow_y": null,
            "padding": null,
            "right": null,
            "top": null,
            "visibility": null,
            "width": null
          }
        },
        "1fb7d836162d48618e44097f77472851": {
          "model_module": "@jupyter-widgets/controls",
          "model_module_version": "1.5.0",
          "model_name": "FloatProgressModel",
          "state": {
            "_dom_classes": [],
            "_model_module": "@jupyter-widgets/controls",
            "_model_module_version": "1.5.0",
            "_model_name": "FloatProgressModel",
            "_view_count": null,
            "_view_module": "@jupyter-widgets/controls",
            "_view_module_version": "1.5.0",
            "_view_name": "ProgressView",
            "bar_style": "success",
            "description": "",
            "description_tooltip": null,
            "layout": "IPY_MODEL_0c3abaf5ef624a218543db970aadd778",
            "max": 2,
            "min": 0,
            "orientation": "horizontal",
            "style": "IPY_MODEL_1699ad15d8184000a95dec44b68703ea",
            "value": 2
          }
        },
        "2476423fc83442379922ea9ef63faad7": {
          "model_module": "@jupyter-widgets/base",
          "model_module_version": "1.2.0",
          "model_name": "LayoutModel",
          "state": {
            "_model_module": "@jupyter-widgets/base",
            "_model_module_version": "1.2.0",
            "_model_name": "LayoutModel",
            "_view_count": null,
            "_view_module": "@jupyter-widgets/base",
            "_view_module_version": "1.2.0",
            "_view_name": "LayoutView",
            "align_content": null,
            "align_items": null,
            "align_self": null,
            "border": null,
            "bottom": null,
            "display": null,
            "flex": null,
            "flex_flow": null,
            "grid_area": null,
            "grid_auto_columns": null,
            "grid_auto_flow": null,
            "grid_auto_rows": null,
            "grid_column": null,
            "grid_gap": null,
            "grid_row": null,
            "grid_template_areas": null,
            "grid_template_columns": null,
            "grid_template_rows": null,
            "height": null,
            "justify_content": null,
            "justify_items": null,
            "left": null,
            "margin": null,
            "max_height": null,
            "max_width": null,
            "min_height": null,
            "min_width": null,
            "object_fit": null,
            "object_position": null,
            "order": null,
            "overflow": null,
            "overflow_x": null,
            "overflow_y": null,
            "padding": null,
            "right": null,
            "top": null,
            "visibility": null,
            "width": null
          }
        },
        "2647bfa682c64e648886f00780ba343a": {
          "model_module": "@jupyter-widgets/controls",
          "model_module_version": "1.5.0",
          "model_name": "FloatProgressModel",
          "state": {
            "_dom_classes": [],
            "_model_module": "@jupyter-widgets/controls",
            "_model_module_version": "1.5.0",
            "_model_name": "FloatProgressModel",
            "_view_count": null,
            "_view_module": "@jupyter-widgets/controls",
            "_view_module_version": "1.5.0",
            "_view_name": "ProgressView",
            "bar_style": "success",
            "description": "",
            "description_tooltip": null,
            "layout": "IPY_MODEL_8ad8767407a342e9814284ed39b68ab7",
            "max": 3977,
            "min": 0,
            "orientation": "horizontal",
            "style": "IPY_MODEL_ac812c677ec342d9b10d8a4a37c4bb86",
            "value": 3977
          }
        },
        "279b054e7618429a9d01ee1284b9a7db": {
          "model_module": "@jupyter-widgets/controls",
          "model_module_version": "1.5.0",
          "model_name": "DescriptionStyleModel",
          "state": {
            "_model_module": "@jupyter-widgets/controls",
            "_model_module_version": "1.5.0",
            "_model_name": "DescriptionStyleModel",
            "_view_count": null,
            "_view_module": "@jupyter-widgets/base",
            "_view_module_version": "1.2.0",
            "_view_name": "StyleView",
            "description_width": ""
          }
        },
        "32d269dfe99746de87c2d1a6312f0eb7": {
          "model_module": "@jupyter-widgets/base",
          "model_module_version": "1.2.0",
          "model_name": "LayoutModel",
          "state": {
            "_model_module": "@jupyter-widgets/base",
            "_model_module_version": "1.2.0",
            "_model_name": "LayoutModel",
            "_view_count": null,
            "_view_module": "@jupyter-widgets/base",
            "_view_module_version": "1.2.0",
            "_view_name": "LayoutView",
            "align_content": null,
            "align_items": null,
            "align_self": null,
            "border": null,
            "bottom": null,
            "display": null,
            "flex": null,
            "flex_flow": null,
            "grid_area": null,
            "grid_auto_columns": null,
            "grid_auto_flow": null,
            "grid_auto_rows": null,
            "grid_column": null,
            "grid_gap": null,
            "grid_row": null,
            "grid_template_areas": null,
            "grid_template_columns": null,
            "grid_template_rows": null,
            "height": null,
            "justify_content": null,
            "justify_items": null,
            "left": null,
            "margin": null,
            "max_height": null,
            "max_width": null,
            "min_height": null,
            "min_width": null,
            "object_fit": null,
            "object_position": null,
            "order": null,
            "overflow": null,
            "overflow_x": null,
            "overflow_y": null,
            "padding": null,
            "right": null,
            "top": null,
            "visibility": null,
            "width": null
          }
        },
        "36e4bd7a06bf4f069f56787d609de254": {
          "model_module": "@jupyter-widgets/controls",
          "model_module_version": "1.5.0",
          "model_name": "HTMLModel",
          "state": {
            "_dom_classes": [],
            "_model_module": "@jupyter-widgets/controls",
            "_model_module_version": "1.5.0",
            "_model_name": "HTMLModel",
            "_view_count": null,
            "_view_module": "@jupyter-widgets/controls",
            "_view_module_version": "1.5.0",
            "_view_name": "HTMLView",
            "description": "",
            "description_tooltip": null,
            "layout": "IPY_MODEL_fe628715a0504054bebf71ce70291116",
            "placeholder": "​",
            "style": "IPY_MODEL_14a760901f3a418685c64fef914230b7",
            "value": " 3977/0 [00:00&lt;00:00, 6841.01 examples/s]"
          }
        },
        "3a1ce02583fe42a8aaee693935fa49f0": {
          "model_module": "@jupyter-widgets/controls",
          "model_module_version": "1.5.0",
          "model_name": "DescriptionStyleModel",
          "state": {
            "_model_module": "@jupyter-widgets/controls",
            "_model_module_version": "1.5.0",
            "_model_name": "DescriptionStyleModel",
            "_view_count": null,
            "_view_module": "@jupyter-widgets/base",
            "_view_module_version": "1.2.0",
            "_view_name": "StyleView",
            "description_width": ""
          }
        },
        "3d518f369331455d82905c75b3c7b04b": {
          "model_module": "@jupyter-widgets/base",
          "model_module_version": "1.2.0",
          "model_name": "LayoutModel",
          "state": {
            "_model_module": "@jupyter-widgets/base",
            "_model_module_version": "1.2.0",
            "_model_name": "LayoutModel",
            "_view_count": null,
            "_view_module": "@jupyter-widgets/base",
            "_view_module_version": "1.2.0",
            "_view_name": "LayoutView",
            "align_content": null,
            "align_items": null,
            "align_self": null,
            "border": null,
            "bottom": null,
            "display": null,
            "flex": null,
            "flex_flow": null,
            "grid_area": null,
            "grid_auto_columns": null,
            "grid_auto_flow": null,
            "grid_auto_rows": null,
            "grid_column": null,
            "grid_gap": null,
            "grid_row": null,
            "grid_template_areas": null,
            "grid_template_columns": null,
            "grid_template_rows": null,
            "height": null,
            "justify_content": null,
            "justify_items": null,
            "left": null,
            "margin": null,
            "max_height": null,
            "max_width": null,
            "min_height": null,
            "min_width": null,
            "object_fit": null,
            "object_position": null,
            "order": null,
            "overflow": null,
            "overflow_x": null,
            "overflow_y": null,
            "padding": null,
            "right": null,
            "top": null,
            "visibility": null,
            "width": null
          }
        },
        "42f489e1e40e4065a10e66761507f3b6": {
          "model_module": "@jupyter-widgets/controls",
          "model_module_version": "1.5.0",
          "model_name": "HTMLModel",
          "state": {
            "_dom_classes": [],
            "_model_module": "@jupyter-widgets/controls",
            "_model_module_version": "1.5.0",
            "_model_name": "HTMLModel",
            "_view_count": null,
            "_view_module": "@jupyter-widgets/controls",
            "_view_module_version": "1.5.0",
            "_view_name": "HTMLView",
            "description": "",
            "description_tooltip": null,
            "layout": "IPY_MODEL_ae429aad4d504f278b49f870ad542086",
            "placeholder": "​",
            "style": "IPY_MODEL_cba3444a50924ba3ae6160a67841cd6c",
            "value": "Loading checkpoint shards: 100%"
          }
        },
        "46edecbe82c3427489f2c8cbf0ef25c9": {
          "model_module": "@jupyter-widgets/controls",
          "model_module_version": "1.5.0",
          "model_name": "DescriptionStyleModel",
          "state": {
            "_model_module": "@jupyter-widgets/controls",
            "_model_module_version": "1.5.0",
            "_model_name": "DescriptionStyleModel",
            "_view_count": null,
            "_view_module": "@jupyter-widgets/base",
            "_view_module_version": "1.2.0",
            "_view_name": "StyleView",
            "description_width": ""
          }
        },
        "49666adae8fe4eebac85373717ee4087": {
          "model_module": "@jupyter-widgets/base",
          "model_module_version": "1.2.0",
          "model_name": "LayoutModel",
          "state": {
            "_model_module": "@jupyter-widgets/base",
            "_model_module_version": "1.2.0",
            "_model_name": "LayoutModel",
            "_view_count": null,
            "_view_module": "@jupyter-widgets/base",
            "_view_module_version": "1.2.0",
            "_view_name": "LayoutView",
            "align_content": null,
            "align_items": null,
            "align_self": null,
            "border": null,
            "bottom": null,
            "display": null,
            "flex": null,
            "flex_flow": null,
            "grid_area": null,
            "grid_auto_columns": null,
            "grid_auto_flow": null,
            "grid_auto_rows": null,
            "grid_column": null,
            "grid_gap": null,
            "grid_row": null,
            "grid_template_areas": null,
            "grid_template_columns": null,
            "grid_template_rows": null,
            "height": null,
            "justify_content": null,
            "justify_items": null,
            "left": null,
            "margin": null,
            "max_height": null,
            "max_width": null,
            "min_height": null,
            "min_width": null,
            "object_fit": null,
            "object_position": null,
            "order": null,
            "overflow": null,
            "overflow_x": null,
            "overflow_y": null,
            "padding": null,
            "right": null,
            "top": null,
            "visibility": null,
            "width": null
          }
        },
        "53f3982fb5f64174918336ce6fde4da5": {
          "model_module": "@jupyter-widgets/controls",
          "model_module_version": "1.5.0",
          "model_name": "ProgressStyleModel",
          "state": {
            "_model_module": "@jupyter-widgets/controls",
            "_model_module_version": "1.5.0",
            "_model_name": "ProgressStyleModel",
            "_view_count": null,
            "_view_module": "@jupyter-widgets/base",
            "_view_module_version": "1.2.0",
            "_view_name": "StyleView",
            "bar_color": null,
            "description_width": ""
          }
        },
        "5836d727efef40c49514bd7677395cab": {
          "model_module": "@jupyter-widgets/controls",
          "model_module_version": "1.5.0",
          "model_name": "DescriptionStyleModel",
          "state": {
            "_model_module": "@jupyter-widgets/controls",
            "_model_module_version": "1.5.0",
            "_model_name": "DescriptionStyleModel",
            "_view_count": null,
            "_view_module": "@jupyter-widgets/base",
            "_view_module_version": "1.2.0",
            "_view_name": "StyleView",
            "description_width": ""
          }
        },
        "58b8d7329d594126a9e7b6c98aa00cea": {
          "model_module": "@jupyter-widgets/base",
          "model_module_version": "1.2.0",
          "model_name": "LayoutModel",
          "state": {
            "_model_module": "@jupyter-widgets/base",
            "_model_module_version": "1.2.0",
            "_model_name": "LayoutModel",
            "_view_count": null,
            "_view_module": "@jupyter-widgets/base",
            "_view_module_version": "1.2.0",
            "_view_name": "LayoutView",
            "align_content": null,
            "align_items": null,
            "align_self": null,
            "border": null,
            "bottom": null,
            "display": null,
            "flex": null,
            "flex_flow": null,
            "grid_area": null,
            "grid_auto_columns": null,
            "grid_auto_flow": null,
            "grid_auto_rows": null,
            "grid_column": null,
            "grid_gap": null,
            "grid_row": null,
            "grid_template_areas": null,
            "grid_template_columns": null,
            "grid_template_rows": null,
            "height": null,
            "justify_content": null,
            "justify_items": null,
            "left": null,
            "margin": null,
            "max_height": null,
            "max_width": null,
            "min_height": null,
            "min_width": null,
            "object_fit": null,
            "object_position": null,
            "order": null,
            "overflow": null,
            "overflow_x": null,
            "overflow_y": null,
            "padding": null,
            "right": null,
            "top": null,
            "visibility": null,
            "width": null
          }
        },
        "5c0935b9c7084513b580041d3bf129ec": {
          "model_module": "@jupyter-widgets/base",
          "model_module_version": "1.2.0",
          "model_name": "LayoutModel",
          "state": {
            "_model_module": "@jupyter-widgets/base",
            "_model_module_version": "1.2.0",
            "_model_name": "LayoutModel",
            "_view_count": null,
            "_view_module": "@jupyter-widgets/base",
            "_view_module_version": "1.2.0",
            "_view_name": "LayoutView",
            "align_content": null,
            "align_items": null,
            "align_self": null,
            "border": null,
            "bottom": null,
            "display": null,
            "flex": null,
            "flex_flow": null,
            "grid_area": null,
            "grid_auto_columns": null,
            "grid_auto_flow": null,
            "grid_auto_rows": null,
            "grid_column": null,
            "grid_gap": null,
            "grid_row": null,
            "grid_template_areas": null,
            "grid_template_columns": null,
            "grid_template_rows": null,
            "height": null,
            "justify_content": null,
            "justify_items": null,
            "left": null,
            "margin": null,
            "max_height": null,
            "max_width": null,
            "min_height": null,
            "min_width": null,
            "object_fit": null,
            "object_position": null,
            "order": null,
            "overflow": null,
            "overflow_x": null,
            "overflow_y": null,
            "padding": null,
            "right": null,
            "top": null,
            "visibility": null,
            "width": "20px"
          }
        },
        "5d627451be7845f78d943bd32cfe0d22": {
          "model_module": "@jupyter-widgets/controls",
          "model_module_version": "1.5.0",
          "model_name": "HTMLModel",
          "state": {
            "_dom_classes": [],
            "_model_module": "@jupyter-widgets/controls",
            "_model_module_version": "1.5.0",
            "_model_name": "HTMLModel",
            "_view_count": null,
            "_view_module": "@jupyter-widgets/controls",
            "_view_module_version": "1.5.0",
            "_view_name": "HTMLView",
            "description": "",
            "description_tooltip": null,
            "layout": "IPY_MODEL_1e8ffebc6d8040b3be489556a3e795fb",
            "placeholder": "​",
            "style": "IPY_MODEL_6e5f4cda61fc494fb80dcf4d75248e39",
            "value": "Loading checkpoint shards:   0%"
          }
        },
        "5f7d505d6cd449acbd5700e25facdae8": {
          "model_module": "@jupyter-widgets/controls",
          "model_module_version": "1.5.0",
          "model_name": "FloatProgressModel",
          "state": {
            "_dom_classes": [],
            "_model_module": "@jupyter-widgets/controls",
            "_model_module_version": "1.5.0",
            "_model_name": "FloatProgressModel",
            "_view_count": null,
            "_view_module": "@jupyter-widgets/controls",
            "_view_module_version": "1.5.0",
            "_view_name": "ProgressView",
            "bar_style": "success",
            "description": "",
            "description_tooltip": null,
            "layout": "IPY_MODEL_ec36bf6b4ee846d79981300d7cad17d3",
            "max": 442,
            "min": 0,
            "orientation": "horizontal",
            "style": "IPY_MODEL_0c010dd94be0415b8accf007e0cafedb",
            "value": 442
          }
        },
        "601f581f21c64c8a82fb819a46375fd7": {
          "model_module": "@jupyter-widgets/controls",
          "model_module_version": "1.5.0",
          "model_name": "HTMLModel",
          "state": {
            "_dom_classes": [],
            "_model_module": "@jupyter-widgets/controls",
            "_model_module_version": "1.5.0",
            "_model_name": "HTMLModel",
            "_view_count": null,
            "_view_module": "@jupyter-widgets/controls",
            "_view_module_version": "1.5.0",
            "_view_name": "HTMLView",
            "description": "",
            "description_tooltip": null,
            "layout": "IPY_MODEL_f32c811049d84fc68663b928ff9093c8",
            "placeholder": "​",
            "style": "IPY_MODEL_46edecbe82c3427489f2c8cbf0ef25c9",
            "value": "Map: 100%"
          }
        },
        "60393875a3c14cc18c41f3543de20125": {
          "model_module": "@jupyter-widgets/base",
          "model_module_version": "1.2.0",
          "model_name": "LayoutModel",
          "state": {
            "_model_module": "@jupyter-widgets/base",
            "_model_module_version": "1.2.0",
            "_model_name": "LayoutModel",
            "_view_count": null,
            "_view_module": "@jupyter-widgets/base",
            "_view_module_version": "1.2.0",
            "_view_name": "LayoutView",
            "align_content": null,
            "align_items": null,
            "align_self": null,
            "border": null,
            "bottom": null,
            "display": null,
            "flex": null,
            "flex_flow": null,
            "grid_area": null,
            "grid_auto_columns": null,
            "grid_auto_flow": null,
            "grid_auto_rows": null,
            "grid_column": null,
            "grid_gap": null,
            "grid_row": null,
            "grid_template_areas": null,
            "grid_template_columns": null,
            "grid_template_rows": null,
            "height": null,
            "justify_content": null,
            "justify_items": null,
            "left": null,
            "margin": null,
            "max_height": null,
            "max_width": null,
            "min_height": null,
            "min_width": null,
            "object_fit": null,
            "object_position": null,
            "order": null,
            "overflow": null,
            "overflow_x": null,
            "overflow_y": null,
            "padding": null,
            "right": null,
            "top": null,
            "visibility": null,
            "width": null
          }
        },
        "62e587060d844bd8a5a38fb98c1aad82": {
          "model_module": "@jupyter-widgets/controls",
          "model_module_version": "1.5.0",
          "model_name": "HBoxModel",
          "state": {
            "_dom_classes": [],
            "_model_module": "@jupyter-widgets/controls",
            "_model_module_version": "1.5.0",
            "_model_name": "HBoxModel",
            "_view_count": null,
            "_view_module": "@jupyter-widgets/controls",
            "_view_module_version": "1.5.0",
            "_view_name": "HBoxView",
            "box_style": "",
            "children": [
              "IPY_MODEL_601f581f21c64c8a82fb819a46375fd7",
              "IPY_MODEL_5f7d505d6cd449acbd5700e25facdae8",
              "IPY_MODEL_04efd7b93aca451bb3949fb10029e242"
            ],
            "layout": "IPY_MODEL_6b51722e55b94965a0fb0fb0c57cd075"
          }
        },
        "64af70f54f324123931d9876715fbde1": {
          "model_module": "@jupyter-widgets/controls",
          "model_module_version": "1.5.0",
          "model_name": "HBoxModel",
          "state": {
            "_dom_classes": [],
            "_model_module": "@jupyter-widgets/controls",
            "_model_module_version": "1.5.0",
            "_model_name": "HBoxModel",
            "_view_count": null,
            "_view_module": "@jupyter-widgets/controls",
            "_view_module_version": "1.5.0",
            "_view_name": "HBoxView",
            "box_style": "",
            "children": [
              "IPY_MODEL_42f489e1e40e4065a10e66761507f3b6",
              "IPY_MODEL_1fb7d836162d48618e44097f77472851",
              "IPY_MODEL_b366f76b716641d0a080d5d6d326f459"
            ],
            "layout": "IPY_MODEL_7e0f248dd5e4432f8c1743cc960e95cd"
          }
        },
        "68ba870a951044c98796f35055512740": {
          "model_module": "@jupyter-widgets/controls",
          "model_module_version": "1.5.0",
          "model_name": "FloatProgressModel",
          "state": {
            "_dom_classes": [],
            "_model_module": "@jupyter-widgets/controls",
            "_model_module_version": "1.5.0",
            "_model_name": "FloatProgressModel",
            "_view_count": null,
            "_view_module": "@jupyter-widgets/controls",
            "_view_module_version": "1.5.0",
            "_view_name": "ProgressView",
            "bar_style": "success",
            "description": "",
            "description_tooltip": null,
            "layout": "IPY_MODEL_5c0935b9c7084513b580041d3bf129ec",
            "max": 1,
            "min": 0,
            "orientation": "horizontal",
            "style": "IPY_MODEL_ba3b2f41e64e4d04ba28eaa952ad143e",
            "value": 1
          }
        },
        "6b51722e55b94965a0fb0fb0c57cd075": {
          "model_module": "@jupyter-widgets/base",
          "model_module_version": "1.2.0",
          "model_name": "LayoutModel",
          "state": {
            "_model_module": "@jupyter-widgets/base",
            "_model_module_version": "1.2.0",
            "_model_name": "LayoutModel",
            "_view_count": null,
            "_view_module": "@jupyter-widgets/base",
            "_view_module_version": "1.2.0",
            "_view_name": "LayoutView",
            "align_content": null,
            "align_items": null,
            "align_self": null,
            "border": null,
            "bottom": null,
            "display": null,
            "flex": null,
            "flex_flow": null,
            "grid_area": null,
            "grid_auto_columns": null,
            "grid_auto_flow": null,
            "grid_auto_rows": null,
            "grid_column": null,
            "grid_gap": null,
            "grid_row": null,
            "grid_template_areas": null,
            "grid_template_columns": null,
            "grid_template_rows": null,
            "height": null,
            "justify_content": null,
            "justify_items": null,
            "left": null,
            "margin": null,
            "max_height": null,
            "max_width": null,
            "min_height": null,
            "min_width": null,
            "object_fit": null,
            "object_position": null,
            "order": null,
            "overflow": null,
            "overflow_x": null,
            "overflow_y": null,
            "padding": null,
            "right": null,
            "top": null,
            "visibility": null,
            "width": null
          }
        },
        "6e5f4cda61fc494fb80dcf4d75248e39": {
          "model_module": "@jupyter-widgets/controls",
          "model_module_version": "1.5.0",
          "model_name": "DescriptionStyleModel",
          "state": {
            "_model_module": "@jupyter-widgets/controls",
            "_model_module_version": "1.5.0",
            "_model_name": "DescriptionStyleModel",
            "_view_count": null,
            "_view_module": "@jupyter-widgets/base",
            "_view_module_version": "1.2.0",
            "_view_name": "StyleView",
            "description_width": ""
          }
        },
        "75d18c42e74942bbbbb081b6766ccab9": {
          "model_module": "@jupyter-widgets/controls",
          "model_module_version": "1.5.0",
          "model_name": "HTMLModel",
          "state": {
            "_dom_classes": [],
            "_model_module": "@jupyter-widgets/controls",
            "_model_module_version": "1.5.0",
            "_model_name": "HTMLModel",
            "_view_count": null,
            "_view_module": "@jupyter-widgets/controls",
            "_view_module_version": "1.5.0",
            "_view_name": "HTMLView",
            "description": "",
            "description_tooltip": null,
            "layout": "IPY_MODEL_8981084c68a24acf8e36616f14998071",
            "placeholder": "​",
            "style": "IPY_MODEL_bc4a38a93ca44f069f467fdd61bc945d",
            "value": " 442/0 [00:00&lt;00:00, 12359.05 examples/s]"
          }
        },
        "7e0f248dd5e4432f8c1743cc960e95cd": {
          "model_module": "@jupyter-widgets/base",
          "model_module_version": "1.2.0",
          "model_name": "LayoutModel",
          "state": {
            "_model_module": "@jupyter-widgets/base",
            "_model_module_version": "1.2.0",
            "_model_name": "LayoutModel",
            "_view_count": null,
            "_view_module": "@jupyter-widgets/base",
            "_view_module_version": "1.2.0",
            "_view_name": "LayoutView",
            "align_content": null,
            "align_items": null,
            "align_self": null,
            "border": null,
            "bottom": null,
            "display": null,
            "flex": null,
            "flex_flow": null,
            "grid_area": null,
            "grid_auto_columns": null,
            "grid_auto_flow": null,
            "grid_auto_rows": null,
            "grid_column": null,
            "grid_gap": null,
            "grid_row": null,
            "grid_template_areas": null,
            "grid_template_columns": null,
            "grid_template_rows": null,
            "height": null,
            "justify_content": null,
            "justify_items": null,
            "left": null,
            "margin": null,
            "max_height": null,
            "max_width": null,
            "min_height": null,
            "min_width": null,
            "object_fit": null,
            "object_position": null,
            "order": null,
            "overflow": null,
            "overflow_x": null,
            "overflow_y": null,
            "padding": null,
            "right": null,
            "top": null,
            "visibility": null,
            "width": null
          }
        },
        "81ad554cc0cb4a9cb254c97615cdc8dc": {
          "model_module": "@jupyter-widgets/base",
          "model_module_version": "1.2.0",
          "model_name": "LayoutModel",
          "state": {
            "_model_module": "@jupyter-widgets/base",
            "_model_module_version": "1.2.0",
            "_model_name": "LayoutModel",
            "_view_count": null,
            "_view_module": "@jupyter-widgets/base",
            "_view_module_version": "1.2.0",
            "_view_name": "LayoutView",
            "align_content": null,
            "align_items": null,
            "align_self": null,
            "border": null,
            "bottom": null,
            "display": null,
            "flex": null,
            "flex_flow": null,
            "grid_area": null,
            "grid_auto_columns": null,
            "grid_auto_flow": null,
            "grid_auto_rows": null,
            "grid_column": null,
            "grid_gap": null,
            "grid_row": null,
            "grid_template_areas": null,
            "grid_template_columns": null,
            "grid_template_rows": null,
            "height": null,
            "justify_content": null,
            "justify_items": null,
            "left": null,
            "margin": null,
            "max_height": null,
            "max_width": null,
            "min_height": null,
            "min_width": null,
            "object_fit": null,
            "object_position": null,
            "order": null,
            "overflow": null,
            "overflow_x": null,
            "overflow_y": null,
            "padding": null,
            "right": null,
            "top": null,
            "visibility": null,
            "width": null
          }
        },
        "81bf595ca3234145a89dfdac308a9073": {
          "model_module": "@jupyter-widgets/controls",
          "model_module_version": "1.5.0",
          "model_name": "DescriptionStyleModel",
          "state": {
            "_model_module": "@jupyter-widgets/controls",
            "_model_module_version": "1.5.0",
            "_model_name": "DescriptionStyleModel",
            "_view_count": null,
            "_view_module": "@jupyter-widgets/base",
            "_view_module_version": "1.2.0",
            "_view_name": "StyleView",
            "description_width": ""
          }
        },
        "88fe4543ef6243259882664d7317ffdd": {
          "model_module": "@jupyter-widgets/controls",
          "model_module_version": "1.5.0",
          "model_name": "DescriptionStyleModel",
          "state": {
            "_model_module": "@jupyter-widgets/controls",
            "_model_module_version": "1.5.0",
            "_model_name": "DescriptionStyleModel",
            "_view_count": null,
            "_view_module": "@jupyter-widgets/base",
            "_view_module_version": "1.2.0",
            "_view_name": "StyleView",
            "description_width": ""
          }
        },
        "8981084c68a24acf8e36616f14998071": {
          "model_module": "@jupyter-widgets/base",
          "model_module_version": "1.2.0",
          "model_name": "LayoutModel",
          "state": {
            "_model_module": "@jupyter-widgets/base",
            "_model_module_version": "1.2.0",
            "_model_name": "LayoutModel",
            "_view_count": null,
            "_view_module": "@jupyter-widgets/base",
            "_view_module_version": "1.2.0",
            "_view_name": "LayoutView",
            "align_content": null,
            "align_items": null,
            "align_self": null,
            "border": null,
            "bottom": null,
            "display": null,
            "flex": null,
            "flex_flow": null,
            "grid_area": null,
            "grid_auto_columns": null,
            "grid_auto_flow": null,
            "grid_auto_rows": null,
            "grid_column": null,
            "grid_gap": null,
            "grid_row": null,
            "grid_template_areas": null,
            "grid_template_columns": null,
            "grid_template_rows": null,
            "height": null,
            "justify_content": null,
            "justify_items": null,
            "left": null,
            "margin": null,
            "max_height": null,
            "max_width": null,
            "min_height": null,
            "min_width": null,
            "object_fit": null,
            "object_position": null,
            "order": null,
            "overflow": null,
            "overflow_x": null,
            "overflow_y": null,
            "padding": null,
            "right": null,
            "top": null,
            "visibility": null,
            "width": null
          }
        },
        "8ad8767407a342e9814284ed39b68ab7": {
          "model_module": "@jupyter-widgets/base",
          "model_module_version": "1.2.0",
          "model_name": "LayoutModel",
          "state": {
            "_model_module": "@jupyter-widgets/base",
            "_model_module_version": "1.2.0",
            "_model_name": "LayoutModel",
            "_view_count": null,
            "_view_module": "@jupyter-widgets/base",
            "_view_module_version": "1.2.0",
            "_view_name": "LayoutView",
            "align_content": null,
            "align_items": null,
            "align_self": null,
            "border": null,
            "bottom": null,
            "display": null,
            "flex": null,
            "flex_flow": null,
            "grid_area": null,
            "grid_auto_columns": null,
            "grid_auto_flow": null,
            "grid_auto_rows": null,
            "grid_column": null,
            "grid_gap": null,
            "grid_row": null,
            "grid_template_areas": null,
            "grid_template_columns": null,
            "grid_template_rows": null,
            "height": null,
            "justify_content": null,
            "justify_items": null,
            "left": null,
            "margin": null,
            "max_height": null,
            "max_width": null,
            "min_height": null,
            "min_width": null,
            "object_fit": null,
            "object_position": null,
            "order": null,
            "overflow": null,
            "overflow_x": null,
            "overflow_y": null,
            "padding": null,
            "right": null,
            "top": null,
            "visibility": null,
            "width": null
          }
        },
        "8ca30f2435b64607a0b5d035b9f3aff8": {
          "model_module": "@jupyter-widgets/controls",
          "model_module_version": "1.5.0",
          "model_name": "HBoxModel",
          "state": {
            "_dom_classes": [],
            "_model_module": "@jupyter-widgets/controls",
            "_model_module_version": "1.5.0",
            "_model_name": "HBoxModel",
            "_view_count": null,
            "_view_module": "@jupyter-widgets/controls",
            "_view_module_version": "1.5.0",
            "_view_name": "HBoxView",
            "box_style": "",
            "children": [
              "IPY_MODEL_5d627451be7845f78d943bd32cfe0d22",
              "IPY_MODEL_c7661d0259f14765a17f69bd1e91fc13",
              "IPY_MODEL_f2aeedfc02ce41779b8686e960b6a1dc"
            ],
            "layout": "IPY_MODEL_32d269dfe99746de87c2d1a6312f0eb7"
          }
        },
        "99e8d84568ed4199821b32ceae63677d": {
          "model_module": "@jupyter-widgets/base",
          "model_module_version": "1.2.0",
          "model_name": "LayoutModel",
          "state": {
            "_model_module": "@jupyter-widgets/base",
            "_model_module_version": "1.2.0",
            "_model_name": "LayoutModel",
            "_view_count": null,
            "_view_module": "@jupyter-widgets/base",
            "_view_module_version": "1.2.0",
            "_view_name": "LayoutView",
            "align_content": null,
            "align_items": null,
            "align_self": null,
            "border": null,
            "bottom": null,
            "display": null,
            "flex": null,
            "flex_flow": null,
            "grid_area": null,
            "grid_auto_columns": null,
            "grid_auto_flow": null,
            "grid_auto_rows": null,
            "grid_column": null,
            "grid_gap": null,
            "grid_row": null,
            "grid_template_areas": null,
            "grid_template_columns": null,
            "grid_template_rows": null,
            "height": null,
            "justify_content": null,
            "justify_items": null,
            "left": null,
            "margin": null,
            "max_height": null,
            "max_width": null,
            "min_height": null,
            "min_width": null,
            "object_fit": null,
            "object_position": null,
            "order": null,
            "overflow": null,
            "overflow_x": null,
            "overflow_y": null,
            "padding": null,
            "right": null,
            "top": null,
            "visibility": null,
            "width": null
          }
        },
        "a1e756692adb419fad69dd26f72f1116": {
          "model_module": "@jupyter-widgets/base",
          "model_module_version": "1.2.0",
          "model_name": "LayoutModel",
          "state": {
            "_model_module": "@jupyter-widgets/base",
            "_model_module_version": "1.2.0",
            "_model_name": "LayoutModel",
            "_view_count": null,
            "_view_module": "@jupyter-widgets/base",
            "_view_module_version": "1.2.0",
            "_view_name": "LayoutView",
            "align_content": null,
            "align_items": null,
            "align_self": null,
            "border": null,
            "bottom": null,
            "display": null,
            "flex": null,
            "flex_flow": null,
            "grid_area": null,
            "grid_auto_columns": null,
            "grid_auto_flow": null,
            "grid_auto_rows": null,
            "grid_column": null,
            "grid_gap": null,
            "grid_row": null,
            "grid_template_areas": null,
            "grid_template_columns": null,
            "grid_template_rows": null,
            "height": null,
            "justify_content": null,
            "justify_items": null,
            "left": null,
            "margin": null,
            "max_height": null,
            "max_width": null,
            "min_height": null,
            "min_width": null,
            "object_fit": null,
            "object_position": null,
            "order": null,
            "overflow": null,
            "overflow_x": null,
            "overflow_y": null,
            "padding": null,
            "right": null,
            "top": null,
            "visibility": null,
            "width": null
          }
        },
        "a4a82e93306e4041a9150ebb39ef72c2": {
          "model_module": "@jupyter-widgets/controls",
          "model_module_version": "1.5.0",
          "model_name": "DescriptionStyleModel",
          "state": {
            "_model_module": "@jupyter-widgets/controls",
            "_model_module_version": "1.5.0",
            "_model_name": "DescriptionStyleModel",
            "_view_count": null,
            "_view_module": "@jupyter-widgets/base",
            "_view_module_version": "1.2.0",
            "_view_name": "StyleView",
            "description_width": ""
          }
        },
        "a9f7b745a74b41519254cf781f363c4d": {
          "model_module": "@jupyter-widgets/controls",
          "model_module_version": "1.5.0",
          "model_name": "HTMLModel",
          "state": {
            "_dom_classes": [],
            "_model_module": "@jupyter-widgets/controls",
            "_model_module_version": "1.5.0",
            "_model_name": "HTMLModel",
            "_view_count": null,
            "_view_module": "@jupyter-widgets/controls",
            "_view_module_version": "1.5.0",
            "_view_name": "HTMLView",
            "description": "",
            "description_tooltip": null,
            "layout": "IPY_MODEL_a1e756692adb419fad69dd26f72f1116",
            "placeholder": "​",
            "style": "IPY_MODEL_a4a82e93306e4041a9150ebb39ef72c2",
            "value": "Generating train split: "
          }
        },
        "ac812c677ec342d9b10d8a4a37c4bb86": {
          "model_module": "@jupyter-widgets/controls",
          "model_module_version": "1.5.0",
          "model_name": "ProgressStyleModel",
          "state": {
            "_model_module": "@jupyter-widgets/controls",
            "_model_module_version": "1.5.0",
            "_model_name": "ProgressStyleModel",
            "_view_count": null,
            "_view_module": "@jupyter-widgets/base",
            "_view_module_version": "1.2.0",
            "_view_name": "StyleView",
            "bar_color": null,
            "description_width": ""
          }
        },
        "adf1bf751073496bb9c9d1688af57cbd": {
          "model_module": "@jupyter-widgets/controls",
          "model_module_version": "1.5.0",
          "model_name": "HBoxModel",
          "state": {
            "_dom_classes": [],
            "_model_module": "@jupyter-widgets/controls",
            "_model_module_version": "1.5.0",
            "_model_name": "HBoxModel",
            "_view_count": null,
            "_view_module": "@jupyter-widgets/controls",
            "_view_module_version": "1.5.0",
            "_view_name": "HBoxView",
            "box_style": "",
            "children": [
              "IPY_MODEL_d2b0ea7df19f423587b5e12a6b1664a2",
              "IPY_MODEL_0729e0422e704bb6967a79e285ede7f9",
              "IPY_MODEL_36e4bd7a06bf4f069f56787d609de254"
            ],
            "layout": "IPY_MODEL_14a3185fb6494a60bdf6c1857b75d399"
          }
        },
        "ae429aad4d504f278b49f870ad542086": {
          "model_module": "@jupyter-widgets/base",
          "model_module_version": "1.2.0",
          "model_name": "LayoutModel",
          "state": {
            "_model_module": "@jupyter-widgets/base",
            "_model_module_version": "1.2.0",
            "_model_name": "LayoutModel",
            "_view_count": null,
            "_view_module": "@jupyter-widgets/base",
            "_view_module_version": "1.2.0",
            "_view_name": "LayoutView",
            "align_content": null,
            "align_items": null,
            "align_self": null,
            "border": null,
            "bottom": null,
            "display": null,
            "flex": null,
            "flex_flow": null,
            "grid_area": null,
            "grid_auto_columns": null,
            "grid_auto_flow": null,
            "grid_auto_rows": null,
            "grid_column": null,
            "grid_gap": null,
            "grid_row": null,
            "grid_template_areas": null,
            "grid_template_columns": null,
            "grid_template_rows": null,
            "height": null,
            "justify_content": null,
            "justify_items": null,
            "left": null,
            "margin": null,
            "max_height": null,
            "max_width": null,
            "min_height": null,
            "min_width": null,
            "object_fit": null,
            "object_position": null,
            "order": null,
            "overflow": null,
            "overflow_x": null,
            "overflow_y": null,
            "padding": null,
            "right": null,
            "top": null,
            "visibility": null,
            "width": null
          }
        },
        "b366f76b716641d0a080d5d6d326f459": {
          "model_module": "@jupyter-widgets/controls",
          "model_module_version": "1.5.0",
          "model_name": "HTMLModel",
          "state": {
            "_dom_classes": [],
            "_model_module": "@jupyter-widgets/controls",
            "_model_module_version": "1.5.0",
            "_model_name": "HTMLModel",
            "_view_count": null,
            "_view_module": "@jupyter-widgets/controls",
            "_view_module_version": "1.5.0",
            "_view_name": "HTMLView",
            "description": "",
            "description_tooltip": null,
            "layout": "IPY_MODEL_2476423fc83442379922ea9ef63faad7",
            "placeholder": "​",
            "style": "IPY_MODEL_88fe4543ef6243259882664d7317ffdd",
            "value": " 2/2 [00:49&lt;00:00, 22.46s/it]"
          }
        },
        "ba3b2f41e64e4d04ba28eaa952ad143e": {
          "model_module": "@jupyter-widgets/controls",
          "model_module_version": "1.5.0",
          "model_name": "ProgressStyleModel",
          "state": {
            "_model_module": "@jupyter-widgets/controls",
            "_model_module_version": "1.5.0",
            "_model_name": "ProgressStyleModel",
            "_view_count": null,
            "_view_module": "@jupyter-widgets/base",
            "_view_module_version": "1.2.0",
            "_view_name": "StyleView",
            "bar_color": null,
            "description_width": ""
          }
        },
        "bc4a38a93ca44f069f467fdd61bc945d": {
          "model_module": "@jupyter-widgets/controls",
          "model_module_version": "1.5.0",
          "model_name": "DescriptionStyleModel",
          "state": {
            "_model_module": "@jupyter-widgets/controls",
            "_model_module_version": "1.5.0",
            "_model_name": "DescriptionStyleModel",
            "_view_count": null,
            "_view_module": "@jupyter-widgets/base",
            "_view_module_version": "1.2.0",
            "_view_name": "StyleView",
            "description_width": ""
          }
        },
        "bcf68dcfea8e470ebbcf4263981f3a5d": {
          "model_module": "@jupyter-widgets/controls",
          "model_module_version": "1.5.0",
          "model_name": "DescriptionStyleModel",
          "state": {
            "_model_module": "@jupyter-widgets/controls",
            "_model_module_version": "1.5.0",
            "_model_name": "DescriptionStyleModel",
            "_view_count": null,
            "_view_module": "@jupyter-widgets/base",
            "_view_module_version": "1.2.0",
            "_view_name": "StyleView",
            "description_width": ""
          }
        },
        "c7661d0259f14765a17f69bd1e91fc13": {
          "model_module": "@jupyter-widgets/controls",
          "model_module_version": "1.5.0",
          "model_name": "FloatProgressModel",
          "state": {
            "_dom_classes": [],
            "_model_module": "@jupyter-widgets/controls",
            "_model_module_version": "1.5.0",
            "_model_name": "FloatProgressModel",
            "_view_count": null,
            "_view_module": "@jupyter-widgets/controls",
            "_view_module_version": "1.5.0",
            "_view_name": "ProgressView",
            "bar_style": "",
            "description": "",
            "description_tooltip": null,
            "layout": "IPY_MODEL_60393875a3c14cc18c41f3543de20125",
            "max": 2,
            "min": 0,
            "orientation": "horizontal",
            "style": "IPY_MODEL_53f3982fb5f64174918336ce6fde4da5",
            "value": 0
          }
        },
        "c7a1e9b805bc464c978c95157031fc4a": {
          "model_module": "@jupyter-widgets/base",
          "model_module_version": "1.2.0",
          "model_name": "LayoutModel",
          "state": {
            "_model_module": "@jupyter-widgets/base",
            "_model_module_version": "1.2.0",
            "_model_name": "LayoutModel",
            "_view_count": null,
            "_view_module": "@jupyter-widgets/base",
            "_view_module_version": "1.2.0",
            "_view_name": "LayoutView",
            "align_content": null,
            "align_items": null,
            "align_self": null,
            "border": null,
            "bottom": null,
            "display": null,
            "flex": null,
            "flex_flow": null,
            "grid_area": null,
            "grid_auto_columns": null,
            "grid_auto_flow": null,
            "grid_auto_rows": null,
            "grid_column": null,
            "grid_gap": null,
            "grid_row": null,
            "grid_template_areas": null,
            "grid_template_columns": null,
            "grid_template_rows": null,
            "height": null,
            "justify_content": null,
            "justify_items": null,
            "left": null,
            "margin": null,
            "max_height": null,
            "max_width": null,
            "min_height": null,
            "min_width": null,
            "object_fit": null,
            "object_position": null,
            "order": null,
            "overflow": null,
            "overflow_x": null,
            "overflow_y": null,
            "padding": null,
            "right": null,
            "top": null,
            "visibility": null,
            "width": null
          }
        },
        "cba3444a50924ba3ae6160a67841cd6c": {
          "model_module": "@jupyter-widgets/controls",
          "model_module_version": "1.5.0",
          "model_name": "DescriptionStyleModel",
          "state": {
            "_model_module": "@jupyter-widgets/controls",
            "_model_module_version": "1.5.0",
            "_model_name": "DescriptionStyleModel",
            "_view_count": null,
            "_view_module": "@jupyter-widgets/base",
            "_view_module_version": "1.2.0",
            "_view_name": "StyleView",
            "description_width": ""
          }
        },
        "ce4cbe94adfe4bc983f43f84c8986fd0": {
          "model_module": "@jupyter-widgets/controls",
          "model_module_version": "1.5.0",
          "model_name": "HBoxModel",
          "state": {
            "_dom_classes": [],
            "_model_module": "@jupyter-widgets/controls",
            "_model_module_version": "1.5.0",
            "_model_name": "HBoxModel",
            "_view_count": null,
            "_view_module": "@jupyter-widgets/controls",
            "_view_module_version": "1.5.0",
            "_view_name": "HBoxView",
            "box_style": "",
            "children": [
              "IPY_MODEL_a9f7b745a74b41519254cf781f363c4d",
              "IPY_MODEL_68ba870a951044c98796f35055512740",
              "IPY_MODEL_75d18c42e74942bbbbb081b6766ccab9"
            ],
            "layout": "IPY_MODEL_99e8d84568ed4199821b32ceae63677d"
          }
        },
        "d2b0ea7df19f423587b5e12a6b1664a2": {
          "model_module": "@jupyter-widgets/controls",
          "model_module_version": "1.5.0",
          "model_name": "HTMLModel",
          "state": {
            "_dom_classes": [],
            "_model_module": "@jupyter-widgets/controls",
            "_model_module_version": "1.5.0",
            "_model_name": "HTMLModel",
            "_view_count": null,
            "_view_module": "@jupyter-widgets/controls",
            "_view_module_version": "1.5.0",
            "_view_name": "HTMLView",
            "description": "",
            "description_tooltip": null,
            "layout": "IPY_MODEL_eab00ad555704d8e9efaa88534e01c51",
            "placeholder": "​",
            "style": "IPY_MODEL_3a1ce02583fe42a8aaee693935fa49f0",
            "value": "Generating train split: "
          }
        },
        "d2e826ca3f6c4180879bc1b689899112": {
          "model_module": "@jupyter-widgets/controls",
          "model_module_version": "1.5.0",
          "model_name": "ProgressStyleModel",
          "state": {
            "_model_module": "@jupyter-widgets/controls",
            "_model_module_version": "1.5.0",
            "_model_name": "ProgressStyleModel",
            "_view_count": null,
            "_view_module": "@jupyter-widgets/base",
            "_view_module_version": "1.2.0",
            "_view_name": "StyleView",
            "bar_color": null,
            "description_width": ""
          }
        },
        "d610c69977e1406ab4a9ac296eb8a325": {
          "model_module": "@jupyter-widgets/base",
          "model_module_version": "1.2.0",
          "model_name": "LayoutModel",
          "state": {
            "_model_module": "@jupyter-widgets/base",
            "_model_module_version": "1.2.0",
            "_model_name": "LayoutModel",
            "_view_count": null,
            "_view_module": "@jupyter-widgets/base",
            "_view_module_version": "1.2.0",
            "_view_name": "LayoutView",
            "align_content": null,
            "align_items": null,
            "align_self": null,
            "border": null,
            "bottom": null,
            "display": null,
            "flex": null,
            "flex_flow": null,
            "grid_area": null,
            "grid_auto_columns": null,
            "grid_auto_flow": null,
            "grid_auto_rows": null,
            "grid_column": null,
            "grid_gap": null,
            "grid_row": null,
            "grid_template_areas": null,
            "grid_template_columns": null,
            "grid_template_rows": null,
            "height": null,
            "justify_content": null,
            "justify_items": null,
            "left": null,
            "margin": null,
            "max_height": null,
            "max_width": null,
            "min_height": null,
            "min_width": null,
            "object_fit": null,
            "object_position": null,
            "order": null,
            "overflow": null,
            "overflow_x": null,
            "overflow_y": null,
            "padding": null,
            "right": null,
            "top": null,
            "visibility": null,
            "width": "20px"
          }
        },
        "eab00ad555704d8e9efaa88534e01c51": {
          "model_module": "@jupyter-widgets/base",
          "model_module_version": "1.2.0",
          "model_name": "LayoutModel",
          "state": {
            "_model_module": "@jupyter-widgets/base",
            "_model_module_version": "1.2.0",
            "_model_name": "LayoutModel",
            "_view_count": null,
            "_view_module": "@jupyter-widgets/base",
            "_view_module_version": "1.2.0",
            "_view_name": "LayoutView",
            "align_content": null,
            "align_items": null,
            "align_self": null,
            "border": null,
            "bottom": null,
            "display": null,
            "flex": null,
            "flex_flow": null,
            "grid_area": null,
            "grid_auto_columns": null,
            "grid_auto_flow": null,
            "grid_auto_rows": null,
            "grid_column": null,
            "grid_gap": null,
            "grid_row": null,
            "grid_template_areas": null,
            "grid_template_columns": null,
            "grid_template_rows": null,
            "height": null,
            "justify_content": null,
            "justify_items": null,
            "left": null,
            "margin": null,
            "max_height": null,
            "max_width": null,
            "min_height": null,
            "min_width": null,
            "object_fit": null,
            "object_position": null,
            "order": null,
            "overflow": null,
            "overflow_x": null,
            "overflow_y": null,
            "padding": null,
            "right": null,
            "top": null,
            "visibility": null,
            "width": null
          }
        },
        "ec36bf6b4ee846d79981300d7cad17d3": {
          "model_module": "@jupyter-widgets/base",
          "model_module_version": "1.2.0",
          "model_name": "LayoutModel",
          "state": {
            "_model_module": "@jupyter-widgets/base",
            "_model_module_version": "1.2.0",
            "_model_name": "LayoutModel",
            "_view_count": null,
            "_view_module": "@jupyter-widgets/base",
            "_view_module_version": "1.2.0",
            "_view_name": "LayoutView",
            "align_content": null,
            "align_items": null,
            "align_self": null,
            "border": null,
            "bottom": null,
            "display": null,
            "flex": null,
            "flex_flow": null,
            "grid_area": null,
            "grid_auto_columns": null,
            "grid_auto_flow": null,
            "grid_auto_rows": null,
            "grid_column": null,
            "grid_gap": null,
            "grid_row": null,
            "grid_template_areas": null,
            "grid_template_columns": null,
            "grid_template_rows": null,
            "height": null,
            "justify_content": null,
            "justify_items": null,
            "left": null,
            "margin": null,
            "max_height": null,
            "max_width": null,
            "min_height": null,
            "min_width": null,
            "object_fit": null,
            "object_position": null,
            "order": null,
            "overflow": null,
            "overflow_x": null,
            "overflow_y": null,
            "padding": null,
            "right": null,
            "top": null,
            "visibility": null,
            "width": null
          }
        },
        "f2aeedfc02ce41779b8686e960b6a1dc": {
          "model_module": "@jupyter-widgets/controls",
          "model_module_version": "1.5.0",
          "model_name": "HTMLModel",
          "state": {
            "_dom_classes": [],
            "_model_module": "@jupyter-widgets/controls",
            "_model_module_version": "1.5.0",
            "_model_name": "HTMLModel",
            "_view_count": null,
            "_view_module": "@jupyter-widgets/controls",
            "_view_module_version": "1.5.0",
            "_view_name": "HTMLView",
            "description": "",
            "description_tooltip": null,
            "layout": "IPY_MODEL_c7a1e9b805bc464c978c95157031fc4a",
            "placeholder": "​",
            "style": "IPY_MODEL_5836d727efef40c49514bd7677395cab",
            "value": " 0/2 [00:00&lt;?, ?it/s]"
          }
        },
        "f32c811049d84fc68663b928ff9093c8": {
          "model_module": "@jupyter-widgets/base",
          "model_module_version": "1.2.0",
          "model_name": "LayoutModel",
          "state": {
            "_model_module": "@jupyter-widgets/base",
            "_model_module_version": "1.2.0",
            "_model_name": "LayoutModel",
            "_view_count": null,
            "_view_module": "@jupyter-widgets/base",
            "_view_module_version": "1.2.0",
            "_view_name": "LayoutView",
            "align_content": null,
            "align_items": null,
            "align_self": null,
            "border": null,
            "bottom": null,
            "display": null,
            "flex": null,
            "flex_flow": null,
            "grid_area": null,
            "grid_auto_columns": null,
            "grid_auto_flow": null,
            "grid_auto_rows": null,
            "grid_column": null,
            "grid_gap": null,
            "grid_row": null,
            "grid_template_areas": null,
            "grid_template_columns": null,
            "grid_template_rows": null,
            "height": null,
            "justify_content": null,
            "justify_items": null,
            "left": null,
            "margin": null,
            "max_height": null,
            "max_width": null,
            "min_height": null,
            "min_width": null,
            "object_fit": null,
            "object_position": null,
            "order": null,
            "overflow": null,
            "overflow_x": null,
            "overflow_y": null,
            "padding": null,
            "right": null,
            "top": null,
            "visibility": null,
            "width": null
          }
        },
        "fda6aa6b268341528c2dddd17b33caf4": {
          "model_module": "@jupyter-widgets/controls",
          "model_module_version": "1.5.0",
          "model_name": "HTMLModel",
          "state": {
            "_dom_classes": [],
            "_model_module": "@jupyter-widgets/controls",
            "_model_module_version": "1.5.0",
            "_model_name": "HTMLModel",
            "_view_count": null,
            "_view_module": "@jupyter-widgets/controls",
            "_view_module_version": "1.5.0",
            "_view_name": "HTMLView",
            "description": "",
            "description_tooltip": null,
            "layout": "IPY_MODEL_49666adae8fe4eebac85373717ee4087",
            "placeholder": "​",
            "style": "IPY_MODEL_81bf595ca3234145a89dfdac308a9073",
            "value": " 3977/3977 [00:01&lt;00:00, 2364.52 examples/s]"
          }
        },
        "fe628715a0504054bebf71ce70291116": {
          "model_module": "@jupyter-widgets/base",
          "model_module_version": "1.2.0",
          "model_name": "LayoutModel",
          "state": {
            "_model_module": "@jupyter-widgets/base",
            "_model_module_version": "1.2.0",
            "_model_name": "LayoutModel",
            "_view_count": null,
            "_view_module": "@jupyter-widgets/base",
            "_view_module_version": "1.2.0",
            "_view_name": "LayoutView",
            "align_content": null,
            "align_items": null,
            "align_self": null,
            "border": null,
            "bottom": null,
            "display": null,
            "flex": null,
            "flex_flow": null,
            "grid_area": null,
            "grid_auto_columns": null,
            "grid_auto_flow": null,
            "grid_auto_rows": null,
            "grid_column": null,
            "grid_gap": null,
            "grid_row": null,
            "grid_template_areas": null,
            "grid_template_columns": null,
            "grid_template_rows": null,
            "height": null,
            "justify_content": null,
            "justify_items": null,
            "left": null,
            "margin": null,
            "max_height": null,
            "max_width": null,
            "min_height": null,
            "min_width": null,
            "object_fit": null,
            "object_position": null,
            "order": null,
            "overflow": null,
            "overflow_x": null,
            "overflow_y": null,
            "padding": null,
            "right": null,
            "top": null,
            "visibility": null,
            "width": null
          }
        }
      }
    }
  },
  "nbformat": 4,
  "nbformat_minor": 0
}
