{
 "cells": [
  {
   "cell_type": "code",
   "execution_count": 1,
   "metadata": {},
   "outputs": [],
   "source": [
    "import pandas as pd"
   ]
  },
  {
   "cell_type": "code",
   "execution_count": 2,
   "metadata": {},
   "outputs": [],
   "source": [
    "data1_ko = \"어린이 스마트 시계 전화 위치 방수 터치 스크린 학생 다기능 스포츠 보수계 GPS 추적 블루\"\n",
    "data2_ko = \"남성용 블랙 옥스포드 천 비즈니스 컴퓨터 가방 2023 새로운 다기능 대용량 간단한 휴대용 크로스 바디 서류 가방\"\n",
    "data3_ko = \"고양이의 눈 목걸이 여성 패션 2024 새로운 간단한 맞춤형 실버 체인 액세서리 여성의 짧은 쇄골 체인\""
   ]
  },
  {
   "cell_type": "code",
   "execution_count": 4,
   "metadata": {},
   "outputs": [],
   "source": [
    "pd.set_option('display.max_colwidth', None) "
   ]
  },
  {
   "cell_type": "code",
   "execution_count": 5,
   "metadata": {},
   "outputs": [
    {
     "name": "stdout",
     "output_type": "stream",
     "text": [
      "                                                                                                                                                                                                               text\n",
      "0              ### Instruction: Given a raw source for a product, generate a coherent and relevant product title in Korean.\\n### Raw Source:어린이 스마트 시계 전화 위치 방수 터치 스크린 학생 다기능 스포츠 보수계 GPS 추적 블루\\n### Product Title:\n",
      "1  ### Instruction: Given a raw source for a product, generate a coherent and relevant product title in Korean.\\n### Raw Source:남성용 블랙 옥스포드 천 비즈니스 컴퓨터 가방 2023 새로운 다기능 대용량 간단한 휴대용 크로스 바디 서류 가방\\n### Product Title:\n",
      "2        ### Instruction: Given a raw source for a product, generate a coherent and relevant product title in Korean.\\n### Raw Source:고양이의 눈 목걸이 여성 패션 2024 새로운 간단한 맞춤형 실버 체인 액세서리 여성의 짧은 쇄골 체인\\n### Product Title:\n",
      "                                                                                                                                                                                                                                                                  text\n",
      "0              ### Instruction: Given a raw source for a product, generate five detailed descriptions in Korean. Each description should be relevant to the raw source.\\n### Raw Source:어린이 스마트 시계 전화 위치 방수 터치 스크린 학생 다기능 스포츠 보수계 GPS 추적 블루\\n### Detailed Description:\n",
      "1  ### Instruction: Given a raw source for a product, generate five detailed descriptions in Korean. Each description should be relevant to the raw source.\\n### Raw Source:남성용 블랙 옥스포드 천 비즈니스 컴퓨터 가방 2023 새로운 다기능 대용량 간단한 휴대용 크로스 바디 서류 가방\\n### Detailed Description:\n",
      "2        ### Instruction: Given a raw source for a product, generate five detailed descriptions in Korean. Each description should be relevant to the raw source.\\n### Raw Source:고양이의 눈 목걸이 여성 패션 2024 새로운 간단한 맞춤형 실버 체인 액세서리 여성의 짧은 쇄골 체인\\n### Detailed Description:\n",
      "                                                                                                                                                                                                                                                               text\n",
      "0              ### Instruction: Given a raw source for a product, generate related search keywords in Korean that are relevant to the raw source and practically usable.\\n### Raw Source:어린이 스마트 시계 전화 위치 방수 터치 스크린 학생 다기능 스포츠 보수계 GPS 추적 블루\\n### Related Keywords:\n",
      "1  ### Instruction: Given a raw source for a product, generate related search keywords in Korean that are relevant to the raw source and practically usable.\\n### Raw Source:남성용 블랙 옥스포드 천 비즈니스 컴퓨터 가방 2023 새로운 다기능 대용량 간단한 휴대용 크로스 바디 서류 가방\\n### Related Keywords:\n",
      "2        ### Instruction: Given a raw source for a product, generate related search keywords in Korean that are relevant to the raw source and practically usable.\\n### Raw Source:고양이의 눈 목걸이 여성 패션 2024 새로운 간단한 맞춤형 실버 체인 액세서리 여성의 짧은 쇄골 체인\\n### Related Keywords:\n"
     ]
    }
   ],
   "source": [
    "product_title_inst = \"### Instruction: Given a raw source for a product, generate a coherent and relevant product title in Korean.\\n\"\n",
    "detailed_description_inst = \"### Instruction: Given a raw source for a product, generate five detailed descriptions in Korean. Each description should be relevant to the raw source.\\n\"\n",
    "related_keywords_inst = \"### Instruction: Given a raw source for a product, generate related search keywords in Korean that are relevant to the raw source and practically usable.\\n\"\n",
    "\n",
    "\n",
    "raw_source_format = \"### Raw Source:\"\n",
    "\n",
    "\n",
    "new_data = [\n",
    "    {'raw_source': data1_ko},\n",
    "    {'raw_source': data2_ko},\n",
    "    {'raw_source': data3_ko}\n",
    "]\n",
    "base_df = pd.DataFrame(new_data)\n",
    "\n",
    "\n",
    "title_data = []\n",
    "description_data = []\n",
    "keywords_data = []\n",
    "\n",
    "\n",
    "for index, row in base_df.iterrows():\n",
    "    title_data.append({\n",
    "        'text': product_title_inst + raw_source_format + row['raw_source'] + \"\\n### Product Title:\"\n",
    "    })\n",
    "    description_data.append({\n",
    "        'text': detailed_description_inst + raw_source_format + row['raw_source'] + \"\\n### Detailed Description:\"\n",
    "    })\n",
    "    keywords_data.append({\n",
    "        'text': related_keywords_inst + raw_source_format + row['raw_source'] + \"\\n### Related Keywords:\"\n",
    "    })\n",
    "\n",
    "\n",
    "title_df = pd.DataFrame(title_data)\n",
    "description_df = pd.DataFrame(description_data)\n",
    "keywords_df = pd.DataFrame(keywords_data)\n"
   ]
  },
  {
   "cell_type": "code",
   "execution_count": 6,
   "metadata": {},
   "outputs": [],
   "source": [
    "combined_df_rows = pd.concat([title_df, description_df], ignore_index=True)"
   ]
  },
  {
   "cell_type": "code",
   "execution_count": 7,
   "metadata": {},
   "outputs": [],
   "source": [
    "combined_df_rows = pd.concat([combined_df_rows, keywords_df], ignore_index=True)"
   ]
  },
  {
   "cell_type": "code",
   "execution_count": 8,
   "metadata": {},
   "outputs": [
    {
     "data": {
      "text/html": [
       "<div>\n",
       "<style scoped>\n",
       "    .dataframe tbody tr th:only-of-type {\n",
       "        vertical-align: middle;\n",
       "    }\n",
       "\n",
       "    .dataframe tbody tr th {\n",
       "        vertical-align: top;\n",
       "    }\n",
       "\n",
       "    .dataframe thead th {\n",
       "        text-align: right;\n",
       "    }\n",
       "</style>\n",
       "<table border=\"1\" class=\"dataframe\">\n",
       "  <thead>\n",
       "    <tr style=\"text-align: right;\">\n",
       "      <th></th>\n",
       "      <th>text</th>\n",
       "    </tr>\n",
       "  </thead>\n",
       "  <tbody>\n",
       "    <tr>\n",
       "      <th>0</th>\n",
       "      <td>### Instruction: Given a raw source for a product, generate a coherent and relevant product title in Korean.\\n### Raw Source:어린이 스마트 시계 전화 위치 방수 터치 스크린 학생 다기능 스포츠 보수계 GPS 추적 블루\\n### Product Title:</td>\n",
       "    </tr>\n",
       "    <tr>\n",
       "      <th>1</th>\n",
       "      <td>### Instruction: Given a raw source for a product, generate a coherent and relevant product title in Korean.\\n### Raw Source:남성용 블랙 옥스포드 천 비즈니스 컴퓨터 가방 2023 새로운 다기능 대용량 간단한 휴대용 크로스 바디 서류 가방\\n### Product Title:</td>\n",
       "    </tr>\n",
       "    <tr>\n",
       "      <th>2</th>\n",
       "      <td>### Instruction: Given a raw source for a product, generate a coherent and relevant product title in Korean.\\n### Raw Source:고양이의 눈 목걸이 여성 패션 2024 새로운 간단한 맞춤형 실버 체인 액세서리 여성의 짧은 쇄골 체인\\n### Product Title:</td>\n",
       "    </tr>\n",
       "    <tr>\n",
       "      <th>3</th>\n",
       "      <td>### Instruction: Given a raw source for a product, generate five detailed descriptions in Korean. Each description should be relevant to the raw source.\\n### Raw Source:어린이 스마트 시계 전화 위치 방수 터치 스크린 학생 다기능 스포츠 보수계 GPS 추적 블루\\n### Detailed Description:</td>\n",
       "    </tr>\n",
       "    <tr>\n",
       "      <th>4</th>\n",
       "      <td>### Instruction: Given a raw source for a product, generate five detailed descriptions in Korean. Each description should be relevant to the raw source.\\n### Raw Source:남성용 블랙 옥스포드 천 비즈니스 컴퓨터 가방 2023 새로운 다기능 대용량 간단한 휴대용 크로스 바디 서류 가방\\n### Detailed Description:</td>\n",
       "    </tr>\n",
       "    <tr>\n",
       "      <th>5</th>\n",
       "      <td>### Instruction: Given a raw source for a product, generate five detailed descriptions in Korean. Each description should be relevant to the raw source.\\n### Raw Source:고양이의 눈 목걸이 여성 패션 2024 새로운 간단한 맞춤형 실버 체인 액세서리 여성의 짧은 쇄골 체인\\n### Detailed Description:</td>\n",
       "    </tr>\n",
       "    <tr>\n",
       "      <th>6</th>\n",
       "      <td>### Instruction: Given a raw source for a product, generate related search keywords in Korean that are relevant to the raw source and practically usable.\\n### Raw Source:어린이 스마트 시계 전화 위치 방수 터치 스크린 학생 다기능 스포츠 보수계 GPS 추적 블루\\n### Related Keywords:</td>\n",
       "    </tr>\n",
       "    <tr>\n",
       "      <th>7</th>\n",
       "      <td>### Instruction: Given a raw source for a product, generate related search keywords in Korean that are relevant to the raw source and practically usable.\\n### Raw Source:남성용 블랙 옥스포드 천 비즈니스 컴퓨터 가방 2023 새로운 다기능 대용량 간단한 휴대용 크로스 바디 서류 가방\\n### Related Keywords:</td>\n",
       "    </tr>\n",
       "    <tr>\n",
       "      <th>8</th>\n",
       "      <td>### Instruction: Given a raw source for a product, generate related search keywords in Korean that are relevant to the raw source and practically usable.\\n### Raw Source:고양이의 눈 목걸이 여성 패션 2024 새로운 간단한 맞춤형 실버 체인 액세서리 여성의 짧은 쇄골 체인\\n### Related Keywords:</td>\n",
       "    </tr>\n",
       "  </tbody>\n",
       "</table>\n",
       "</div>"
      ],
      "text/plain": [
       "                                                                                                                                                                                                                                                                  text\n",
       "0                                                                 ### Instruction: Given a raw source for a product, generate a coherent and relevant product title in Korean.\\n### Raw Source:어린이 스마트 시계 전화 위치 방수 터치 스크린 학생 다기능 스포츠 보수계 GPS 추적 블루\\n### Product Title:\n",
       "1                                                     ### Instruction: Given a raw source for a product, generate a coherent and relevant product title in Korean.\\n### Raw Source:남성용 블랙 옥스포드 천 비즈니스 컴퓨터 가방 2023 새로운 다기능 대용량 간단한 휴대용 크로스 바디 서류 가방\\n### Product Title:\n",
       "2                                                           ### Instruction: Given a raw source for a product, generate a coherent and relevant product title in Korean.\\n### Raw Source:고양이의 눈 목걸이 여성 패션 2024 새로운 간단한 맞춤형 실버 체인 액세서리 여성의 짧은 쇄골 체인\\n### Product Title:\n",
       "3              ### Instruction: Given a raw source for a product, generate five detailed descriptions in Korean. Each description should be relevant to the raw source.\\n### Raw Source:어린이 스마트 시계 전화 위치 방수 터치 스크린 학생 다기능 스포츠 보수계 GPS 추적 블루\\n### Detailed Description:\n",
       "4  ### Instruction: Given a raw source for a product, generate five detailed descriptions in Korean. Each description should be relevant to the raw source.\\n### Raw Source:남성용 블랙 옥스포드 천 비즈니스 컴퓨터 가방 2023 새로운 다기능 대용량 간단한 휴대용 크로스 바디 서류 가방\\n### Detailed Description:\n",
       "5        ### Instruction: Given a raw source for a product, generate five detailed descriptions in Korean. Each description should be relevant to the raw source.\\n### Raw Source:고양이의 눈 목걸이 여성 패션 2024 새로운 간단한 맞춤형 실버 체인 액세서리 여성의 짧은 쇄골 체인\\n### Detailed Description:\n",
       "6                 ### Instruction: Given a raw source for a product, generate related search keywords in Korean that are relevant to the raw source and practically usable.\\n### Raw Source:어린이 스마트 시계 전화 위치 방수 터치 스크린 학생 다기능 스포츠 보수계 GPS 추적 블루\\n### Related Keywords:\n",
       "7     ### Instruction: Given a raw source for a product, generate related search keywords in Korean that are relevant to the raw source and practically usable.\\n### Raw Source:남성용 블랙 옥스포드 천 비즈니스 컴퓨터 가방 2023 새로운 다기능 대용량 간단한 휴대용 크로스 바디 서류 가방\\n### Related Keywords:\n",
       "8           ### Instruction: Given a raw source for a product, generate related search keywords in Korean that are relevant to the raw source and practically usable.\\n### Raw Source:고양이의 눈 목걸이 여성 패션 2024 새로운 간단한 맞춤형 실버 체인 액세서리 여성의 짧은 쇄골 체인\\n### Related Keywords:"
      ]
     },
     "execution_count": 8,
     "metadata": {},
     "output_type": "execute_result"
    }
   ],
   "source": [
    "combined_df_rows"
   ]
  },
  {
   "cell_type": "code",
   "execution_count": null,
   "metadata": {},
   "outputs": [],
   "source": []
  }
 ],
 "metadata": {
  "kernelspec": {
   "display_name": "Python 3.11.5 64-bit ('3.11.5')",
   "language": "python",
   "name": "python3"
  },
  "language_info": {
   "codemirror_mode": {
    "name": "ipython",
    "version": 3
   },
   "file_extension": ".py",
   "mimetype": "text/x-python",
   "name": "python",
   "nbconvert_exporter": "python",
   "pygments_lexer": "ipython3",
   "version": "3.11.5"
  },
  "orig_nbformat": 4,
  "vscode": {
   "interpreter": {
    "hash": "591923e582065aff74a93a90fba3a50741a602c305cc24a3d29844b7d540dc83"
   }
  }
 },
 "nbformat": 4,
 "nbformat_minor": 2
}
