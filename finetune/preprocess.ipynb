{
 "cells": [
  {
   "cell_type": "code",
   "execution_count": 88,
   "metadata": {},
   "outputs": [],
   "source": [
    "base_data_path =\"./data/filtered_data3_base_0501_last.json\"\n",
    "feature_data_path = \"./data/filtered_data3_0502_feature.json\""
   ]
  },
  {
   "cell_type": "code",
   "execution_count": 89,
   "metadata": {},
   "outputs": [],
   "source": [
    "from sklearn.model_selection import train_test_split"
   ]
  },
  {
   "cell_type": "code",
   "execution_count": 90,
   "metadata": {},
   "outputs": [],
   "source": [
    "from datasets import load_dataset, Dataset"
   ]
  },
  {
   "cell_type": "code",
   "execution_count": 91,
   "metadata": {},
   "outputs": [],
   "source": [
    "import pandas as pd\n",
    "base_data = pd.read_json(base_data_path)\n",
    "feature_data = pd.read_json(feature_data_path)"
   ]
  },
  {
   "cell_type": "code",
   "execution_count": 92,
   "metadata": {},
   "outputs": [
    {
     "data": {
      "text/html": [
       "<div>\n",
       "<style scoped>\n",
       "    .dataframe tbody tr th:only-of-type {\n",
       "        vertical-align: middle;\n",
       "    }\n",
       "\n",
       "    .dataframe tbody tr th {\n",
       "        vertical-align: top;\n",
       "    }\n",
       "\n",
       "    .dataframe thead th {\n",
       "        text-align: right;\n",
       "    }\n",
       "</style>\n",
       "<table border=\"1\" class=\"dataframe\">\n",
       "  <thead>\n",
       "    <tr style=\"text-align: right;\">\n",
       "      <th></th>\n",
       "      <th>raw_source</th>\n",
       "      <th>product_title</th>\n",
       "      <th>detailed_description</th>\n",
       "      <th>related_search_keywords</th>\n",
       "      <th>score_pn_coher_detailed</th>\n",
       "      <th>score_pn_rel_detailed</th>\n",
       "      <th>score_pn_search_detailed</th>\n",
       "      <th>score_cp_rel_detailed</th>\n",
       "      <th>score_cp_sen_comp_detailed</th>\n",
       "      <th>score_cp_harm_detailed</th>\n",
       "      <th>score_rk_rel_detailed</th>\n",
       "      <th>score_rk_trend_detailed</th>\n",
       "      <th>score_rk_daily_detailed</th>\n",
       "      <th>index</th>\n",
       "    </tr>\n",
       "  </thead>\n",
       "  <tbody>\n",
       "    <tr>\n",
       "      <th>0</th>\n",
       "      <td>눈길 자전거 초광폭 타이어 변속 4.0 눈길용 자전거 성인 학생용 자전거 남녀공용 ...</td>\n",
       "      <td>초광폭 타이어 4.0 눈길용 자전거 남녀공용 마운틴바이크</td>\n",
       "      <td>눈길 자전거는 초광폭 4.0 타이어를 장착하여 눈길과 진흙길에서도 뛰어난 안정성과 ...</td>\n",
       "      <td>[눈길자전거, 초광폭타이어자전거, 변속자전거, 성인용자전거, 학생용자전거, 남녀공용...</td>\n",
       "      <td>4</td>\n",
       "      <td>5</td>\n",
       "      <td>5</td>\n",
       "      <td>5</td>\n",
       "      <td>5</td>\n",
       "      <td>5</td>\n",
       "      <td>5</td>\n",
       "      <td>3</td>\n",
       "      <td>5</td>\n",
       "      <td>0</td>\n",
       "    </tr>\n",
       "    <tr>\n",
       "      <th>1</th>\n",
       "      <td>한국 양모 카디건 여성 2023 신상 가을겨울 느슨한 스타일 한국판 패션 범용 두꺼...</td>\n",
       "      <td>2023 신상 여성용 느슨한 핏 양모 카디건, 겨울 대형 니트 외투</td>\n",
       "      <td>2023년 신상으로 출시된 이 한국 양모 카디건은 가을과 겨울에 딱 맞는 패셔너블한...</td>\n",
       "      <td>[여성양모카디건, 2023가을겨울신상, 한국패션니트, 느슨한카디건, 두꺼운니트카디건...</td>\n",
       "      <td>4</td>\n",
       "      <td>5</td>\n",
       "      <td>4</td>\n",
       "      <td>5</td>\n",
       "      <td>5</td>\n",
       "      <td>5</td>\n",
       "      <td>5</td>\n",
       "      <td>3</td>\n",
       "      <td>5</td>\n",
       "      <td>1</td>\n",
       "    </tr>\n",
       "    <tr>\n",
       "      <th>2</th>\n",
       "      <td>고유화 월계화 클래식 접이식 천 가방 쇼핑백 에코백 대용량 장바구니 핸드백 숄더백</td>\n",
       "      <td>클래식 대용량 접이식 에코 쇼핑 숄더백</td>\n",
       "      <td>고유화 월계화 디자인이 돋보이는 클래식한 접이식 천 가방으로, 어디에서나 편안하게 ...</td>\n",
       "      <td>[에코백 추천, 접이식 쇼핑백, 대용량 에코백, 월계수 패턴 가방, 클래식 천 가방...</td>\n",
       "      <td>4</td>\n",
       "      <td>5</td>\n",
       "      <td>5</td>\n",
       "      <td>5</td>\n",
       "      <td>5</td>\n",
       "      <td>5</td>\n",
       "      <td>5</td>\n",
       "      <td>3</td>\n",
       "      <td>5</td>\n",
       "      <td>2</td>\n",
       "    </tr>\n",
       "    <tr>\n",
       "      <th>3</th>\n",
       "      <td>CEEKAY 소형 향수 스타일 체인 백 고급 질감의 독특한 여성용 크로스바디 백 올...</td>\n",
       "      <td>CEEKAY 체인 크로스바디 여성용 소형 향수 스타일 가방</td>\n",
       "      <td>CEEKAY 소형 향수 스타일의 체인 백은 고급스러운 질감과 독특한 디자인으로 여성...</td>\n",
       "      <td>[여성 크로스바디 백, CEEKAY 체인 백, 소형 향수 스타일 가방, 고급 여성용...</td>\n",
       "      <td>4</td>\n",
       "      <td>5</td>\n",
       "      <td>4</td>\n",
       "      <td>5</td>\n",
       "      <td>5</td>\n",
       "      <td>5</td>\n",
       "      <td>5</td>\n",
       "      <td>4</td>\n",
       "      <td>5</td>\n",
       "      <td>3</td>\n",
       "    </tr>\n",
       "    <tr>\n",
       "      <th>4</th>\n",
       "      <td>NR 숲느낌의 퓨어 컬러 빈티지 느낌의 여성용 배낭, 중학생 고등학생을 위한 한국 ...</td>\n",
       "      <td>숲 색감 빈티지 여성용 배낭, 중고생 패션가방</td>\n",
       "      <td>NR 브랜드의 숲느낌을 담은 퓨어 컬러 빈티지 배낭은 중고등학생 여성들에게 안성맞춤...</td>\n",
       "      <td>[여성용배낭, 빈티지배낭, 중학생배낭, 고등학생배낭, 한국스타일배낭, 패션배낭, 숲...</td>\n",
       "      <td>4</td>\n",
       "      <td>5</td>\n",
       "      <td>4</td>\n",
       "      <td>5</td>\n",
       "      <td>5</td>\n",
       "      <td>5</td>\n",
       "      <td>5</td>\n",
       "      <td>3</td>\n",
       "      <td>5</td>\n",
       "      <td>4</td>\n",
       "    </tr>\n",
       "  </tbody>\n",
       "</table>\n",
       "</div>"
      ],
      "text/plain": [
       "                                          raw_source  \\\n",
       "0  눈길 자전거 초광폭 타이어 변속 4.0 눈길용 자전거 성인 학생용 자전거 남녀공용 ...   \n",
       "1  한국 양모 카디건 여성 2023 신상 가을겨울 느슨한 스타일 한국판 패션 범용 두꺼...   \n",
       "2      고유화 월계화 클래식 접이식 천 가방 쇼핑백 에코백 대용량 장바구니 핸드백 숄더백   \n",
       "3  CEEKAY 소형 향수 스타일 체인 백 고급 질감의 독특한 여성용 크로스바디 백 올...   \n",
       "4  NR 숲느낌의 퓨어 컬러 빈티지 느낌의 여성용 배낭, 중학생 고등학생을 위한 한국 ...   \n",
       "\n",
       "                           product_title  \\\n",
       "0        초광폭 타이어 4.0 눈길용 자전거 남녀공용 마운틴바이크   \n",
       "1  2023 신상 여성용 느슨한 핏 양모 카디건, 겨울 대형 니트 외투   \n",
       "2                  클래식 대용량 접이식 에코 쇼핑 숄더백   \n",
       "3       CEEKAY 체인 크로스바디 여성용 소형 향수 스타일 가방   \n",
       "4              숲 색감 빈티지 여성용 배낭, 중고생 패션가방   \n",
       "\n",
       "                                detailed_description  \\\n",
       "0  눈길 자전거는 초광폭 4.0 타이어를 장착하여 눈길과 진흙길에서도 뛰어난 안정성과 ...   \n",
       "1  2023년 신상으로 출시된 이 한국 양모 카디건은 가을과 겨울에 딱 맞는 패셔너블한...   \n",
       "2  고유화 월계화 디자인이 돋보이는 클래식한 접이식 천 가방으로, 어디에서나 편안하게 ...   \n",
       "3  CEEKAY 소형 향수 스타일의 체인 백은 고급스러운 질감과 독특한 디자인으로 여성...   \n",
       "4  NR 브랜드의 숲느낌을 담은 퓨어 컬러 빈티지 배낭은 중고등학생 여성들에게 안성맞춤...   \n",
       "\n",
       "                             related_search_keywords  score_pn_coher_detailed  \\\n",
       "0  [눈길자전거, 초광폭타이어자전거, 변속자전거, 성인용자전거, 학생용자전거, 남녀공용...                        4   \n",
       "1  [여성양모카디건, 2023가을겨울신상, 한국패션니트, 느슨한카디건, 두꺼운니트카디건...                        4   \n",
       "2  [에코백 추천, 접이식 쇼핑백, 대용량 에코백, 월계수 패턴 가방, 클래식 천 가방...                        4   \n",
       "3  [여성 크로스바디 백, CEEKAY 체인 백, 소형 향수 스타일 가방, 고급 여성용...                        4   \n",
       "4  [여성용배낭, 빈티지배낭, 중학생배낭, 고등학생배낭, 한국스타일배낭, 패션배낭, 숲...                        4   \n",
       "\n",
       "   score_pn_rel_detailed  score_pn_search_detailed  score_cp_rel_detailed  \\\n",
       "0                      5                         5                      5   \n",
       "1                      5                         4                      5   \n",
       "2                      5                         5                      5   \n",
       "3                      5                         4                      5   \n",
       "4                      5                         4                      5   \n",
       "\n",
       "   score_cp_sen_comp_detailed  score_cp_harm_detailed  score_rk_rel_detailed  \\\n",
       "0                           5                       5                      5   \n",
       "1                           5                       5                      5   \n",
       "2                           5                       5                      5   \n",
       "3                           5                       5                      5   \n",
       "4                           5                       5                      5   \n",
       "\n",
       "   score_rk_trend_detailed  score_rk_daily_detailed  index  \n",
       "0                        3                        5      0  \n",
       "1                        3                        5      1  \n",
       "2                        3                        5      2  \n",
       "3                        4                        5      3  \n",
       "4                        3                        5      4  "
      ]
     },
     "execution_count": 92,
     "metadata": {},
     "output_type": "execute_result"
    }
   ],
   "source": [
    "base_data.head()"
   ]
  },
  {
   "cell_type": "code",
   "execution_count": 93,
   "metadata": {},
   "outputs": [],
   "source": [
    "#base_data.rename(columns={'old_name1': 'new_name1', 'old_name2': 'new_name2'}, inplace=True)"
   ]
  },
  {
   "cell_type": "code",
   "execution_count": 94,
   "metadata": {},
   "outputs": [],
   "source": [
    "\n",
    "base_df=base_data[[\"raw_source\", \"product_title\", \"detailed_description\", \"related_search_keywords\"]]\n",
    "feature_df=feature_data[[\"raw_source\", \"product_title\", \"detailed_description\", \"related_search_keywords\"]]"
   ]
  },
  {
   "cell_type": "code",
   "execution_count": 95,
   "metadata": {},
   "outputs": [
    {
     "data": {
      "text/html": [
       "<div>\n",
       "<style scoped>\n",
       "    .dataframe tbody tr th:only-of-type {\n",
       "        vertical-align: middle;\n",
       "    }\n",
       "\n",
       "    .dataframe tbody tr th {\n",
       "        vertical-align: top;\n",
       "    }\n",
       "\n",
       "    .dataframe thead th {\n",
       "        text-align: right;\n",
       "    }\n",
       "</style>\n",
       "<table border=\"1\" class=\"dataframe\">\n",
       "  <thead>\n",
       "    <tr style=\"text-align: right;\">\n",
       "      <th></th>\n",
       "      <th>raw_source</th>\n",
       "      <th>product_title</th>\n",
       "      <th>detailed_description</th>\n",
       "      <th>related_search_keywords</th>\n",
       "    </tr>\n",
       "  </thead>\n",
       "  <tbody>\n",
       "    <tr>\n",
       "      <th>0</th>\n",
       "      <td>눈길 자전거 초광폭 타이어 변속 4.0 눈길용 자전거 성인 학생용 자전거 남녀공용 ...</td>\n",
       "      <td>초광폭 타이어 4.0 눈길용 자전거 남녀공용 마운틴바이크</td>\n",
       "      <td>눈길 자전거는 초광폭 4.0 타이어를 장착하여 눈길과 진흙길에서도 뛰어난 안정성과 ...</td>\n",
       "      <td>[눈길자전거, 초광폭타이어자전거, 변속자전거, 성인용자전거, 학생용자전거, 남녀공용...</td>\n",
       "    </tr>\n",
       "    <tr>\n",
       "      <th>1</th>\n",
       "      <td>한국 양모 카디건 여성 2023 신상 가을겨울 느슨한 스타일 한국판 패션 범용 두꺼...</td>\n",
       "      <td>2023 신상 여성용 느슨한 핏 양모 카디건, 겨울 대형 니트 외투</td>\n",
       "      <td>2023년 신상으로 출시된 이 한국 양모 카디건은 가을과 겨울에 딱 맞는 패셔너블한...</td>\n",
       "      <td>[여성양모카디건, 2023가을겨울신상, 한국패션니트, 느슨한카디건, 두꺼운니트카디건...</td>\n",
       "    </tr>\n",
       "    <tr>\n",
       "      <th>2</th>\n",
       "      <td>고유화 월계화 클래식 접이식 천 가방 쇼핑백 에코백 대용량 장바구니 핸드백 숄더백</td>\n",
       "      <td>클래식 대용량 접이식 에코 쇼핑 숄더백</td>\n",
       "      <td>고유화 월계화 디자인이 돋보이는 클래식한 접이식 천 가방으로, 어디에서나 편안하게 ...</td>\n",
       "      <td>[에코백 추천, 접이식 쇼핑백, 대용량 에코백, 월계수 패턴 가방, 클래식 천 가방...</td>\n",
       "    </tr>\n",
       "    <tr>\n",
       "      <th>3</th>\n",
       "      <td>CEEKAY 소형 향수 스타일 체인 백 고급 질감의 독특한 여성용 크로스바디 백 올...</td>\n",
       "      <td>CEEKAY 체인 크로스바디 여성용 소형 향수 스타일 가방</td>\n",
       "      <td>CEEKAY 소형 향수 스타일의 체인 백은 고급스러운 질감과 독특한 디자인으로 여성...</td>\n",
       "      <td>[여성 크로스바디 백, CEEKAY 체인 백, 소형 향수 스타일 가방, 고급 여성용...</td>\n",
       "    </tr>\n",
       "    <tr>\n",
       "      <th>4</th>\n",
       "      <td>NR 숲느낌의 퓨어 컬러 빈티지 느낌의 여성용 배낭, 중학생 고등학생을 위한 한국 ...</td>\n",
       "      <td>숲 색감 빈티지 여성용 배낭, 중고생 패션가방</td>\n",
       "      <td>NR 브랜드의 숲느낌을 담은 퓨어 컬러 빈티지 배낭은 중고등학생 여성들에게 안성맞춤...</td>\n",
       "      <td>[여성용배낭, 빈티지배낭, 중학생배낭, 고등학생배낭, 한국스타일배낭, 패션배낭, 숲...</td>\n",
       "    </tr>\n",
       "  </tbody>\n",
       "</table>\n",
       "</div>"
      ],
      "text/plain": [
       "                                          raw_source  \\\n",
       "0  눈길 자전거 초광폭 타이어 변속 4.0 눈길용 자전거 성인 학생용 자전거 남녀공용 ...   \n",
       "1  한국 양모 카디건 여성 2023 신상 가을겨울 느슨한 스타일 한국판 패션 범용 두꺼...   \n",
       "2      고유화 월계화 클래식 접이식 천 가방 쇼핑백 에코백 대용량 장바구니 핸드백 숄더백   \n",
       "3  CEEKAY 소형 향수 스타일 체인 백 고급 질감의 독특한 여성용 크로스바디 백 올...   \n",
       "4  NR 숲느낌의 퓨어 컬러 빈티지 느낌의 여성용 배낭, 중학생 고등학생을 위한 한국 ...   \n",
       "\n",
       "                           product_title  \\\n",
       "0        초광폭 타이어 4.0 눈길용 자전거 남녀공용 마운틴바이크   \n",
       "1  2023 신상 여성용 느슨한 핏 양모 카디건, 겨울 대형 니트 외투   \n",
       "2                  클래식 대용량 접이식 에코 쇼핑 숄더백   \n",
       "3       CEEKAY 체인 크로스바디 여성용 소형 향수 스타일 가방   \n",
       "4              숲 색감 빈티지 여성용 배낭, 중고생 패션가방   \n",
       "\n",
       "                                detailed_description  \\\n",
       "0  눈길 자전거는 초광폭 4.0 타이어를 장착하여 눈길과 진흙길에서도 뛰어난 안정성과 ...   \n",
       "1  2023년 신상으로 출시된 이 한국 양모 카디건은 가을과 겨울에 딱 맞는 패셔너블한...   \n",
       "2  고유화 월계화 디자인이 돋보이는 클래식한 접이식 천 가방으로, 어디에서나 편안하게 ...   \n",
       "3  CEEKAY 소형 향수 스타일의 체인 백은 고급스러운 질감과 독특한 디자인으로 여성...   \n",
       "4  NR 브랜드의 숲느낌을 담은 퓨어 컬러 빈티지 배낭은 중고등학생 여성들에게 안성맞춤...   \n",
       "\n",
       "                             related_search_keywords  \n",
       "0  [눈길자전거, 초광폭타이어자전거, 변속자전거, 성인용자전거, 학생용자전거, 남녀공용...  \n",
       "1  [여성양모카디건, 2023가을겨울신상, 한국패션니트, 느슨한카디건, 두꺼운니트카디건...  \n",
       "2  [에코백 추천, 접이식 쇼핑백, 대용량 에코백, 월계수 패턴 가방, 클래식 천 가방...  \n",
       "3  [여성 크로스바디 백, CEEKAY 체인 백, 소형 향수 스타일 가방, 고급 여성용...  \n",
       "4  [여성용배낭, 빈티지배낭, 중학생배낭, 고등학생배낭, 한국스타일배낭, 패션배낭, 숲...  "
      ]
     },
     "execution_count": 95,
     "metadata": {},
     "output_type": "execute_result"
    }
   ],
   "source": [
    "base_df.head()"
   ]
  },
  {
   "cell_type": "code",
   "execution_count": 96,
   "metadata": {},
   "outputs": [],
   "source": [
    "pro_ti_inst = \"[INST]Given a raw source for a product, generate a coherent and relevant product title in Korean.[/INST]\"\n",
    "de_des_inst = \"[INST]Given a raw source for a product, generate five detailed descriptions in Korean. Each description should be relevant to the raw source.[/INST]\"\n",
    "rel_sk_inst = \"[INST]Given a raw source for a product, generate related search keywords in Korean that are relevant to the raw source and practically usable[/INST]\"\n"
   ]
  },
  {
   "cell_type": "code",
   "execution_count": 97,
   "metadata": {},
   "outputs": [],
   "source": [
    "for index, row in base_df.iterrows():\n",
    "    row['raw_source'] = row['raw_source'] \n",
    "    row['product_title'] = row['product_title'] \n",
    "    row['detailed_description'] = row['detailed_description'] \n",
    "    row['related_search_keywords'] = row['related_search_keywords'] "
   ]
  },
  {
   "cell_type": "code",
   "execution_count": 98,
   "metadata": {},
   "outputs": [],
   "source": [
    "for index, row in feature_df.iterrows():\n",
    "    row['raw_source'] = row['raw_source'] \n",
    "    row['product_title'] = row['product_title'] \n",
    "    row['detailed_description'] = row['detailed_description'] \n",
    "    row['related_search_keywords'] = row['related_search_keywords'] "
   ]
  },
  {
   "cell_type": "code",
   "execution_count": 99,
   "metadata": {},
   "outputs": [
    {
     "data": {
      "text/html": [
       "<div>\n",
       "<style scoped>\n",
       "    .dataframe tbody tr th:only-of-type {\n",
       "        vertical-align: middle;\n",
       "    }\n",
       "\n",
       "    .dataframe tbody tr th {\n",
       "        vertical-align: top;\n",
       "    }\n",
       "\n",
       "    .dataframe thead th {\n",
       "        text-align: right;\n",
       "    }\n",
       "</style>\n",
       "<table border=\"1\" class=\"dataframe\">\n",
       "  <thead>\n",
       "    <tr style=\"text-align: right;\">\n",
       "      <th></th>\n",
       "      <th>raw_source</th>\n",
       "      <th>product_title</th>\n",
       "      <th>detailed_description</th>\n",
       "      <th>related_search_keywords</th>\n",
       "    </tr>\n",
       "  </thead>\n",
       "  <tbody>\n",
       "    <tr>\n",
       "      <th>0</th>\n",
       "      <td>눈길 자전거 초광폭 타이어 변속 4.0 눈길용 자전거 성인 학생용 자전거 남녀공용 ...</td>\n",
       "      <td>초광폭 타이어 4.0 눈길용 자전거 남녀공용 마운틴바이크</td>\n",
       "      <td>눈길 자전거는 초광폭 4.0 타이어를 장착하여 눈길과 진흙길에서도 뛰어난 안정성과 ...</td>\n",
       "      <td>[눈길자전거, 초광폭타이어자전거, 변속자전거, 성인용자전거, 학생용자전거, 남녀공용...</td>\n",
       "    </tr>\n",
       "    <tr>\n",
       "      <th>1</th>\n",
       "      <td>한국 양모 카디건 여성 2023 신상 가을겨울 느슨한 스타일 한국판 패션 범용 두꺼...</td>\n",
       "      <td>2023 신상 여성용 느슨한 핏 양모 카디건, 겨울 대형 니트 외투</td>\n",
       "      <td>2023년 신상으로 출시된 이 한국 양모 카디건은 가을과 겨울에 딱 맞는 패셔너블한...</td>\n",
       "      <td>[여성양모카디건, 2023가을겨울신상, 한국패션니트, 느슨한카디건, 두꺼운니트카디건...</td>\n",
       "    </tr>\n",
       "    <tr>\n",
       "      <th>2</th>\n",
       "      <td>고유화 월계화 클래식 접이식 천 가방 쇼핑백 에코백 대용량 장바구니 핸드백 숄더백</td>\n",
       "      <td>클래식 대용량 접이식 에코 쇼핑 숄더백</td>\n",
       "      <td>고유화 월계화 디자인이 돋보이는 클래식한 접이식 천 가방으로, 어디에서나 편안하게 ...</td>\n",
       "      <td>[에코백 추천, 접이식 쇼핑백, 대용량 에코백, 월계수 패턴 가방, 클래식 천 가방...</td>\n",
       "    </tr>\n",
       "    <tr>\n",
       "      <th>3</th>\n",
       "      <td>CEEKAY 소형 향수 스타일 체인 백 고급 질감의 독특한 여성용 크로스바디 백 올...</td>\n",
       "      <td>CEEKAY 체인 크로스바디 여성용 소형 향수 스타일 가방</td>\n",
       "      <td>CEEKAY 소형 향수 스타일의 체인 백은 고급스러운 질감과 독특한 디자인으로 여성...</td>\n",
       "      <td>[여성 크로스바디 백, CEEKAY 체인 백, 소형 향수 스타일 가방, 고급 여성용...</td>\n",
       "    </tr>\n",
       "    <tr>\n",
       "      <th>4</th>\n",
       "      <td>NR 숲느낌의 퓨어 컬러 빈티지 느낌의 여성용 배낭, 중학생 고등학생을 위한 한국 ...</td>\n",
       "      <td>숲 색감 빈티지 여성용 배낭, 중고생 패션가방</td>\n",
       "      <td>NR 브랜드의 숲느낌을 담은 퓨어 컬러 빈티지 배낭은 중고등학생 여성들에게 안성맞춤...</td>\n",
       "      <td>[여성용배낭, 빈티지배낭, 중학생배낭, 고등학생배낭, 한국스타일배낭, 패션배낭, 숲...</td>\n",
       "    </tr>\n",
       "  </tbody>\n",
       "</table>\n",
       "</div>"
      ],
      "text/plain": [
       "                                          raw_source  \\\n",
       "0  눈길 자전거 초광폭 타이어 변속 4.0 눈길용 자전거 성인 학생용 자전거 남녀공용 ...   \n",
       "1  한국 양모 카디건 여성 2023 신상 가을겨울 느슨한 스타일 한국판 패션 범용 두꺼...   \n",
       "2      고유화 월계화 클래식 접이식 천 가방 쇼핑백 에코백 대용량 장바구니 핸드백 숄더백   \n",
       "3  CEEKAY 소형 향수 스타일 체인 백 고급 질감의 독특한 여성용 크로스바디 백 올...   \n",
       "4  NR 숲느낌의 퓨어 컬러 빈티지 느낌의 여성용 배낭, 중학생 고등학생을 위한 한국 ...   \n",
       "\n",
       "                           product_title  \\\n",
       "0        초광폭 타이어 4.0 눈길용 자전거 남녀공용 마운틴바이크   \n",
       "1  2023 신상 여성용 느슨한 핏 양모 카디건, 겨울 대형 니트 외투   \n",
       "2                  클래식 대용량 접이식 에코 쇼핑 숄더백   \n",
       "3       CEEKAY 체인 크로스바디 여성용 소형 향수 스타일 가방   \n",
       "4              숲 색감 빈티지 여성용 배낭, 중고생 패션가방   \n",
       "\n",
       "                                detailed_description  \\\n",
       "0  눈길 자전거는 초광폭 4.0 타이어를 장착하여 눈길과 진흙길에서도 뛰어난 안정성과 ...   \n",
       "1  2023년 신상으로 출시된 이 한국 양모 카디건은 가을과 겨울에 딱 맞는 패셔너블한...   \n",
       "2  고유화 월계화 디자인이 돋보이는 클래식한 접이식 천 가방으로, 어디에서나 편안하게 ...   \n",
       "3  CEEKAY 소형 향수 스타일의 체인 백은 고급스러운 질감과 독특한 디자인으로 여성...   \n",
       "4  NR 브랜드의 숲느낌을 담은 퓨어 컬러 빈티지 배낭은 중고등학생 여성들에게 안성맞춤...   \n",
       "\n",
       "                             related_search_keywords  \n",
       "0  [눈길자전거, 초광폭타이어자전거, 변속자전거, 성인용자전거, 학생용자전거, 남녀공용...  \n",
       "1  [여성양모카디건, 2023가을겨울신상, 한국패션니트, 느슨한카디건, 두꺼운니트카디건...  \n",
       "2  [에코백 추천, 접이식 쇼핑백, 대용량 에코백, 월계수 패턴 가방, 클래식 천 가방...  \n",
       "3  [여성 크로스바디 백, CEEKAY 체인 백, 소형 향수 스타일 가방, 고급 여성용...  \n",
       "4  [여성용배낭, 빈티지배낭, 중학생배낭, 고등학생배낭, 한국스타일배낭, 패션배낭, 숲...  "
      ]
     },
     "execution_count": 99,
     "metadata": {},
     "output_type": "execute_result"
    }
   ],
   "source": [
    "base_df.head()"
   ]
  },
  {
   "cell_type": "code",
   "execution_count": 100,
   "metadata": {},
   "outputs": [],
   "source": [
    "title_data = []\n",
    "description_data = []\n",
    "keywords_data = []\n",
    "\n",
    "for index, row in base_df.iterrows():\n",
    "    title_data.append({'preprocessed_input': '<s>' + pro_ti_inst + row['raw_source'] + row['product_title'] + \"</s>\"})\n",
    "    description_data.append({'preprocessed_input': '<s>' + de_des_inst + row['raw_source'] + row['detailed_description'] + \"</s>\"})\n",
    "    keywords_data.append({'preprocessed_input': '<s>' + rel_sk_inst + row['raw_source'] + row['related_search_keywords'] + \"</s>\"})\n",
    "\n",
    "\n",
    "title_df = pd.DataFrame(title_data)\n",
    "description_df = pd.DataFrame(description_data)\n",
    "keywords_df = pd.DataFrame(keywords_data)"
   ]
  },
  {
   "cell_type": "code",
   "execution_count": 101,
   "metadata": {},
   "outputs": [],
   "source": [
    "train_title_df, test_title_df = train_test_split(title_df, test_size=0.25, random_state=42)\n",
    "train_description_df, test_description_df = train_test_split(description_df, test_size=0.25, random_state=43)\n",
    "train_keywords_df, test_keywords_df = train_test_split(keywords_df, test_size=0.25, random_state=44)\n"
   ]
  },
  {
   "cell_type": "code",
   "execution_count": 102,
   "metadata": {},
   "outputs": [],
   "source": [
    "train_df = pd.concat([train_title_df, train_description_df, train_keywords_df])\n",
    "test_df = pd.concat([test_title_df, test_description_df, test_keywords_df])"
   ]
  },
  {
   "cell_type": "code",
   "execution_count": 103,
   "metadata": {},
   "outputs": [],
   "source": [
    "train_df = train_df.sample(frac=1, random_state=42).reset_index(drop=True)\n",
    "test_df = test_df.sample(frac=1, random_state=42).reset_index(drop=True)"
   ]
  },
  {
   "cell_type": "code",
   "execution_count": 104,
   "metadata": {},
   "outputs": [],
   "source": [
    "#train_df.to_csv('./data/base0518_train2.csv', index=False, encoding='utf-8')\n",
    "#test_df.to_csv('./data/base0518_test2.csv', index=False, encoding='utf-8')"
   ]
  },
  {
   "cell_type": "code",
   "execution_count": 105,
   "metadata": {},
   "outputs": [],
   "source": [
    "train_df, val_df = train_test_split(train_df, test_size=0.1, random_state=42)  # 10% of train set for validation\n",
    "#val_df.to_csv('./data/base0518_val2.csv', index=False, encoding='utf-8')"
   ]
  },
  {
   "cell_type": "markdown",
   "metadata": {},
   "source": [
    "Feature dataset에 대해서도 반복\n"
   ]
  },
  {
   "cell_type": "code",
   "execution_count": 106,
   "metadata": {},
   "outputs": [],
   "source": [
    "title_data = []\n",
    "description_data = []\n",
    "keywords_data = []\n",
    "\n",
    "for index, row in feature_df.iterrows():\n",
    "    title_data.append({'preprocessed_input': '<s>' + pro_ti_inst + row['raw_source'] + row['product_title'] + \"</s>\"})\n",
    "    description_data.append({'preprocessed_input': '<s>' + de_des_inst + row['raw_source'] + row['detailed_description'] + \"</s>\"})\n",
    "    keywords_data.append({'preprocessed_input': '<s>' + rel_sk_inst + row['raw_source'] + row['related_search_keywords'] + \"</s>\"})\n",
    "\n",
    "\n",
    "title_df = pd.DataFrame(title_data)\n",
    "description_df = pd.DataFrame(description_data)\n",
    "keywords_df = pd.DataFrame(keywords_data)"
   ]
  },
  {
   "cell_type": "code",
   "execution_count": 107,
   "metadata": {},
   "outputs": [],
   "source": [
    "train_title_df, test_title_df = train_test_split(title_df, test_size=0.25, random_state=42)\n",
    "train_description_df, test_description_df = train_test_split(description_df, test_size=0.25, random_state=43)\n",
    "train_keywords_df, test_keywords_df = train_test_split(keywords_df, test_size=0.25, random_state=44)\n"
   ]
  },
  {
   "cell_type": "code",
   "execution_count": 108,
   "metadata": {},
   "outputs": [],
   "source": [
    "train_df = pd.concat([train_title_df, train_description_df, train_keywords_df])\n",
    "test_df = pd.concat([test_title_df, test_description_df, test_keywords_df])"
   ]
  },
  {
   "cell_type": "code",
   "execution_count": 109,
   "metadata": {},
   "outputs": [
    {
     "data": {
      "text/html": [
       "<div>\n",
       "<style scoped>\n",
       "    .dataframe tbody tr th:only-of-type {\n",
       "        vertical-align: middle;\n",
       "    }\n",
       "\n",
       "    .dataframe tbody tr th {\n",
       "        vertical-align: top;\n",
       "    }\n",
       "\n",
       "    .dataframe thead th {\n",
       "        text-align: right;\n",
       "    }\n",
       "</style>\n",
       "<table border=\"1\" class=\"dataframe\">\n",
       "  <thead>\n",
       "    <tr style=\"text-align: right;\">\n",
       "      <th></th>\n",
       "      <th>preprocessed_input</th>\n",
       "    </tr>\n",
       "  </thead>\n",
       "  <tbody>\n",
       "    <tr>\n",
       "      <th>1719</th>\n",
       "      <td>&lt;s&gt;[INST]Given a raw source for a product, gen...</td>\n",
       "    </tr>\n",
       "    <tr>\n",
       "      <th>464</th>\n",
       "      <td>&lt;s&gt;[INST]Given a raw source for a product, gen...</td>\n",
       "    </tr>\n",
       "    <tr>\n",
       "      <th>988</th>\n",
       "      <td>&lt;s&gt;[INST]Given a raw source for a product, gen...</td>\n",
       "    </tr>\n",
       "    <tr>\n",
       "      <th>1118</th>\n",
       "      <td>&lt;s&gt;[INST]Given a raw source for a product, gen...</td>\n",
       "    </tr>\n",
       "    <tr>\n",
       "      <th>1383</th>\n",
       "      <td>&lt;s&gt;[INST]Given a raw source for a product, gen...</td>\n",
       "    </tr>\n",
       "  </tbody>\n",
       "</table>\n",
       "</div>"
      ],
      "text/plain": [
       "                                     preprocessed_input\n",
       "1719  <s>[INST]Given a raw source for a product, gen...\n",
       "464   <s>[INST]Given a raw source for a product, gen...\n",
       "988   <s>[INST]Given a raw source for a product, gen...\n",
       "1118  <s>[INST]Given a raw source for a product, gen...\n",
       "1383  <s>[INST]Given a raw source for a product, gen..."
      ]
     },
     "execution_count": 109,
     "metadata": {},
     "output_type": "execute_result"
    }
   ],
   "source": [
    "train_df.head()"
   ]
  },
  {
   "cell_type": "code",
   "execution_count": 110,
   "metadata": {},
   "outputs": [],
   "source": [
    "train_df = train_df.sample(frac=1, random_state=42).reset_index(drop=True)\n",
    "test_df = test_df.sample(frac=1, random_state=42).reset_index(drop=True)"
   ]
  },
  {
   "cell_type": "code",
   "execution_count": 111,
   "metadata": {},
   "outputs": [],
   "source": [
    "#train_df.to_csv('./data/feature0518_train2.csv', index=False, encoding='utf-8')\n",
    "#test_df.to_csv('./data/feature0518_test2.csv', index=False, encoding='utf-8')"
   ]
  },
  {
   "cell_type": "code",
   "execution_count": 112,
   "metadata": {},
   "outputs": [],
   "source": [
    "train_df, val_df = train_test_split(train_df, test_size=0.1, random_state=42)  # 10% of train set for validation\n",
    "#val_df.to_csv('./data/feature0518_val2.csv', index=False, encoding='utf-8')"
   ]
  },
  {
   "cell_type": "markdown",
   "metadata": {},
   "source": [
    "다른 방식"
   ]
  },
  {
   "cell_type": "code",
   "execution_count": 114,
   "metadata": {},
   "outputs": [],
   "source": [
    "title_data = []\n",
    "description_data = []\n",
    "keywords_data = []\n",
    "\n",
    "for index, row in base_df.iterrows():\n",
    "    title_data.append({'input': pro_ti_inst + row['raw_source'], 'output': row['product_title']})\n",
    "    description_data.append({'input': de_des_inst + row['raw_source'], 'output': row['detailed_description']})\n",
    "    keywords_data.append({'input': rel_sk_inst + row['raw_source'], 'output': row['related_search_keywords']})\n",
    "\n",
    "\n",
    "title_df = pd.DataFrame(title_data)\n",
    "description_df = pd.DataFrame(description_data)\n",
    "keywords_df = pd.DataFrame(keywords_data)"
   ]
  },
  {
   "cell_type": "code",
   "execution_count": 115,
   "metadata": {},
   "outputs": [
    {
     "data": {
      "text/html": [
       "<div>\n",
       "<style scoped>\n",
       "    .dataframe tbody tr th:only-of-type {\n",
       "        vertical-align: middle;\n",
       "    }\n",
       "\n",
       "    .dataframe tbody tr th {\n",
       "        vertical-align: top;\n",
       "    }\n",
       "\n",
       "    .dataframe thead th {\n",
       "        text-align: right;\n",
       "    }\n",
       "</style>\n",
       "<table border=\"1\" class=\"dataframe\">\n",
       "  <thead>\n",
       "    <tr style=\"text-align: right;\">\n",
       "      <th></th>\n",
       "      <th>input</th>\n",
       "      <th>output</th>\n",
       "    </tr>\n",
       "  </thead>\n",
       "  <tbody>\n",
       "    <tr>\n",
       "      <th>0</th>\n",
       "      <td>[INST]Given a raw source for a product, genera...</td>\n",
       "      <td>초광폭 타이어 4.0 눈길용 자전거 남녀공용 마운틴바이크</td>\n",
       "    </tr>\n",
       "    <tr>\n",
       "      <th>1</th>\n",
       "      <td>[INST]Given a raw source for a product, genera...</td>\n",
       "      <td>2023 신상 여성용 느슨한 핏 양모 카디건, 겨울 대형 니트 외투</td>\n",
       "    </tr>\n",
       "    <tr>\n",
       "      <th>2</th>\n",
       "      <td>[INST]Given a raw source for a product, genera...</td>\n",
       "      <td>클래식 대용량 접이식 에코 쇼핑 숄더백</td>\n",
       "    </tr>\n",
       "    <tr>\n",
       "      <th>3</th>\n",
       "      <td>[INST]Given a raw source for a product, genera...</td>\n",
       "      <td>CEEKAY 체인 크로스바디 여성용 소형 향수 스타일 가방</td>\n",
       "    </tr>\n",
       "    <tr>\n",
       "      <th>4</th>\n",
       "      <td>[INST]Given a raw source for a product, genera...</td>\n",
       "      <td>숲 색감 빈티지 여성용 배낭, 중고생 패션가방</td>\n",
       "    </tr>\n",
       "  </tbody>\n",
       "</table>\n",
       "</div>"
      ],
      "text/plain": [
       "                                               input  \\\n",
       "0  [INST]Given a raw source for a product, genera...   \n",
       "1  [INST]Given a raw source for a product, genera...   \n",
       "2  [INST]Given a raw source for a product, genera...   \n",
       "3  [INST]Given a raw source for a product, genera...   \n",
       "4  [INST]Given a raw source for a product, genera...   \n",
       "\n",
       "                                  output  \n",
       "0        초광폭 타이어 4.0 눈길용 자전거 남녀공용 마운틴바이크  \n",
       "1  2023 신상 여성용 느슨한 핏 양모 카디건, 겨울 대형 니트 외투  \n",
       "2                  클래식 대용량 접이식 에코 쇼핑 숄더백  \n",
       "3       CEEKAY 체인 크로스바디 여성용 소형 향수 스타일 가방  \n",
       "4              숲 색감 빈티지 여성용 배낭, 중고생 패션가방  "
      ]
     },
     "execution_count": 115,
     "metadata": {},
     "output_type": "execute_result"
    }
   ],
   "source": [
    "title_df.head()"
   ]
  },
  {
   "cell_type": "code",
   "execution_count": null,
   "metadata": {},
   "outputs": [],
   "source": []
  }
 ],
 "metadata": {
  "kernelspec": {
   "display_name": "Python 3.11.5 64-bit ('3.11.5')",
   "language": "python",
   "name": "python3"
  },
  "language_info": {
   "codemirror_mode": {
    "name": "ipython",
    "version": 3
   },
   "file_extension": ".py",
   "mimetype": "text/x-python",
   "name": "python",
   "nbconvert_exporter": "python",
   "pygments_lexer": "ipython3",
   "version": "3.11.5"
  },
  "orig_nbformat": 4,
  "vscode": {
   "interpreter": {
    "hash": "591923e582065aff74a93a90fba3a50741a602c305cc24a3d29844b7d540dc83"
   }
  }
 },
 "nbformat": 4,
 "nbformat_minor": 2
}
